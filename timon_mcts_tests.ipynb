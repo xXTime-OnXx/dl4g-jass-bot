{
 "cells": [
  {
   "cell_type": "markdown",
   "id": "4e81b25c",
   "metadata": {},
   "source": [
    "# DL4G - Jass Introduction\n",
    "\n",
    "In this exercise we will look at some properties of the jass kit environment that can be used to develop your own jass agent.\n",
    "\n",
    "You will need to have numpy installed, as well as the jass-kit environment."
   ]
  },
  {
   "cell_type": "code",
   "execution_count": null,
   "id": "0d71e284",
   "metadata": {},
   "outputs": [],
   "source": [
    "import numpy as np\n",
    "\n",
    "from jass.game.game_util import *\n",
    "from jass.game.game_state_util import *\n",
    "from jass.game.game_sim import GameSim\n",
    "from jass.game.game_observation import GameObservation\n",
    "from jass.game.const import *\n",
    "from jass.game.rule_schieber import RuleSchieber\n",
    "from jass.agents.agent import Agent\n",
    "from jass.agents.agent_random_schieber import AgentRandomSchieber\n",
    "from jass.arena.arena import Arena\n",
    "\n",
    "from mcts_agent import AgentTrumpMCTSSchieber\n",
    "from trump_agent import AgentTrumpSchieber\n"
   ]
  },
  {
   "cell_type": "code",
   "execution_count": 2,
   "id": "758b6891",
   "metadata": {},
   "outputs": [],
   "source": [
    "np.random.seed(1)"
   ]
  },
  {
   "cell_type": "code",
   "execution_count": null,
   "id": "18a534f5-ebcb-4910-a6f9-417f4c946b3b",
   "metadata": {},
   "outputs": [],
   "source": [
    "\n",
    "rule = RuleSchieber()\n",
    "game = GameSim(rule=rule)\n",
    "agent = AgentTrumpMCTSSchieber()\n",
    "\n",
    "game.init_from_cards(hands=deal_random_hand(), dealer=NORTH)\n",
    "obs = game.get_observation()\n",
    "trump = agent.action_trump(obs)\n",
    "game.action_trump(trump)\n",
    "\n",
    "while not game.is_done():\n",
    "    game.action_play_card(agent.action_play_card(game.get_observation()))\n",
    "\n",
    "print(game.state.points)\n"
   ]
  },
  {
   "cell_type": "code",
   "execution_count": null,
   "id": "f63a4cc6-fdc7-4568-a53d-781f18ce89bf",
   "metadata": {},
   "outputs": [
    {
     "name": "stdout",
     "output_type": "stream",
     "text": [
      "[........................................]   10/  10 games played\n",
      "Team 0 (MCTSAgent) Total Points: 1033.0\n",
      "Team 1 (TrumpSchieberAgent) Total Points: 537.0\n",
      "Team 0 (MCTSAgent) Wins: 9\n",
      "Team 1 (TrumpSchieberAgent) Wins: 1\n"
     ]
    }
   ],
   "source": [
    "from jass.arena.arena import Arena\n",
    "\n",
    "# Assume MCTSAgent and MyAgent are already defined and implemented\n",
    "\n",
    "# Define the number of games to simulate\n",
    "num_games = 10\n",
    "\n",
    "# Initialize the Arena\n",
    "arena = Arena(nr_games_to_play=num_games)\n",
    "\n",
    "# Set up the players: Teams 0 and 1 each have 2 players\n",
    "# Here, team 0 consists of MCTSAgent, and team 1 consists of MyAgent\n",
    "arena.set_players(AgentTrumpMCTSSchieber(), AgentTrumpSchieber(), AgentTrumpMCTSSchieber(), AgentTrumpSchieber())\n",
    "\n",
    "# Play all the games\n",
    "arena.play_all_games()\n",
    "\n",
    "# Retrieve and display the points scored by each team across all games\n",
    "team_0_points = arena.points_team_0.sum()\n",
    "team_1_points = arena.points_team_1.sum()\n",
    "\n",
    "print(f\"Team 0 (MCTSAgent) Total Points: {team_0_points}\")\n",
    "print(f\"Team 1 (TrumpSchieberAgent) Total Points: {team_1_points}\")\n",
    "\n",
    "# Optionally, you can calculate win ratios\n",
    "team_0_wins = (arena.points_team_0 > arena.points_team_1).sum()\n",
    "team_1_wins = (arena.points_team_1 > arena.points_team_0).sum()\n",
    "\n",
    "print(f\"Team 0 (MCTSAgent) Wins: {team_0_wins}\")\n",
    "print(f\"Team 1 (TrumpSchieberAgent) Wins: {team_1_wins}\")\n"
   ]
  },
  {
   "cell_type": "code",
   "execution_count": null,
   "id": "a3392fea-5456-46ee-92ee-cc2b05b5e2e4",
   "metadata": {},
   "outputs": [],
   "source": [
    "convert_one_hot_encoded_cards_to_int_encoded_list([1, 1, 0, 0, 0, 1, 0, 0, 1, 1, 0, 1, 1, 0, 0, 1, 1, 0, 0, 0, 0, 0,\n",
    "       0, 0, 0, 0, 0, 0, 0, 0, 0, 0, 0, 0, 0, 0])"
   ]
  },
  {
   "cell_type": "code",
   "execution_count": null,
   "id": "85beae48-6a1b-4ab7-9675-7875a1a7125f",
   "metadata": {},
   "outputs": [],
   "source": [
    "convert_one_hot_encoded_cards_to_int_encoded_list([1, 1, 0, 0, 0, 1, 0, 0, 1, 1, 0, 1, 1, 0, 0, 1, 1, 0, 0, 0, 0, 0,\n",
    "        0, 0, 0, 0, 0, 0, 0, 0, 0, 0, 0, 0, 0, 0])"
   ]
  },
  {
   "cell_type": "code",
   "execution_count": null,
   "id": "8b2524e8-f774-49bd-9523-5c9ec58ddd39",
   "metadata": {},
   "outputs": [],
   "source": []
  }
 ],
 "metadata": {
  "kernelspec": {
   "display_name": ".venv",
   "language": "python",
   "name": "python3"
  },
  "language_info": {
   "codemirror_mode": {
    "name": "ipython",
    "version": 3
   },
   "file_extension": ".py",
   "mimetype": "text/x-python",
   "name": "python",
   "nbconvert_exporter": "python",
   "pygments_lexer": "ipython3",
   "version": "3.13.0"
  }
 },
 "nbformat": 4,
 "nbformat_minor": 5
}
