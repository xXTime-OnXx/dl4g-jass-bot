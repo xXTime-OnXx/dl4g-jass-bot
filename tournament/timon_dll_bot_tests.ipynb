{
 "cells": [
  {
   "cell_type": "markdown",
   "id": "4e81b25c",
   "metadata": {},
   "source": [
    "# DL4G - Jass Introduction\n",
    "\n",
    "In this exercise we will look at some properties of the jass kit environment that can be used to develop your own jass agent.\n",
    "\n",
    "You will need to have numpy installed, as well as the jass-kit environment."
   ]
  },
  {
   "cell_type": "code",
   "execution_count": 1,
   "id": "0d71e284",
   "metadata": {},
   "outputs": [],
   "source": [
    "import numpy as np\n",
    "\n",
    "from jass.game.game_util import *\n",
    "from jass.game.game_state_util import *\n",
    "from jass.game.game_sim import GameSim\n",
    "from jass.game.game_observation import GameObservation\n",
    "from jass.game.const import *\n",
    "from jass.game.rule_schieber import RuleSchieber\n",
    "from jass.agents.agent import Agent\n",
    "from jass.agents.agent_random_schieber import AgentRandomSchieber\n",
    "from jass.arena.arena import Arena\n",
    "\n",
    "from mcts_agent_dltrump import AgentDLTrumpMCTSSchieber\n",
    "from agent_dll_trump_card import AgentDLTrumpCardPlay\n"
   ]
  },
  {
   "cell_type": "code",
   "execution_count": 2,
   "id": "758b6891",
   "metadata": {},
   "outputs": [],
   "source": [
    "np.random.seed(1)"
   ]
  },
  {
   "cell_type": "code",
   "execution_count": 3,
   "id": "461536f1",
   "metadata": {},
   "outputs": [
    {
     "name": "stderr",
     "output_type": "stream",
     "text": [
      "/Users/timon/.pyenv/versions/3.10.16/envs/dl4g/lib/python3.10/site-packages/keras/src/layers/core/dense.py:87: UserWarning: Do not pass an `input_shape`/`input_dim` argument to a layer. When using Sequential models, prefer using an `Input(shape)` object as the first layer in the model instead.\n",
      "  super().__init__(activity_regularizer=activity_regularizer, **kwargs)\n",
      "/Users/timon/.pyenv/versions/3.10.16/envs/dl4g/lib/python3.10/site-packages/keras/src/optimizers/base_optimizer.py:86: UserWarning: Argument `decay` is no longer supported and will be ignored.\n",
      "  warnings.warn(\n",
      "WARNING:absl:Compiled the loaded model, but the compiled metrics have yet to be built. `model.compile_metrics` will be empty until you train or evaluate the model.\n",
      "WARNING:absl:Error in loading the saved optimizer state. As a result, your model is starting with a freshly initialized optimizer.\n",
      "2024-12-21 12:37:47,399 - agent_dll_trump_card - DEBUG - Hand: [1 1 0 0 0 1 0 0 1 1 0 1 1 0 0 1 1 0 0 0 0 0 0 0 0 0 0 0 0 0 0 0 0 0 0 0 1]\n",
      "DEBUG:agent_dll_trump_card:Hand: [1 1 0 0 0 1 0 0 1 1 0 1 1 0 0 1 1 0 0 0 0 0 0 0 0 0 0 0 0 0 0 0 0 0 0 0 1]\n"
     ]
    },
    {
     "name": "stdout",
     "output_type": "stream",
     "text": [
      "\u001b[1m1/1\u001b[0m \u001b[32m━━━━━━━━━━━━━━━━━━━━\u001b[0m\u001b[37m\u001b[0m \u001b[1m0s\u001b[0m 27ms/step\n"
     ]
    },
    {
     "name": "stderr",
     "output_type": "stream",
     "text": [
      "2024-12-21 12:37:47,447 - agent_dll_trump_card - DEBUG - Model probabilities: [[3.7091573e-05 1.9739336e-01 1.3125566e-05 2.7095448e-05 8.0142564e-01\n",
      "  1.1032320e-03 3.3554431e-07]]\n",
      "DEBUG:agent_dll_trump_card:Model probabilities: [[3.7091573e-05 1.9739336e-01 1.3125566e-05 2.7095448e-05 8.0142564e-01\n",
      "  1.1032320e-03 3.3554431e-07]]\n",
      "2024-12-21 12:37:47,448 - agent_dll_trump_card - DEBUG - Filtered scores: [np.float32(3.7091573e-05), np.float32(0.19739336), np.float32(1.3125566e-05), np.float32(2.7095448e-05), -1, -1, np.float32(3.355443e-07)]\n",
      "DEBUG:agent_dll_trump_card:Filtered scores: [np.float32(3.7091573e-05), np.float32(0.19739336), np.float32(1.3125566e-05), np.float32(2.7095448e-05), -1, -1, np.float32(3.355443e-07)]\n",
      "2024-12-21 12:37:47,448 - agent_dll_trump_card - DEBUG - Highest score index: 1\n",
      "DEBUG:agent_dll_trump_card:Highest score index: 1\n",
      "2024-12-21 12:37:47,455 - agent_dll_trump_card - DEBUG - Highest score index: [np.str_('HJ')]\n",
      "DEBUG:agent_dll_trump_card:Highest score index: [np.str_('HJ')]\n",
      "2024-12-21 12:37:47,458 - agent_dll_trump_card - DEBUG - Highest score index: [np.str_('HK')]\n",
      "DEBUG:agent_dll_trump_card:Highest score index: [np.str_('HK')]\n",
      "2024-12-21 12:37:47,461 - agent_dll_trump_card - DEBUG - Highest score index: [np.str_('H7')]\n",
      "DEBUG:agent_dll_trump_card:Highest score index: [np.str_('H7')]\n",
      "2024-12-21 12:37:47,463 - agent_dll_trump_card - DEBUG - Highest score index: [np.str_('D7')]\n",
      "DEBUG:agent_dll_trump_card:Highest score index: [np.str_('D7')]\n",
      "2024-12-21 12:37:47,466 - agent_dll_trump_card - DEBUG - Highest score index: [np.str_('DJ')]\n",
      "DEBUG:agent_dll_trump_card:Highest score index: [np.str_('DJ')]\n",
      "2024-12-21 12:37:47,468 - agent_dll_trump_card - DEBUG - Highest score index: [np.str_('S6')]\n",
      "DEBUG:agent_dll_trump_card:Highest score index: [np.str_('S6')]\n",
      "2024-12-21 12:37:47,471 - agent_dll_trump_card - DEBUG - Highest score index: [np.str_('SJ')]\n",
      "DEBUG:agent_dll_trump_card:Highest score index: [np.str_('SJ')]\n",
      "2024-12-21 12:37:47,473 - agent_dll_trump_card - DEBUG - Highest score index: [np.str_('D6')]\n",
      "DEBUG:agent_dll_trump_card:Highest score index: [np.str_('D6')]\n",
      "2024-12-21 12:37:47,476 - agent_dll_trump_card - DEBUG - Highest score index: [np.str_('SA')]\n",
      "DEBUG:agent_dll_trump_card:Highest score index: [np.str_('SA')]\n",
      "2024-12-21 12:37:47,479 - agent_dll_trump_card - DEBUG - Highest score index: [np.str_('S10')]\n",
      "DEBUG:agent_dll_trump_card:Highest score index: [np.str_('S10')]\n",
      "2024-12-21 12:37:47,481 - agent_dll_trump_card - DEBUG - Highest score index: [np.str_('S7')]\n",
      "DEBUG:agent_dll_trump_card:Highest score index: [np.str_('S7')]\n",
      "2024-12-21 12:37:47,484 - agent_dll_trump_card - DEBUG - Highest score index: [np.str_('S9')]\n",
      "DEBUG:agent_dll_trump_card:Highest score index: [np.str_('S9')]\n",
      "2024-12-21 12:37:47,486 - agent_dll_trump_card - DEBUG - Highest score index: [np.str_('DA')]\n",
      "DEBUG:agent_dll_trump_card:Highest score index: [np.str_('DA')]\n",
      "2024-12-21 12:37:47,489 - agent_dll_trump_card - DEBUG - Highest score index: [np.str_('SQ')]\n",
      "DEBUG:agent_dll_trump_card:Highest score index: [np.str_('SQ')]\n",
      "2024-12-21 12:37:47,491 - agent_dll_trump_card - DEBUG - Highest score index: [np.str_('D9')]\n",
      "DEBUG:agent_dll_trump_card:Highest score index: [np.str_('D9')]\n",
      "2024-12-21 12:37:47,494 - agent_dll_trump_card - DEBUG - Highest score index: [np.str_('CJ')]\n",
      "DEBUG:agent_dll_trump_card:Highest score index: [np.str_('CJ')]\n",
      "2024-12-21 12:37:47,497 - agent_dll_trump_card - DEBUG - Highest score index: [np.str_('DK')]\n",
      "DEBUG:agent_dll_trump_card:Highest score index: [np.str_('DK')]\n",
      "2024-12-21 12:37:47,499 - agent_dll_trump_card - DEBUG - Highest score index: [np.str_('C6')]\n",
      "DEBUG:agent_dll_trump_card:Highest score index: [np.str_('C6')]\n",
      "2024-12-21 12:37:47,502 - agent_dll_trump_card - DEBUG - Highest score index: [np.str_('CA')]\n",
      "DEBUG:agent_dll_trump_card:Highest score index: [np.str_('CA')]\n",
      "2024-12-21 12:37:47,504 - agent_dll_trump_card - DEBUG - Highest score index: [np.str_('DQ')]\n",
      "DEBUG:agent_dll_trump_card:Highest score index: [np.str_('DQ')]\n",
      "2024-12-21 12:37:47,507 - agent_dll_trump_card - DEBUG - Highest score index: [np.str_('C7')]\n",
      "DEBUG:agent_dll_trump_card:Highest score index: [np.str_('C7')]\n",
      "2024-12-21 12:37:47,509 - agent_dll_trump_card - DEBUG - Highest score index: [np.str_('H8')]\n",
      "DEBUG:agent_dll_trump_card:Highest score index: [np.str_('H8')]\n",
      "2024-12-21 12:37:47,512 - agent_dll_trump_card - DEBUG - Highest score index: [np.str_('HQ')]\n",
      "DEBUG:agent_dll_trump_card:Highest score index: [np.str_('HQ')]\n",
      "2024-12-21 12:37:47,514 - agent_dll_trump_card - DEBUG - Highest score index: [np.str_('C9')]\n",
      "DEBUG:agent_dll_trump_card:Highest score index: [np.str_('C9')]\n",
      "2024-12-21 12:37:47,516 - agent_dll_trump_card - DEBUG - Highest score index: [np.str_('C8')]\n",
      "DEBUG:agent_dll_trump_card:Highest score index: [np.str_('C8')]\n",
      "2024-12-21 12:37:47,519 - agent_dll_trump_card - DEBUG - Highest score index: [np.str_('CQ')]\n",
      "DEBUG:agent_dll_trump_card:Highest score index: [np.str_('CQ')]\n"
     ]
    },
    {
     "name": "stdout",
     "output_type": "stream",
     "text": [
      "[ 41 116]\n"
     ]
    }
   ],
   "source": [
    "rule = RuleSchieber()\n",
    "game = GameSim(rule=rule)\n",
    "agent = AgentDLTrumpCardPlay()\n",
    "\n",
    "game.init_from_cards(hands=deal_random_hand(), dealer=NORTH)\n",
    "obs = game.get_observation()\n",
    "trump = agent.action_trump(obs)\n",
    "game.action_trump(trump)\n",
    "\n",
    "while not game.is_done():\n",
    "    game.action_play_card(agent.action_play_card(game.get_observation()))\n",
    "\n",
    "print(game.state.points)"
   ]
  },
  {
   "cell_type": "code",
   "execution_count": 7,
   "id": "f63a4cc6-fdc7-4568-a53d-781f18ce89bf",
   "metadata": {},
   "outputs": [
    {
     "name": "stderr",
     "output_type": "stream",
     "text": [
      "WARNING:absl:Compiled the loaded model, but the compiled metrics have yet to be built. `model.compile_metrics` will be empty until you train or evaluate the model.\n",
      "WARNING:absl:Error in loading the saved optimizer state. As a result, your model is starting with a freshly initialized optimizer.\n",
      "WARNING:absl:Compiled the loaded model, but the compiled metrics have yet to be built. `model.compile_metrics` will be empty until you train or evaluate the model.\n",
      "WARNING:absl:Error in loading the saved optimizer state. As a result, your model is starting with a freshly initialized optimizer.\n",
      "2024-12-21 12:38:20,009 - agent_dll_trump_card - DEBUG - Highest score index: [np.str_('SQ')]\n",
      "DEBUG:agent_dll_trump_card:Highest score index: [np.str_('SQ')]\n",
      "2024-12-21 12:38:20,012 - agent_dll_trump_card - DEBUG - Highest score index: [np.str_('S6')]\n",
      "DEBUG:agent_dll_trump_card:Highest score index: [np.str_('S6')]\n",
      "2024-12-21 12:38:20,014 - agent_dll_trump_card - DEBUG - Highest score index: [np.str_('C6')]\n",
      "DEBUG:agent_dll_trump_card:Highest score index: [np.str_('C6')]\n",
      "2024-12-21 12:38:20,017 - agent_dll_trump_card - DEBUG - Highest score index: [np.str_('C7')]\n",
      "DEBUG:agent_dll_trump_card:Highest score index: [np.str_('C7')]\n",
      "2024-12-21 12:38:20,019 - agent_dll_trump_card - DEBUG - Highest score index: [np.str_('D9')]\n",
      "DEBUG:agent_dll_trump_card:Highest score index: [np.str_('D9')]\n",
      "2024-12-21 12:38:20,022 - agent_dll_trump_card - DEBUG - Highest score index: [np.str_('C6')]\n",
      "DEBUG:agent_dll_trump_card:Highest score index: [np.str_('C6')]\n"
     ]
    },
    {
     "ename": "AssertionError",
     "evalue": "Invalid card played!",
     "output_type": "error",
     "traceback": [
      "\u001b[0;31m---------------------------------------------------------------------------\u001b[0m",
      "\u001b[0;31mAssertionError\u001b[0m                            Traceback (most recent call last)",
      "Cell \u001b[0;32mIn[7], line 16\u001b[0m\n\u001b[1;32m     13\u001b[0m arena\u001b[38;5;241m.\u001b[39mset_players(AgentDLTrumpCardPlay(), AgentRandomSchieber(), AgentDLTrumpCardPlay(), AgentRandomSchieber())\n\u001b[1;32m     15\u001b[0m \u001b[38;5;66;03m# Play all the games\u001b[39;00m\n\u001b[0;32m---> 16\u001b[0m \u001b[43marena\u001b[49m\u001b[38;5;241;43m.\u001b[39;49m\u001b[43mplay_all_games\u001b[49m\u001b[43m(\u001b[49m\u001b[43m)\u001b[49m\n\u001b[1;32m     18\u001b[0m \u001b[38;5;66;03m# Retrieve and display the points scored by each team across all games\u001b[39;00m\n\u001b[1;32m     19\u001b[0m team_0_points \u001b[38;5;241m=\u001b[39m arena\u001b[38;5;241m.\u001b[39mpoints_team_0\u001b[38;5;241m.\u001b[39msum()\n",
      "File \u001b[0;32m~/.pyenv/versions/3.10.16/envs/dl4g/lib/python3.10/site-packages/jass/arena/arena.py:247\u001b[0m, in \u001b[0;36mArena.play_all_games\u001b[0;34m(self)\u001b[0m\n\u001b[1;32m    245\u001b[0m dealer \u001b[38;5;241m=\u001b[39m NORTH\n\u001b[1;32m    246\u001b[0m \u001b[38;5;28;01mfor\u001b[39;00m game_id \u001b[38;5;129;01min\u001b[39;00m \u001b[38;5;28mrange\u001b[39m(\u001b[38;5;28mself\u001b[39m\u001b[38;5;241m.\u001b[39m_nr_games_to_play):\n\u001b[0;32m--> 247\u001b[0m     \u001b[38;5;28;43mself\u001b[39;49m\u001b[38;5;241;43m.\u001b[39;49m\u001b[43mplay_game\u001b[49m\u001b[43m(\u001b[49m\u001b[43mdealer\u001b[49m\u001b[38;5;241;43m=\u001b[39;49m\u001b[43mdealer\u001b[49m\u001b[43m)\u001b[49m\n\u001b[1;32m    248\u001b[0m     \u001b[38;5;28;01mif\u001b[39;00m \u001b[38;5;28mself\u001b[39m\u001b[38;5;241m.\u001b[39mnr_games_played \u001b[38;5;241m%\u001b[39m \u001b[38;5;28mself\u001b[39m\u001b[38;5;241m.\u001b[39m_print_every_x_games \u001b[38;5;241m==\u001b[39m \u001b[38;5;241m0\u001b[39m:\n\u001b[1;32m    249\u001b[0m         points_to_write \u001b[38;5;241m=\u001b[39m \u001b[38;5;28mint\u001b[39m(\u001b[38;5;28mself\u001b[39m\u001b[38;5;241m.\u001b[39mnr_games_played \u001b[38;5;241m/\u001b[39m \u001b[38;5;28mself\u001b[39m\u001b[38;5;241m.\u001b[39m_nr_games_to_play \u001b[38;5;241m*\u001b[39m \u001b[38;5;241m40\u001b[39m)\n",
      "File \u001b[0;32m~/.pyenv/versions/3.10.16/envs/dl4g/lib/python3.10/site-packages/jass/arena/arena.py:219\u001b[0m, in \u001b[0;36mArena.play_game\u001b[0;34m(self, dealer)\u001b[0m\n\u001b[1;32m    215\u001b[0m     card_action \u001b[38;5;241m=\u001b[39m \u001b[38;5;28mself\u001b[39m\u001b[38;5;241m.\u001b[39m_players[\u001b[38;5;28mself\u001b[39m\u001b[38;5;241m.\u001b[39m_game\u001b[38;5;241m.\u001b[39mstate\u001b[38;5;241m.\u001b[39mplayer]\u001b[38;5;241m.\u001b[39maction_play_card(obs)\n\u001b[1;32m    216\u001b[0m     \u001b[38;5;28;01mif\u001b[39;00m \u001b[38;5;28mself\u001b[39m\u001b[38;5;241m.\u001b[39m_check_moves_validity:\n\u001b[1;32m    217\u001b[0m         \u001b[38;5;28;01massert\u001b[39;00m card_action \u001b[38;5;129;01min\u001b[39;00m np\u001b[38;5;241m.\u001b[39mflatnonzero(\u001b[38;5;28mself\u001b[39m\u001b[38;5;241m.\u001b[39m_game\u001b[38;5;241m.\u001b[39mrule\u001b[38;5;241m.\u001b[39mget_valid_actions_from_state(obs)) \\\n\u001b[1;32m    218\u001b[0m             \u001b[38;5;28;01mif\u001b[39;00m \u001b[38;5;28mself\u001b[39m\u001b[38;5;241m.\u001b[39m_cheating_mode \u001b[38;5;28;01melse\u001b[39;00m \\\n\u001b[0;32m--> 219\u001b[0m             card_action \u001b[38;5;129;01min\u001b[39;00m np\u001b[38;5;241m.\u001b[39mflatnonzero(\u001b[38;5;28mself\u001b[39m\u001b[38;5;241m.\u001b[39m_game\u001b[38;5;241m.\u001b[39mrule\u001b[38;5;241m.\u001b[39mget_valid_cards_from_obs(obs)), \u001b[38;5;124m'\u001b[39m\u001b[38;5;124mInvalid card played!\u001b[39m\u001b[38;5;124m'\u001b[39m\n\u001b[1;32m    220\u001b[0m     \u001b[38;5;28mself\u001b[39m\u001b[38;5;241m.\u001b[39m_game\u001b[38;5;241m.\u001b[39maction_play_card(card_action)\n\u001b[1;32m    222\u001b[0m \u001b[38;5;66;03m# update results\u001b[39;00m\n",
      "\u001b[0;31mAssertionError\u001b[0m: Invalid card played!"
     ]
    }
   ],
   "source": [
    "from jass.arena.arena import Arena\n",
    "\n",
    "# Assume MCTSAgent and MyAgent are already defined and implemented\n",
    "\n",
    "# Define the number of games to simulate\n",
    "num_games = 1\n",
    "\n",
    "# Initialize the Arena\n",
    "arena = Arena(nr_games_to_play=num_games)\n",
    "\n",
    "# Set up the players: Teams 0 and 1 each have 2 players\n",
    "# Here, team 0 consists of MCTSAgent, and team 1 consists of MyAgent\n",
    "arena.set_players(AgentDLTrumpCardPlay(), AgentRandomSchieber(), AgentDLTrumpCardPlay(), AgentRandomSchieber())\n",
    "\n",
    "# Play all the games\n",
    "arena.play_all_games()\n",
    "\n",
    "# Retrieve and display the points scored by each team across all games\n",
    "team_0_points = arena.points_team_0.sum()\n",
    "team_1_points = arena.points_team_1.sum()\n",
    "\n",
    "print(f\"Team 0 (MCTSAgent) Total Points: {team_0_points}\")\n",
    "print(f\"Team 1 (TrumpSchieberAgent) Total Points: {team_1_points}\")\n",
    "\n",
    "# Optionally, you can calculate win ratios\n",
    "team_0_wins = (arena.points_team_0 > arena.points_team_1).sum()\n",
    "team_1_wins = (arena.points_team_1 > arena.points_team_0).sum()\n",
    "\n",
    "print(f\"Team 0 (MCTSAgent) Wins: {team_0_wins}\")\n",
    "print(f\"Team 1 (TrumpSchieberAgent) Wins: {team_1_wins}\")\n"
   ]
  },
  {
   "cell_type": "code",
   "execution_count": null,
   "id": "a3392fea-5456-46ee-92ee-cc2b05b5e2e4",
   "metadata": {},
   "outputs": [],
   "source": [
    "convert_one_hot_encoded_cards_to_int_encoded_list([1, 1, 0, 0, 0, 1, 0, 0, 1, 1, 0, 1, 1, 0, 0, 1, 1, 0, 0, 0, 0, 0,\n",
    "       0, 0, 0, 0, 0, 0, 0, 0, 0, 0, 0, 0, 0, 0])"
   ]
  },
  {
   "cell_type": "code",
   "execution_count": null,
   "id": "85beae48-6a1b-4ab7-9675-7875a1a7125f",
   "metadata": {},
   "outputs": [],
   "source": [
    "convert_one_hot_encoded_cards_to_int_encoded_list([1, 1, 0, 0, 0, 1, 0, 0, 1, 1, 0, 1, 1, 0, 0, 1, 1, 0, 0, 0, 0, 0,\n",
    "        0, 0, 0, 0, 0, 0, 0, 0, 0, 0, 0, 0, 0, 0])"
   ]
  }
 ],
 "metadata": {
  "kernelspec": {
   "display_name": "dl4g",
   "language": "python",
   "name": "python3"
  },
  "language_info": {
   "codemirror_mode": {
    "name": "ipython",
    "version": 3
   },
   "file_extension": ".py",
   "mimetype": "text/x-python",
   "name": "python",
   "nbconvert_exporter": "python",
   "pygments_lexer": "ipython3",
   "version": "3.10.16"
  }
 },
 "nbformat": 4,
 "nbformat_minor": 5
}
