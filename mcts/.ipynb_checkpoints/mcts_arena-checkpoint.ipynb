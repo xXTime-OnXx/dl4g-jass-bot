{
 "cells": [
  {
   "cell_type": "code",
   "execution_count": 1,
   "metadata": {},
   "outputs": [],
   "source": [
    "import numpy as np\n",
    "\n",
    "from jass.game.game_util import *\n",
    "from jass.game.const import *\n",
    "from jass.agents.agent_random_schieber import AgentRandomSchieber\n",
    "from jass.arena.arena import *\n",
    "\n",
    "from simple_agent import MyAgent"
   ]
  },
  {
   "cell_type": "code",
   "execution_count": 2,
   "metadata": {},
   "outputs": [],
   "source": [
    "# Lets set the seed of the random number generater, so that we get the same results\n",
    "np.random.seed(1)"
   ]
  },
  {
   "cell_type": "code",
   "execution_count": 3,
   "metadata": {},
   "outputs": [],
   "source": [
    "arena = Arena(nr_games_to_play=1)\n",
    "arena.set_players(MyAgent(), AgentRandomSchieber(), MyAgent(), AgentRandomSchieber())"
   ]
  },
  {
   "cell_type": "code",
   "execution_count": 4,
   "metadata": {},
   "outputs": [
    {
     "name": "stdout",
     "output_type": "stream",
     "text": [
      "hand: [ 6  7 13]\n",
      "choice: 7\n",
      "hand: [3]\n",
      "choice: 3\n",
      "hand: [17 19 21 23]\n",
      "choice: 19\n",
      "hand: [13 18 20 22]\n",
      "choice: 13\n",
      "hand: [ 6 18 20 22 31 32 35]\n",
      "choice: 31\n",
      "hand: [28 29 30 34]\n",
      "choice: 29\n",
      "hand: [17 21 23 28 30 34]\n",
      "choice: 17\n",
      "hand: [6]\n",
      "choice: 6\n",
      "hand: [18 20 22 32 35]\n",
      "choice: 18\n",
      "hand: [21 23 28 30 34]\n",
      "choice: 30\n",
      "hand: [20 22 32 35]\n",
      "choice: 35\n",
      "hand: [21 23 28 34]\n",
      "choice: 28\n",
      "hand: [20 22 32]\n",
      "choice: 22\n",
      "hand: [21 23 34]\n",
      "choice: 21\n",
      "hand: [20 32]\n",
      "choice: 20\n",
      "hand: [23 34]\n",
      "choice: 34\n",
      "hand: [32]\n",
      "choice: 32\n",
      "hand: [23]\n",
      "choice: 23\n",
      "\n"
     ]
    }
   ],
   "source": [
    "arena.play_all_games()"
   ]
  },
  {
   "cell_type": "code",
   "execution_count": 8,
   "metadata": {},
   "outputs": [
    {
     "name": "stdout",
     "output_type": "stream",
     "text": [
      "Team 0 (MyAgent) Total Points: 394.0\n",
      "Team 1 (RandomAgent) Total Points: 391.0\n",
      "Team 0 (MyAgent) Wins: 3\n",
      "Team 1 (RandomAgent) Wins: 2\n"
     ]
    }
   ],
   "source": [
    "# Retrieve and display the points scored by each team across all games\n",
    "team_0_points = arena.points_team_0.sum()\n",
    "team_1_points = arena.points_team_1.sum()\n",
    "\n",
    "print(f\"Team 0 (MyAgent) Total Points: {team_0_points}\")\n",
    "print(f\"Team 1 (RandomAgent) Total Points: {team_1_points}\")\n",
    "\n",
    "# Optionally, you can calculate win ratios\n",
    "team_0_wins = (arena.points_team_0 > arena.points_team_1).sum()\n",
    "team_1_wins = (arena.points_team_1 > arena.points_team_0).sum()\n",
    "\n",
    "print(f\"Team 0 (MyAgent) Wins: {team_0_wins}\")\n",
    "print(f\"Team 1 (RandomAgent) Wins: {team_1_wins}\")"
   ]
  }
 ],
 "metadata": {
  "kernelspec": {
   "display_name": ".venv",
   "language": "python",
   "name": "python3"
  },
  "language_info": {
   "codemirror_mode": {
    "name": "ipython",
    "version": 3
   },
   "file_extension": ".py",
   "mimetype": "text/x-python",
   "name": "python",
   "nbconvert_exporter": "python",
   "pygments_lexer": "ipython3",
   "version": "3.13.0"
  }
 },
 "nbformat": 4,
 "nbformat_minor": 2
}
