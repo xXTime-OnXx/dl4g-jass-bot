{
 "cells": [
  {
   "cell_type": "code",
   "execution_count": 1,
   "metadata": {},
   "outputs": [],
   "source": [
    "%matplotlib inline\n",
    "\n",
    "import json\n",
    "import ast\n",
    "\n",
    "import numpy as np\n",
    "import pandas as pd\n",
    "\n",
    "import matplotlib.pyplot as plt\n",
    "import seaborn as sns\n",
    "\n",
    "from pathlib import Path\n",
    "from typing import List\n",
    "\n",
    "from jass.logs.game_log_entry import GameLogEntry\n",
    "from jass.game.game_state import GameState\n",
    "from jass.game.game_state_util import state_from_complete_game, observation_from_state\n",
    "from jass.game.game_util import convert_int_encoded_cards_to_str_encoded, convert_one_hot_encoded_cards_to_str_encoded_list\n",
    "\n",
    "from jass.game.rule_schieber import RuleSchieber\n",
    "\n",
    "game_rule = RuleSchieber()\n",
    "path_to_data = Path('../data')"
   ]
  },
  {
   "cell_type": "markdown",
   "metadata": {},
   "source": [
    "# Card Selection with Deep Neural Network (Keras)\n",
    "\n",
    "Data originally from Swisslos Jass Platform is available\n",
    "- under Data/games on Illias,\n",
    "- and on the /exchange/dl4g/data/games folder on the GPU cluster\n",
    "- Each data file contains 100000 games\n",
    "- Each line is a complete game in json format that can be read by\n",
    "\n",
    "\n",
    "GameLogEntry.from_json() to get an entry\n",
    "- An entry consists of:\n",
    "- The game (as GameState for a complete game)\n",
    "- The date\n",
    "- The player ids on the server, id=0 for anonymous play"
   ]
  },
  {
   "cell_type": "markdown",
   "metadata": {},
   "source": [
    "## Data Analysis"
   ]
  },
  {
   "cell_type": "markdown",
   "metadata": {},
   "source": [
    "Here is an example GameEntry datastructure"
   ]
  },
  {
   "cell_type": "code",
   "execution_count": null,
   "metadata": {},
   "outputs": [],
   "source": [
    "GameLogEntry.from_json(\n",
    "    {\n",
    "        \"game\": {\n",
    "            \"version\": \"V0.2\",\n",
    "            \"trump\": 1,\n",
    "            \"dealer\": 2,\n",
    "            \"currentPlayer\": -1,\n",
    "            \"forehand\": 0,\n",
    "            \"tricks\": [\n",
    "                {\n",
    "                    \"cards\": [\"HA\", \"H9\", \"H10\", \"D10\"],\n",
    "                    \"points\": 45,\n",
    "                    \"win\": 0,\n",
    "                    \"first\": 1,\n",
    "                },\n",
    "                {\n",
    "                    \"cards\": [\"CJ\", \"CA\", \"C7\", \"C10\"],\n",
    "                    \"points\": 23,\n",
    "                    \"win\": 3,\n",
    "                    \"first\": 0,\n",
    "                },\n",
    "                {\n",
    "                    \"cards\": [\"S6\", \"S10\", \"SQ\", \"S9\"],\n",
    "                    \"points\": 13,\n",
    "                    \"win\": 1,\n",
    "                    \"first\": 3,\n",
    "                },\n",
    "                {\"cards\": [\"SA\", \"C6\", \"H7\", \"S7\"], \"points\": 11, \"win\": 3, \"first\": 1},\n",
    "                {\"cards\": [\"SK\", \"SJ\", \"S8\", \"C8\"], \"points\": 6, \"win\": 3, \"first\": 3},\n",
    "                {\"cards\": [\"D7\", \"DJ\", \"HQ\", \"DA\"], \"points\": 16, \"win\": 1, \"first\": 3},\n",
    "                {\"cards\": [\"D9\", \"DK\", \"HK\", \"DQ\"], \"points\": 11, \"win\": 3, \"first\": 1},\n",
    "                {\"cards\": [\"HJ\", \"C9\", \"H6\", \"D6\"], \"points\": 20, \"win\": 3, \"first\": 3},\n",
    "                {\"cards\": [\"H8\", \"CQ\", \"D8\", \"CK\"], \"points\": 12, \"win\": 3, \"first\": 3},\n",
    "            ],\n",
    "            \"player\": [{\"hand\": []}, {\"hand\": []}, {\"hand\": []}, {\"hand\": []}],\n",
    "            \"jassTyp\": \"SCHIEBER\",\n",
    "        },\n",
    "        \"date\": \"13.10.17 22:31:05\",\n",
    "        \"player_ids\": [58663, 21516, 41630, 70654],\n",
    "    }\n",
    ")"
   ]
  },
  {
   "cell_type": "markdown",
   "metadata": {},
   "source": [
    "In order to load a file of games we need to iterate over the lines and convert them to GameLogEntry objects"
   ]
  },
  {
   "cell_type": "code",
   "execution_count": null,
   "metadata": {},
   "outputs": [],
   "source": [
    "# TODO: when model is defined and ready for training add all files to the training data\n",
    "\n",
    "game_entries = []\n",
    "with open(path_to_data / 'games/jass_game_0001.txt') as f:\n",
    "    for line in f:\n",
    "        game_entries.append(GameLogEntry.from_json(json.loads(line)))\n",
    "    \n",
    "game_entries = np.array(game_entries)\n",
    "print(\"%d bytes\" % (game_entries.size * game_entries.itemsize))\n"
   ]
  },
  {
   "cell_type": "markdown",
   "metadata": {},
   "source": [
    "### Specific GameState from Complete GameState\n",
    "\n",
    "In order to retriev a specific GameState from a complete GameState we can use the `state_from_complete_game` function."
   ]
  },
  {
   "cell_type": "code",
   "execution_count": null,
   "metadata": {},
   "outputs": [],
   "source": [
    "state_from_complete_game(game_entries[0].game, 5).to_json()"
   ]
  },
  {
   "cell_type": "markdown",
   "metadata": {},
   "source": [
    "## Analyse Player Stats"
   ]
  },
  {
   "cell_type": "code",
   "execution_count": null,
   "metadata": {},
   "outputs": [],
   "source": [
    "player_stats = pd.read_json(path_to_data / 'stat' / 'player_all_stat.json')\n",
    "player_stats.head()"
   ]
  },
  {
   "cell_type": "code",
   "execution_count": null,
   "metadata": {},
   "outputs": [],
   "source": [
    "sns.boxplot(player_stats['mean']) "
   ]
  },
  {
   "cell_type": "code",
   "execution_count": 7,
   "metadata": {},
   "outputs": [],
   "source": [
    "player_stats = player_stats[player_stats['mean'] > player_stats['mean'].mean()]"
   ]
  },
  {
   "cell_type": "code",
   "execution_count": 8,
   "metadata": {},
   "outputs": [],
   "source": [
    "player_stats = player_stats[player_stats['nr'] > 100]"
   ]
  },
  {
   "cell_type": "code",
   "execution_count": null,
   "metadata": {},
   "outputs": [],
   "source": [
    "sns.boxplot(player_stats['mean']) "
   ]
  },
  {
   "cell_type": "code",
   "execution_count": 10,
   "metadata": {},
   "outputs": [],
   "source": [
    "# collect player ids and build dataset from their views\n",
    "player_ids = player_stats['id'].to_numpy()"
   ]
  },
  {
   "cell_type": "markdown",
   "metadata": {},
   "source": [
    "## Dataset Structure for Model Training\n",
    "\n",
    "### Simple\n",
    "Features: (2x36 = 72)\n",
    "- cards played in current round (9x9 = 36)\n",
    "- valid cards (9x9 = 36)\n",
    "\n",
    "Target: (9x9 = 36 -> only select one! / or probability)\n",
    "- choose one of the valid cards in own hand\n",
    "- one-hot-encoding of all cards\n",
    "- select only cards that are available\n",
    "- select only cards that are valid\n",
    "\n",
    "### More Useful Information\n",
    "Features: (4x36 = 144)\n",
    "- already played cards (9x9 = 36)\n",
    "- cards played in current round (9x9 = 36)\n",
    "- cards in hand (9x9 = 36)\n",
    "- valid cards (9x9 = 36)\n",
    "\n",
    "Target: (9x9 = 36 -> only select one! / or probability)\n",
    "- choose one of the valid cards in own hand\n",
    "- one-hot-encoding of all cards\n",
    "- select only cards that are available\n",
    "- select only cards that are valid"
   ]
  },
  {
   "cell_type": "markdown",
   "metadata": {},
   "source": [
    "# Simple Card Play Model"
   ]
  },
  {
   "cell_type": "markdown",
   "metadata": {},
   "source": [
    "Remove all GameLogs that do not have a user in the calculated userid list"
   ]
  },
  {
   "cell_type": "code",
   "execution_count": null,
   "metadata": {},
   "outputs": [],
   "source": [
    "good_games: List[GameLogEntry] = [game for game in game_entries if any(player in player_ids for player in game.player_ids)]\n",
    "\n",
    "len(good_games)"
   ]
  },
  {
   "cell_type": "code",
   "execution_count": null,
   "metadata": {},
   "outputs": [],
   "source": [
    "data = pd.DataFrame({'trump': 'TPTP', 'played_cards': [['TP']], 'valid_cards': [['TP', 'TP', 'TP', 'TP', 'TP', 'TP', 'TP', 'TP', 'TP']], 'selected_card': ['TP']})\n",
    "\n",
    "data.head()"
   ]
  },
  {
   "cell_type": "code",
   "execution_count": null,
   "metadata": {},
   "outputs": [],
   "source": [
    "# Print iterations progress\n",
    "def printProgressBar(iteration, total, prefix = '', suffix = '', decimals = 1, length = 100, fill = '█', printEnd = \"\\r\"):\n",
    "    \"\"\"\n",
    "    Call in a loop to create terminal progress bar\n",
    "    @params:\n",
    "        iteration   - Required  : current iteration (Int)\n",
    "        total       - Required  : total iterations (Int)\n",
    "        prefix      - Optional  : prefix string (Str)\n",
    "        suffix      - Optional  : suffix string (Str)\n",
    "        decimals    - Optional  : positive number of decimals in percent complete (Int)\n",
    "        length      - Optional  : character length of bar (Int)\n",
    "        fill        - Optional  : bar fill character (Str)\n",
    "        printEnd    - Optional  : end character (e.g. \"\\r\", \"\\r\\n\") (Str)\n",
    "    \"\"\"\n",
    "    percent = (\"{0:.\" + str(decimals) + \"f}\").format(100 * (iteration / float(total)))\n",
    "    filledLength = int(length * iteration // total)\n",
    "    bar = fill * filledLength + '-' * (length - filledLength)\n",
    "    print(f'\\r{prefix} |{bar}| {percent}% {suffix}', end = printEnd)\n",
    "    # Print New Line on Complete\n",
    "    if iteration == total: \n",
    "        print()\n",
    "        \n",
    "def collect_data_from_game_logs():\n",
    "    max_iterations = len(good_games)\n",
    "    printProgressBar(0, max_iterations, prefix = 'Progress:', suffix = 'Complete', length = 50)\n",
    "    \n",
    "    data_rows = []  # Store rows here and add them to DataFrame in bulk at the end\n",
    "    \n",
    "    for idx, game_log in enumerate(good_games):\n",
    "        if idx % 10 == 0:  # Update the progress bar less frequently\n",
    "            printProgressBar(idx + 1, max_iterations, prefix='Progress:', suffix='Complete', length=50)\n",
    "                \n",
    "        for player_index, player in enumerate(game_log.player_ids):\n",
    "            if player not in player_ids:\n",
    "                continue\n",
    "                    \n",
    "            for cards_played in range(36):  # Iterate through all possible states\n",
    "                state = state_from_complete_game(game_log.game, cards_played)\n",
    "                if state.player != player_index:  # Check if it's the specified player's turn\n",
    "                    continue\n",
    "                    \n",
    "                played_cards = []\n",
    "\n",
    "                # Iterate through the tricks to collect played cards\n",
    "                for trick in state.tricks:\n",
    "                    for card in trick:\n",
    "                        if card != -1:  # Only consider valid cards\n",
    "                            played_cards.append(card)\n",
    "\n",
    "                # Convert to string representation if needed\n",
    "                played_cards_str = convert_int_encoded_cards_to_str_encoded(played_cards)\n",
    "                \n",
    "                valid_cards = game_rule.get_valid_cards_from_state(state)\n",
    "                valid_cards_str = convert_one_hot_encoded_cards_to_str_encoded_list(valid_cards)\n",
    "                \n",
    "                # evaluate the played card by the player from the next following state\n",
    "                selected_card = -1\n",
    "                next_state = None\n",
    "                if cards_played == 35:\n",
    "                    next_state = game_log.game\n",
    "                    selected_card = next_state.tricks[-1, -1]\n",
    "                else:\n",
    "                    next_state = state_from_complete_game(game_log.game, cards_played + 1)\n",
    "                    next_state_trick = [card for card in next_state.current_trick if card != -1]\n",
    "                    if len(next_state_trick) != 0:\n",
    "                        selected_card = next_state_trick[-1]\n",
    "                    else:\n",
    "                        next_state_trick = next_state.tricks[next_state.nr_tricks - 1, :]\n",
    "                        selected_card = next_state_trick[-1]\n",
    "                    \n",
    "                selected_card_str = convert_int_encoded_cards_to_str_encoded([selected_card])\n",
    "                \n",
    "                # Add the game state as a row\n",
    "                data_rows.append([\n",
    "                    game_log.game.trump, played_cards_str, valid_cards_str, selected_card_str[0]\n",
    "                ])\n",
    "                \n",
    "        if idx % 100 == 0:\n",
    "            global data\n",
    "            data = pd.concat([data, pd.DataFrame(data_rows, columns=['trump', 'played_cards', 'valid_cards', 'selected_card'])], ignore_index=True)\n",
    "            data_rows = []\n",
    "            assert len(data_rows) == 0\n",
    "                \n",
    "collect_data_from_game_logs()"
   ]
  },
  {
   "cell_type": "code",
   "execution_count": null,
   "metadata": {},
   "outputs": [],
   "source": [
    "data.count()"
   ]
  },
  {
   "cell_type": "code",
   "execution_count": null,
   "metadata": {},
   "outputs": [],
   "source": [
    "data.head()"
   ]
  },
  {
   "cell_type": "code",
   "execution_count": 81,
   "metadata": {},
   "outputs": [],
   "source": [
    "data.trump = data.trump.astype('category')\n",
    "data.trump = data.trump.cat.rename_categories({0: 'DIAMONDS', 1: 'HEARTS', 2: 'SPADES', 3:'CLUBS',\n",
    "                                  4: 'OBE_ABE', 5: 'UNE_UFE', 6: 'PUSH', 10: 'PUSH'})"
   ]
  },
  {
   "cell_type": "code",
   "execution_count": null,
   "metadata": {},
   "outputs": [],
   "source": [
    "data.trump.unique()"
   ]
  },
  {
   "cell_type": "code",
   "execution_count": 83,
   "metadata": {},
   "outputs": [],
   "source": [
    "data.to_csv(path_to_data / 'card_prediction' / 'card_prediciton_0001.csv', index=False)"
   ]
  }
 ],
 "metadata": {
  "kernelspec": {
   "display_name": "dl4g",
   "language": "python",
   "name": "python3"
  },
  "language_info": {
   "codemirror_mode": {
    "name": "ipython",
    "version": 3
   },
   "file_extension": ".py",
   "mimetype": "text/x-python",
   "name": "python",
   "nbconvert_exporter": "python",
   "pygments_lexer": "ipython3",
   "version": "3.10.16"
  }
 },
 "nbformat": 4,
 "nbformat_minor": 2
}
