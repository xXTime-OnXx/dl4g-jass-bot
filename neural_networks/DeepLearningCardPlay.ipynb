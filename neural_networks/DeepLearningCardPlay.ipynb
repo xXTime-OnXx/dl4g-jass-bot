{
 "cells": [
  {
   "cell_type": "code",
   "execution_count": 1,
   "metadata": {},
   "outputs": [],
   "source": [
    "%matplotlib inline\n",
    "\n",
    "import json\n",
    "import ast\n",
    "\n",
    "import numpy as np\n",
    "import pandas as pd\n",
    "\n",
    "import matplotlib.pyplot as plt\n",
    "import seaborn as sns\n",
    "\n",
    "from pathlib import Path\n",
    "from typing import List\n",
    "\n",
    "from jass.logs.game_log_entry import GameLogEntry\n",
    "from jass.game.game_state import GameState\n",
    "from jass.game.game_state_util import state_from_complete_game, observation_from_state\n",
    "from jass.game.game_util import convert_int_encoded_cards_to_str_encoded, convert_one_hot_encoded_cards_to_str_encoded_list, get_cards_encoded\n",
    "\n",
    "from jass.game.rule_schieber import RuleSchieber\n",
    "\n",
    "game_rule = RuleSchieber()\n",
    "path_to_data = Path('../data')"
   ]
  },
  {
   "cell_type": "code",
   "execution_count": 2,
   "metadata": {},
   "outputs": [],
   "source": [
    "cards = [\n",
    "# Diamonds\n",
    "'DA','DK','DQ','DJ','D10','D9','D8','D7','D6',\n",
    "# Hearts\n",
    "'HA','HK','HQ','HJ','H10','H9','H8','H7','H6',\n",
    "# Spades\n",
    "'SA','SK','SQ','SJ','S10','S9','S8','S7','S6',\n",
    "# Clubs\n",
    "'CA','CK','CQ','CJ','C10','C9','C8','C7','C6'\n",
    "]"
   ]
  },
  {
   "cell_type": "markdown",
   "metadata": {},
   "source": [
    "# Card Selection with Deep Neural Network (Keras)\n",
    "\n",
    "Data originally from Swisslos Jass Platform is available\n",
    "- under Data/games on Illias,\n",
    "- and on the /exchange/dl4g/data/games folder on the GPU cluster\n",
    "- Each data file contains 100000 games\n",
    "- Each line is a complete game in json format that can be read by\n",
    "\n",
    "\n",
    "GameLogEntry.from_json() to get an entry\n",
    "- An entry consists of:\n",
    "- The game (as GameState for a complete game)\n",
    "- The date\n",
    "- The player ids on the server, id=0 for anonymous play"
   ]
  },
  {
   "cell_type": "markdown",
   "metadata": {},
   "source": [
    "## Data Analysis"
   ]
  },
  {
   "cell_type": "markdown",
   "metadata": {},
   "source": [
    "Here is an example GameEntry datastructure"
   ]
  },
  {
   "cell_type": "code",
   "execution_count": 3,
   "metadata": {},
   "outputs": [
    {
     "data": {
      "text/plain": [
       "<jass.logs.game_log_entry.GameLogEntry at 0x12c85a7a0>"
      ]
     },
     "execution_count": 3,
     "metadata": {},
     "output_type": "execute_result"
    }
   ],
   "source": [
    "GameLogEntry.from_json(\n",
    "    {\n",
    "        \"game\": {\n",
    "            \"version\": \"V0.2\",\n",
    "            \"trump\": 1,\n",
    "            \"dealer\": 2,\n",
    "            \"currentPlayer\": -1,\n",
    "            \"forehand\": 0,\n",
    "            \"tricks\": [\n",
    "                {\n",
    "                    \"cards\": [\"HA\", \"H9\", \"H10\", \"D10\"],\n",
    "                    \"points\": 45,\n",
    "                    \"win\": 0,\n",
    "                    \"first\": 1,\n",
    "                },\n",
    "                {\n",
    "                    \"cards\": [\"CJ\", \"CA\", \"C7\", \"C10\"],\n",
    "                    \"points\": 23,\n",
    "                    \"win\": 3,\n",
    "                    \"first\": 0,\n",
    "                },\n",
    "                {\n",
    "                    \"cards\": [\"S6\", \"S10\", \"SQ\", \"S9\"],\n",
    "                    \"points\": 13,\n",
    "                    \"win\": 1,\n",
    "                    \"first\": 3,\n",
    "                },\n",
    "                {\"cards\": [\"SA\", \"C6\", \"H7\", \"S7\"], \"points\": 11, \"win\": 3, \"first\": 1},\n",
    "                {\"cards\": [\"SK\", \"SJ\", \"S8\", \"C8\"], \"points\": 6, \"win\": 3, \"first\": 3},\n",
    "                {\"cards\": [\"D7\", \"DJ\", \"HQ\", \"DA\"], \"points\": 16, \"win\": 1, \"first\": 3},\n",
    "                {\"cards\": [\"D9\", \"DK\", \"HK\", \"DQ\"], \"points\": 11, \"win\": 3, \"first\": 1},\n",
    "                {\"cards\": [\"HJ\", \"C9\", \"H6\", \"D6\"], \"points\": 20, \"win\": 3, \"first\": 3},\n",
    "                {\"cards\": [\"H8\", \"CQ\", \"D8\", \"CK\"], \"points\": 12, \"win\": 3, \"first\": 3},\n",
    "            ],\n",
    "            \"player\": [{\"hand\": []}, {\"hand\": []}, {\"hand\": []}, {\"hand\": []}],\n",
    "            \"jassTyp\": \"SCHIEBER\",\n",
    "        },\n",
    "        \"date\": \"13.10.17 22:31:05\",\n",
    "        \"player_ids\": [58663, 21516, 41630, 70654],\n",
    "    }\n",
    ")"
   ]
  },
  {
   "cell_type": "markdown",
   "metadata": {},
   "source": [
    "In order to load a file of games we need to iterate over the lines and convert them to GameLogEntry objects"
   ]
  },
  {
   "cell_type": "code",
   "execution_count": 4,
   "metadata": {},
   "outputs": [
    {
     "name": "stdout",
     "output_type": "stream",
     "text": [
      "800000 bytes\n"
     ]
    }
   ],
   "source": [
    "# TODO: when model is defined and ready for training add all files to the training data\n",
    "\n",
    "game_entries = []\n",
    "with open(path_to_data / 'games/jass_game_0001.txt') as f:\n",
    "    for line in f:\n",
    "        game_entries.append(GameLogEntry.from_json(json.loads(line)))\n",
    "    \n",
    "game_entries = np.array(game_entries)\n",
    "print(\"%d bytes\" % (game_entries.size * game_entries.itemsize))\n"
   ]
  },
  {
   "cell_type": "markdown",
   "metadata": {},
   "source": [
    "### Specific GameState from Complete GameState\n",
    "\n",
    "In order to retriev a specific GameState from a complete GameState we can use the `state_from_complete_game` function."
   ]
  },
  {
   "cell_type": "code",
   "execution_count": 5,
   "metadata": {},
   "outputs": [
    {
     "data": {
      "text/plain": [
       "{'version': 'V0.2',\n",
       " 'trump': 1,\n",
       " 'dealer': 2,\n",
       " 'currentPlayer': 3,\n",
       " 'forehand': 0,\n",
       " 'tricks': [{'cards': [np.str_('HA'),\n",
       "    np.str_('H9'),\n",
       "    np.str_('H10'),\n",
       "    np.str_('D10')],\n",
       "   'points': 45,\n",
       "   'win': 0,\n",
       "   'first': 1},\n",
       "  {'cards': [np.str_('CJ')], 'first': 0}],\n",
       " 'player': [{'hand': [np.str_('DA'),\n",
       "    np.str_('DK'),\n",
       "    np.str_('D6'),\n",
       "    np.str_('S9'),\n",
       "    np.str_('CK'),\n",
       "    np.str_('C8'),\n",
       "    np.str_('C6')]},\n",
       "  {'hand': [np.str_('D9'),\n",
       "    np.str_('D8'),\n",
       "    np.str_('HQ'),\n",
       "    np.str_('H6'),\n",
       "    np.str_('SA'),\n",
       "    np.str_('SQ'),\n",
       "    np.str_('S8'),\n",
       "    np.str_('C10')]},\n",
       "  {'hand': [np.str_('DQ'),\n",
       "    np.str_('DJ'),\n",
       "    np.str_('SJ'),\n",
       "    np.str_('S10'),\n",
       "    np.str_('S7'),\n",
       "    np.str_('CQ'),\n",
       "    np.str_('C9'),\n",
       "    np.str_('C7')]},\n",
       "  {'hand': [np.str_('D7'),\n",
       "    np.str_('HK'),\n",
       "    np.str_('HJ'),\n",
       "    np.str_('H8'),\n",
       "    np.str_('H7'),\n",
       "    np.str_('SK'),\n",
       "    np.str_('S6'),\n",
       "    np.str_('CA')]}],\n",
       " 'jassTyp': 'SCHIEBER'}"
      ]
     },
     "execution_count": 5,
     "metadata": {},
     "output_type": "execute_result"
    }
   ],
   "source": [
    "state_from_complete_game(game_entries[0].game, 5).to_json()"
   ]
  },
  {
   "cell_type": "markdown",
   "metadata": {},
   "source": [
    "## Analyse Player Stats"
   ]
  },
  {
   "cell_type": "code",
   "execution_count": 6,
   "metadata": {},
   "outputs": [
    {
     "data": {
      "text/html": [
       "<div>\n",
       "<style scoped>\n",
       "    .dataframe tbody tr th:only-of-type {\n",
       "        vertical-align: middle;\n",
       "    }\n",
       "\n",
       "    .dataframe tbody tr th {\n",
       "        vertical-align: top;\n",
       "    }\n",
       "\n",
       "    .dataframe thead th {\n",
       "        text-align: right;\n",
       "    }\n",
       "</style>\n",
       "<table border=\"1\" class=\"dataframe\">\n",
       "  <thead>\n",
       "    <tr style=\"text-align: right;\">\n",
       "      <th></th>\n",
       "      <th>id</th>\n",
       "      <th>mean</th>\n",
       "      <th>std</th>\n",
       "      <th>nr</th>\n",
       "    </tr>\n",
       "  </thead>\n",
       "  <tbody>\n",
       "    <tr>\n",
       "      <th>0</th>\n",
       "      <td>0</td>\n",
       "      <td>78.433100</td>\n",
       "      <td>42.186764</td>\n",
       "      <td>1978858</td>\n",
       "    </tr>\n",
       "    <tr>\n",
       "      <th>1</th>\n",
       "      <td>6955</td>\n",
       "      <td>76.191936</td>\n",
       "      <td>41.780344</td>\n",
       "      <td>4241</td>\n",
       "    </tr>\n",
       "    <tr>\n",
       "      <th>2</th>\n",
       "      <td>54404</td>\n",
       "      <td>78.010880</td>\n",
       "      <td>41.985297</td>\n",
       "      <td>7445</td>\n",
       "    </tr>\n",
       "    <tr>\n",
       "      <th>3</th>\n",
       "      <td>74994</td>\n",
       "      <td>76.775460</td>\n",
       "      <td>41.428476</td>\n",
       "      <td>7669</td>\n",
       "    </tr>\n",
       "    <tr>\n",
       "      <th>4</th>\n",
       "      <td>56143</td>\n",
       "      <td>76.774029</td>\n",
       "      <td>41.546253</td>\n",
       "      <td>978</td>\n",
       "    </tr>\n",
       "  </tbody>\n",
       "</table>\n",
       "</div>"
      ],
      "text/plain": [
       "      id       mean        std       nr\n",
       "0      0  78.433100  42.186764  1978858\n",
       "1   6955  76.191936  41.780344     4241\n",
       "2  54404  78.010880  41.985297     7445\n",
       "3  74994  76.775460  41.428476     7669\n",
       "4  56143  76.774029  41.546253      978"
      ]
     },
     "execution_count": 6,
     "metadata": {},
     "output_type": "execute_result"
    }
   ],
   "source": [
    "player_stats = pd.read_json(path_to_data / 'stat' / 'player_all_stat.json')\n",
    "player_stats.head()"
   ]
  },
  {
   "cell_type": "code",
   "execution_count": 7,
   "metadata": {},
   "outputs": [
    {
     "data": {
      "text/plain": [
       "<Axes: ylabel='mean'>"
      ]
     },
     "execution_count": 7,
     "metadata": {},
     "output_type": "execute_result"
    },
    {
     "data": {
      "image/png": "[encoded data removed]",
      "text/plain": [
       "<Figure size 640x480 with 1 Axes>"
      ]
     },
     "metadata": {},
     "output_type": "display_data"
    }
   ],
   "source": [
    "sns.boxplot(player_stats['mean']) "
   ]
  },
  {
   "cell_type": "code",
   "execution_count": 8,
   "metadata": {},
   "outputs": [],
   "source": [
    "player_stats = player_stats[player_stats['mean'] > player_stats['mean'].mean()]"
   ]
  },
  {
   "cell_type": "code",
   "execution_count": 9,
   "metadata": {},
   "outputs": [],
   "source": [
    "player_stats = player_stats[player_stats['nr'] > 100]"
   ]
  },
  {
   "cell_type": "code",
   "execution_count": 10,
   "metadata": {},
   "outputs": [
    {
     "data": {
      "text/plain": [
       "<Axes: ylabel='mean'>"
      ]
     },
     "execution_count": 10,
     "metadata": {},
     "output_type": "execute_result"
    },
    {
     "data": {
      "image/png": "[encoded data removed]",
      "text/plain": [
       "<Figure size 640x480 with 1 Axes>"
      ]
     },
     "metadata": {},
     "output_type": "display_data"
    }
   ],
   "source": [
    "sns.boxplot(player_stats['mean']) "
   ]
  },
  {
   "cell_type": "code",
   "execution_count": 11,
   "metadata": {},
   "outputs": [],
   "source": [
    "# collect player ids and build dataset from their views\n",
    "player_ids = player_stats['id'].to_numpy()"
   ]
  },
  {
   "cell_type": "markdown",
   "metadata": {},
   "source": [
    "## Dataset Structure for Model Training\n",
    "\n",
    "### Simple\n",
    "Features: (2x36 = 72)\n",
    "- cards played in current round (9x9 = 36)\n",
    "- valid cards (9x9 = 36)\n",
    "\n",
    "Target: (9x9 = 36 -> only select one! / or probability)\n",
    "- choose one of the valid cards in own hand\n",
    "- one-hot-encoding of all cards\n",
    "- select only cards that are available\n",
    "- select only cards that are valid\n",
    "\n",
    "### More Useful Information\n",
    "Features: (4x36 = 144)\n",
    "- already played cards (9x9 = 36)\n",
    "- cards played in current round (9x9 = 36)\n",
    "- cards in hand (9x9 = 36)\n",
    "- valid cards (9x9 = 36)\n",
    "\n",
    "Target: (9x9 = 36 -> only select one! / or probability)\n",
    "- choose one of the valid cards in own hand\n",
    "- one-hot-encoding of all cards\n",
    "- select only cards that are available\n",
    "- select only cards that are valid"
   ]
  },
  {
   "cell_type": "markdown",
   "metadata": {},
   "source": [
    "# Simple Card Play Model"
   ]
  },
  {
   "cell_type": "markdown",
   "metadata": {},
   "source": [
    "Remove all GameLogs that do not have a user in the calculated userid list"
   ]
  },
  {
   "cell_type": "code",
   "execution_count": 12,
   "metadata": {},
   "outputs": [
    {
     "data": {
      "text/plain": [
       "99884"
      ]
     },
     "execution_count": 12,
     "metadata": {},
     "output_type": "execute_result"
    }
   ],
   "source": [
    "good_games: List[GameLogEntry] = [game for game in game_entries if any(player in player_ids for player in game.player_ids)]\n",
    "\n",
    "len(good_games)"
   ]
  },
  {
   "cell_type": "code",
   "execution_count": 13,
   "metadata": {},
   "outputs": [
    {
     "data": {
      "text/html": [
       "<div>\n",
       "<style scoped>\n",
       "    .dataframe tbody tr th:only-of-type {\n",
       "        vertical-align: middle;\n",
       "    }\n",
       "\n",
       "    .dataframe tbody tr th {\n",
       "        vertical-align: top;\n",
       "    }\n",
       "\n",
       "    .dataframe thead th {\n",
       "        text-align: right;\n",
       "    }\n",
       "</style>\n",
       "<table border=\"1\" class=\"dataframe\">\n",
       "  <thead>\n",
       "    <tr style=\"text-align: right;\">\n",
       "      <th></th>\n",
       "      <th>trump</th>\n",
       "      <th>played_cards</th>\n",
       "      <th>valid_cards</th>\n",
       "      <th>selected_card</th>\n",
       "    </tr>\n",
       "  </thead>\n",
       "  <tbody>\n",
       "    <tr>\n",
       "      <th>0</th>\n",
       "      <td>TPTP</td>\n",
       "      <td>[1, 1, 1, 1, 1, 1, 1, 1, 1, 0, 0, 0, 0, 0, 0, ...</td>\n",
       "      <td>[1, 1, 1, 1, 1, 1, 1, 1, 1, 0, 0, 0, 0, 0, 0, ...</td>\n",
       "      <td>[0, 0, 1, 0, 0, 0, 0, 0, 0, 0, 0, 0, 0, 0, 0, ...</td>\n",
       "    </tr>\n",
       "  </tbody>\n",
       "</table>\n",
       "</div>"
      ],
      "text/plain": [
       "  trump                                       played_cards  \\\n",
       "0  TPTP  [1, 1, 1, 1, 1, 1, 1, 1, 1, 0, 0, 0, 0, 0, 0, ...   \n",
       "\n",
       "                                         valid_cards  \\\n",
       "0  [1, 1, 1, 1, 1, 1, 1, 1, 1, 0, 0, 0, 0, 0, 0, ...   \n",
       "\n",
       "                                       selected_card  \n",
       "0  [0, 0, 1, 0, 0, 0, 0, 0, 0, 0, 0, 0, 0, 0, 0, ...  "
      ]
     },
     "execution_count": 13,
     "metadata": {},
     "output_type": "execute_result"
    }
   ],
   "source": [
    "data = pd.DataFrame({\n",
    "    'trump': 'TPTP', \n",
    "    'played_cards': [[1, 1, 1, 1, 1, 1, 1, 1, 1, 0, 0, 0, 0, 0, 0, 0, 0, 0, 0, 0, 0, 0, 0, 0, 0, 0, 0, 0, 0, 0, 0, 0, 0, 0, 0, 0]], \n",
    "    'valid_cards': [[1, 1, 1, 1, 1, 1, 1, 1, 1, 0, 0, 0, 0, 0, 0, 0, 0, 0, 0, 0, 0, 0, 0, 0, 0, 0, 0, 0, 0, 0, 0, 0, 0, 0, 0, 0]], \n",
    "    'selected_card': [[0, 0, 1, 0, 0, 0, 0, 0, 0, 0, 0, 0, 0, 0, 0, 0, 0, 0, 0, 0, 0, 0, 0, 0, 0, 0, 0, 0, 0, 0, 0, 0, 0, 0, 0, 0]]})\n",
    "\n",
    "data.head()"
   ]
  },
  {
   "cell_type": "code",
   "execution_count": 14,
   "metadata": {},
   "outputs": [
    {
     "name": "stdout",
     "output_type": "stream",
     "text": [
      "Progress: |█████████████████████████████████████████████████-| 100.0% Complete\r"
     ]
    }
   ],
   "source": [
    "# Print iterations progress\n",
    "def printProgressBar(iteration, total, prefix = '', suffix = '', decimals = 1, length = 100, fill = '█', printEnd = \"\\r\"):\n",
    "    \"\"\"\n",
    "    Call in a loop to create terminal progress bar\n",
    "    @params:\n",
    "        iteration   - Required  : current iteration (Int)\n",
    "        total       - Required  : total iterations (Int)\n",
    "        prefix      - Optional  : prefix string (Str)\n",
    "        suffix      - Optional  : suffix string (Str)\n",
    "        decimals    - Optional  : positive number of decimals in percent complete (Int)\n",
    "        length      - Optional  : character length of bar (Int)\n",
    "        fill        - Optional  : bar fill character (Str)\n",
    "        printEnd    - Optional  : end character (e.g. \"\\r\", \"\\r\\n\") (Str)\n",
    "    \"\"\"\n",
    "    percent = (\"{0:.\" + str(decimals) + \"f}\").format(100 * (iteration / float(total)))\n",
    "    filledLength = int(length * iteration // total)\n",
    "    bar = fill * filledLength + '-' * (length - filledLength)\n",
    "    print(f'\\r{prefix} |{bar}| {percent}% {suffix}', end = printEnd)\n",
    "    # Print New Line on Complete\n",
    "    if iteration == total: \n",
    "        print()\n",
    "        \n",
    "def collect_data_from_game_logs():\n",
    "    max_iterations = len(good_games)\n",
    "    printProgressBar(0, max_iterations, prefix = 'Progress:', suffix = 'Complete', length = 50)\n",
    "    \n",
    "    data_rows = []  # Store rows here and add them to DataFrame in bulk at the end\n",
    "    \n",
    "    for idx, game_log in enumerate(good_games):\n",
    "        if idx % 10 == 0:  # Update the progress bar less frequently\n",
    "            printProgressBar(idx + 1, max_iterations, prefix='Progress:', suffix='Complete', length=50)\n",
    "                \n",
    "        for player_index, player in enumerate(game_log.player_ids):\n",
    "            if player not in player_ids:\n",
    "                continue\n",
    "                    \n",
    "            for cards_played in range(36):  # Iterate through all possible states\n",
    "                state = state_from_complete_game(game_log.game, cards_played)\n",
    "                if state.player != player_index:  # Check if it's the specified player's turn\n",
    "                    continue\n",
    "                    \n",
    "                played_cards = []\n",
    "\n",
    "                # Iterate through the tricks to collect played cards\n",
    "                for trick in state.tricks:\n",
    "                    for card in trick:\n",
    "                        if card != -1:  # Only consider valid cards\n",
    "                            played_cards.append(card)\n",
    "\n",
    "                # Convert to string representation if needed\n",
    "                played_cards_encoded = get_cards_encoded(played_cards)\n",
    "                \n",
    "                valid_cards_encoded = game_rule.get_valid_cards_from_state(state)\n",
    "                \n",
    "                # evaluate the played card by the player from the next following state\n",
    "                selected_card = -1\n",
    "                next_state = None\n",
    "                if cards_played == 35:\n",
    "                    next_state = game_log.game\n",
    "                    selected_card = next_state.tricks[-1, -1]\n",
    "                else:\n",
    "                    next_state = state_from_complete_game(game_log.game, cards_played + 1)\n",
    "                    next_state_trick = [card for card in next_state.current_trick if card != -1]\n",
    "                    if len(next_state_trick) != 0:\n",
    "                        selected_card = next_state_trick[-1]\n",
    "                    else:\n",
    "                        next_state_trick = next_state.tricks[next_state.nr_tricks - 1, :]\n",
    "                        selected_card = next_state_trick[-1]\n",
    "                    \n",
    "                selected_card_encoded = get_cards_encoded([selected_card])\n",
    "                \n",
    "                # Add the game state as a row\n",
    "                data_rows.append([\n",
    "                    game_log.game.trump, played_cards_encoded, valid_cards_encoded, selected_card_encoded\n",
    "                ])\n",
    "                \n",
    "        if idx % 10000 == 0:\n",
    "            global data\n",
    "            data = pd.concat([data, pd.DataFrame(data_rows, columns=['trump', 'played_cards', 'valid_cards', 'selected_card'])], ignore_index=True)\n",
    "            data_rows = []\n",
    "            assert len(data_rows) == 0\n",
    "                \n",
    "collect_data_from_game_logs()"
   ]
  },
  {
   "cell_type": "markdown",
   "metadata": {},
   "source": [
    "### Remove the template entry"
   ]
  },
  {
   "cell_type": "code",
   "execution_count": 15,
   "metadata": {},
   "outputs": [
    {
     "data": {
      "text/html": [
       "<div>\n",
       "<style scoped>\n",
       "    .dataframe tbody tr th:only-of-type {\n",
       "        vertical-align: middle;\n",
       "    }\n",
       "\n",
       "    .dataframe tbody tr th {\n",
       "        vertical-align: top;\n",
       "    }\n",
       "\n",
       "    .dataframe thead th {\n",
       "        text-align: right;\n",
       "    }\n",
       "</style>\n",
       "<table border=\"1\" class=\"dataframe\">\n",
       "  <thead>\n",
       "    <tr style=\"text-align: right;\">\n",
       "      <th></th>\n",
       "      <th>trump</th>\n",
       "      <th>played_cards</th>\n",
       "      <th>valid_cards</th>\n",
       "      <th>selected_card</th>\n",
       "    </tr>\n",
       "  </thead>\n",
       "  <tbody>\n",
       "    <tr>\n",
       "      <th>1</th>\n",
       "      <td>1</td>\n",
       "      <td>[0, 0, 0, 0, 0, 0, 0, 0, 0, 1, 0, 0, 0, 0, 0, ...</td>\n",
       "      <td>[0, 0, 0, 0, 0, 0, 0, 0, 0, 0, 0, 0, 0, 0, 1, ...</td>\n",
       "      <td>[0, 0, 0, 0, 0, 0, 0, 0, 0, 0, 0, 0, 0, 0, 1, ...</td>\n",
       "    </tr>\n",
       "    <tr>\n",
       "      <th>2</th>\n",
       "      <td>1</td>\n",
       "      <td>[0, 0, 0, 0, 1, 0, 0, 0, 0, 1, 0, 0, 0, 1, 1, ...</td>\n",
       "      <td>[1, 1, 0, 0, 0, 0, 0, 0, 1, 0, 0, 0, 0, 0, 0, ...</td>\n",
       "      <td>[0, 0, 0, 0, 0, 0, 0, 0, 0, 0, 0, 0, 0, 0, 0, ...</td>\n",
       "    </tr>\n",
       "    <tr>\n",
       "      <th>3</th>\n",
       "      <td>1</td>\n",
       "      <td>[0, 0, 0, 0, 1, 0, 0, 0, 0, 1, 0, 0, 0, 1, 1, ...</td>\n",
       "      <td>[0, 0, 0, 0, 0, 0, 0, 0, 0, 0, 0, 0, 0, 0, 0, ...</td>\n",
       "      <td>[0, 0, 0, 0, 0, 0, 0, 0, 0, 0, 0, 0, 0, 0, 0, ...</td>\n",
       "    </tr>\n",
       "    <tr>\n",
       "      <th>4</th>\n",
       "      <td>1</td>\n",
       "      <td>[0, 0, 0, 0, 1, 0, 0, 0, 0, 1, 0, 0, 0, 1, 1, ...</td>\n",
       "      <td>[1, 1, 0, 0, 0, 0, 0, 0, 1, 0, 0, 0, 0, 0, 0, ...</td>\n",
       "      <td>[0, 0, 0, 0, 0, 0, 0, 0, 0, 0, 0, 0, 0, 0, 0, ...</td>\n",
       "    </tr>\n",
       "    <tr>\n",
       "      <th>5</th>\n",
       "      <td>1</td>\n",
       "      <td>[0, 0, 0, 0, 1, 0, 0, 0, 0, 1, 0, 0, 0, 1, 1, ...</td>\n",
       "      <td>[1, 1, 0, 0, 0, 0, 0, 0, 1, 0, 0, 0, 0, 0, 0, ...</td>\n",
       "      <td>[0, 0, 0, 0, 0, 0, 0, 0, 0, 0, 0, 0, 0, 0, 0, ...</td>\n",
       "    </tr>\n",
       "  </tbody>\n",
       "</table>\n",
       "</div>"
      ],
      "text/plain": [
       "  trump                                       played_cards  \\\n",
       "1     1  [0, 0, 0, 0, 0, 0, 0, 0, 0, 1, 0, 0, 0, 0, 0, ...   \n",
       "2     1  [0, 0, 0, 0, 1, 0, 0, 0, 0, 1, 0, 0, 0, 1, 1, ...   \n",
       "3     1  [0, 0, 0, 0, 1, 0, 0, 0, 0, 1, 0, 0, 0, 1, 1, ...   \n",
       "4     1  [0, 0, 0, 0, 1, 0, 0, 0, 0, 1, 0, 0, 0, 1, 1, ...   \n",
       "5     1  [0, 0, 0, 0, 1, 0, 0, 0, 0, 1, 0, 0, 0, 1, 1, ...   \n",
       "\n",
       "                                         valid_cards  \\\n",
       "1  [0, 0, 0, 0, 0, 0, 0, 0, 0, 0, 0, 0, 0, 0, 1, ...   \n",
       "2  [1, 1, 0, 0, 0, 0, 0, 0, 1, 0, 0, 0, 0, 0, 0, ...   \n",
       "3  [0, 0, 0, 0, 0, 0, 0, 0, 0, 0, 0, 0, 0, 0, 0, ...   \n",
       "4  [1, 1, 0, 0, 0, 0, 0, 0, 1, 0, 0, 0, 0, 0, 0, ...   \n",
       "5  [1, 1, 0, 0, 0, 0, 0, 0, 1, 0, 0, 0, 0, 0, 0, ...   \n",
       "\n",
       "                                       selected_card  \n",
       "1  [0, 0, 0, 0, 0, 0, 0, 0, 0, 0, 0, 0, 0, 0, 1, ...  \n",
       "2  [0, 0, 0, 0, 0, 0, 0, 0, 0, 0, 0, 0, 0, 0, 0, ...  \n",
       "3  [0, 0, 0, 0, 0, 0, 0, 0, 0, 0, 0, 0, 0, 0, 0, ...  \n",
       "4  [0, 0, 0, 0, 0, 0, 0, 0, 0, 0, 0, 0, 0, 0, 0, ...  \n",
       "5  [0, 0, 0, 0, 0, 0, 0, 0, 0, 0, 0, 0, 0, 0, 0, ...  "
      ]
     },
     "execution_count": 15,
     "metadata": {},
     "output_type": "execute_result"
    }
   ],
   "source": [
    "data.drop(data[data['trump'] == 'TPTP'].index, inplace=True)\n",
    "data.head()"
   ]
  },
  {
   "cell_type": "markdown",
   "metadata": {},
   "source": [
    "### Analyse the generated Data"
   ]
  },
  {
   "cell_type": "code",
   "execution_count": 17,
   "metadata": {},
   "outputs": [
    {
     "data": {
      "text/plain": [
       "trump            2734551\n",
       "played_cards     2734551\n",
       "valid_cards      2734551\n",
       "selected_card    2734551\n",
       "dtype: int64"
      ]
     },
     "execution_count": 17,
     "metadata": {},
     "output_type": "execute_result"
    }
   ],
   "source": [
    "data.count()"
   ]
  },
  {
   "cell_type": "code",
   "execution_count": 18,
   "metadata": {},
   "outputs": [],
   "source": [
    "data.trump = data.trump.astype('category')\n",
    "data.trump = data.trump.cat.rename_categories({0: 'DIAMONDS', 1: 'HEARTS', 2: 'SPADES', 3:'CLUBS',\n",
    "                                  4: 'OBE_ABE', 5: 'UNE_UFE', 6: 'PUSH', 10: 'PUSH'})"
   ]
  },
  {
   "cell_type": "code",
   "execution_count": 19,
   "metadata": {},
   "outputs": [
    {
     "data": {
      "text/plain": [
       "['HEARTS', 'CLUBS', 'SPADES', 'UNE_UFE', 'OBE_ABE', 'DIAMONDS']\n",
       "Categories (6, object): ['DIAMONDS', 'HEARTS', 'SPADES', 'CLUBS', 'OBE_ABE', 'UNE_UFE']"
      ]
     },
     "execution_count": 19,
     "metadata": {},
     "output_type": "execute_result"
    }
   ],
   "source": [
    "data.trump.unique()"
   ]
  },
  {
   "cell_type": "markdown",
   "metadata": {},
   "source": [
    "## Split one-hod-encoded columns into multiple"
   ]
  },
  {
   "cell_type": "markdown",
   "metadata": {},
   "source": [
    "### Played Cards"
   ]
  },
  {
   "cell_type": "code",
   "execution_count": 20,
   "metadata": {},
   "outputs": [],
   "source": [
    "column_names = ['played_cards_' + card for card in cards]\n",
    "\n",
    "data[column_names] = pd.DataFrame(data['played_cards'].to_list(), index=data.index)\n",
    "data.drop('played_cards', axis=1, inplace=True)"
   ]
  },
  {
   "cell_type": "markdown",
   "metadata": {},
   "source": [
    "### Valid Cards"
   ]
  },
  {
   "cell_type": "code",
   "execution_count": 21,
   "metadata": {},
   "outputs": [],
   "source": [
    "column_names = ['valid_cards_' + card for card in cards]\n",
    "\n",
    "data[column_names] = pd.DataFrame(data['valid_cards'].to_list(), index=data.index)\n",
    "data.drop('valid_cards', axis=1, inplace=True)"
   ]
  },
  {
   "cell_type": "markdown",
   "metadata": {},
   "source": [
    "### Selected Card"
   ]
  },
  {
   "cell_type": "code",
   "execution_count": 22,
   "metadata": {},
   "outputs": [
    {
     "name": "stderr",
     "output_type": "stream",
     "text": [
      "/var/folders/1j/wtq97vbs2pl0w4tb09kq4m1r0000gn/T/ipykernel_50199/4280139768.py:3: PerformanceWarning: DataFrame is highly fragmented.  This is usually the result of calling `frame.insert` many times, which has poor performance.  Consider joining all columns at once using pd.concat(axis=1) instead. To get a de-fragmented frame, use `newframe = frame.copy()`\n",
      "  data[column_names] = pd.DataFrame(data['selected_card'].to_list(), index=data.index)\n",
      "/var/folders/1j/wtq97vbs2pl0w4tb09kq4m1r0000gn/T/ipykernel_50199/4280139768.py:3: PerformanceWarning: DataFrame is highly fragmented.  This is usually the result of calling `frame.insert` many times, which has poor performance.  Consider joining all columns at once using pd.concat(axis=1) instead. To get a de-fragmented frame, use `newframe = frame.copy()`\n",
      "  data[column_names] = pd.DataFrame(data['selected_card'].to_list(), index=data.index)\n",
      "/var/folders/1j/wtq97vbs2pl0w4tb09kq4m1r0000gn/T/ipykernel_50199/4280139768.py:3: PerformanceWarning: DataFrame is highly fragmented.  This is usually the result of calling `frame.insert` many times, which has poor performance.  Consider joining all columns at once using pd.concat(axis=1) instead. To get a de-fragmented frame, use `newframe = frame.copy()`\n",
      "  data[column_names] = pd.DataFrame(data['selected_card'].to_list(), index=data.index)\n",
      "/var/folders/1j/wtq97vbs2pl0w4tb09kq4m1r0000gn/T/ipykernel_50199/4280139768.py:3: PerformanceWarning: DataFrame is highly fragmented.  This is usually the result of calling `frame.insert` many times, which has poor performance.  Consider joining all columns at once using pd.concat(axis=1) instead. To get a de-fragmented frame, use `newframe = frame.copy()`\n",
      "  data[column_names] = pd.DataFrame(data['selected_card'].to_list(), index=data.index)\n",
      "/var/folders/1j/wtq97vbs2pl0w4tb09kq4m1r0000gn/T/ipykernel_50199/4280139768.py:3: PerformanceWarning: DataFrame is highly fragmented.  This is usually the result of calling `frame.insert` many times, which has poor performance.  Consider joining all columns at once using pd.concat(axis=1) instead. To get a de-fragmented frame, use `newframe = frame.copy()`\n",
      "  data[column_names] = pd.DataFrame(data['selected_card'].to_list(), index=data.index)\n",
      "/var/folders/1j/wtq97vbs2pl0w4tb09kq4m1r0000gn/T/ipykernel_50199/4280139768.py:3: PerformanceWarning: DataFrame is highly fragmented.  This is usually the result of calling `frame.insert` many times, which has poor performance.  Consider joining all columns at once using pd.concat(axis=1) instead. To get a de-fragmented frame, use `newframe = frame.copy()`\n",
      "  data[column_names] = pd.DataFrame(data['selected_card'].to_list(), index=data.index)\n",
      "/var/folders/1j/wtq97vbs2pl0w4tb09kq4m1r0000gn/T/ipykernel_50199/4280139768.py:3: PerformanceWarning: DataFrame is highly fragmented.  This is usually the result of calling `frame.insert` many times, which has poor performance.  Consider joining all columns at once using pd.concat(axis=1) instead. To get a de-fragmented frame, use `newframe = frame.copy()`\n",
      "  data[column_names] = pd.DataFrame(data['selected_card'].to_list(), index=data.index)\n",
      "/var/folders/1j/wtq97vbs2pl0w4tb09kq4m1r0000gn/T/ipykernel_50199/4280139768.py:3: PerformanceWarning: DataFrame is highly fragmented.  This is usually the result of calling `frame.insert` many times, which has poor performance.  Consider joining all columns at once using pd.concat(axis=1) instead. To get a de-fragmented frame, use `newframe = frame.copy()`\n",
      "  data[column_names] = pd.DataFrame(data['selected_card'].to_list(), index=data.index)\n",
      "/var/folders/1j/wtq97vbs2pl0w4tb09kq4m1r0000gn/T/ipykernel_50199/4280139768.py:3: PerformanceWarning: DataFrame is highly fragmented.  This is usually the result of calling `frame.insert` many times, which has poor performance.  Consider joining all columns at once using pd.concat(axis=1) instead. To get a de-fragmented frame, use `newframe = frame.copy()`\n",
      "  data[column_names] = pd.DataFrame(data['selected_card'].to_list(), index=data.index)\n"
     ]
    }
   ],
   "source": [
    "column_names = ['selected_card_' + card for card in cards]\n",
    "\n",
    "data[column_names] = pd.DataFrame(data['selected_card'].to_list(), index=data.index)\n",
    "data.drop('selected_card', axis=1, inplace=True)"
   ]
  },
  {
   "cell_type": "code",
   "execution_count": 23,
   "metadata": {},
   "outputs": [
    {
     "data": {
      "text/html": [
       "<div>\n",
       "<style scoped>\n",
       "    .dataframe tbody tr th:only-of-type {\n",
       "        vertical-align: middle;\n",
       "    }\n",
       "\n",
       "    .dataframe tbody tr th {\n",
       "        vertical-align: top;\n",
       "    }\n",
       "\n",
       "    .dataframe thead th {\n",
       "        text-align: right;\n",
       "    }\n",
       "</style>\n",
       "<table border=\"1\" class=\"dataframe\">\n",
       "  <thead>\n",
       "    <tr style=\"text-align: right;\">\n",
       "      <th></th>\n",
       "      <th>trump</th>\n",
       "      <th>played_cards_DA</th>\n",
       "      <th>played_cards_DK</th>\n",
       "      <th>played_cards_DQ</th>\n",
       "      <th>played_cards_DJ</th>\n",
       "      <th>played_cards_D10</th>\n",
       "      <th>played_cards_D9</th>\n",
       "      <th>played_cards_D8</th>\n",
       "      <th>played_cards_D7</th>\n",
       "      <th>played_cards_D6</th>\n",
       "      <th>...</th>\n",
       "      <th>selected_card_S6</th>\n",
       "      <th>selected_card_CA</th>\n",
       "      <th>selected_card_CK</th>\n",
       "      <th>selected_card_CQ</th>\n",
       "      <th>selected_card_CJ</th>\n",
       "      <th>selected_card_C10</th>\n",
       "      <th>selected_card_C9</th>\n",
       "      <th>selected_card_C8</th>\n",
       "      <th>selected_card_C7</th>\n",
       "      <th>selected_card_C6</th>\n",
       "    </tr>\n",
       "  </thead>\n",
       "  <tbody>\n",
       "    <tr>\n",
       "      <th>1</th>\n",
       "      <td>HEARTS</td>\n",
       "      <td>0</td>\n",
       "      <td>0</td>\n",
       "      <td>0</td>\n",
       "      <td>0</td>\n",
       "      <td>0</td>\n",
       "      <td>0</td>\n",
       "      <td>0</td>\n",
       "      <td>0</td>\n",
       "      <td>0</td>\n",
       "      <td>...</td>\n",
       "      <td>0</td>\n",
       "      <td>0</td>\n",
       "      <td>0</td>\n",
       "      <td>0</td>\n",
       "      <td>0</td>\n",
       "      <td>0</td>\n",
       "      <td>0</td>\n",
       "      <td>0</td>\n",
       "      <td>0</td>\n",
       "      <td>0</td>\n",
       "    </tr>\n",
       "    <tr>\n",
       "      <th>2</th>\n",
       "      <td>HEARTS</td>\n",
       "      <td>0</td>\n",
       "      <td>0</td>\n",
       "      <td>0</td>\n",
       "      <td>0</td>\n",
       "      <td>1</td>\n",
       "      <td>0</td>\n",
       "      <td>0</td>\n",
       "      <td>0</td>\n",
       "      <td>0</td>\n",
       "      <td>...</td>\n",
       "      <td>0</td>\n",
       "      <td>0</td>\n",
       "      <td>0</td>\n",
       "      <td>0</td>\n",
       "      <td>1</td>\n",
       "      <td>0</td>\n",
       "      <td>0</td>\n",
       "      <td>0</td>\n",
       "      <td>0</td>\n",
       "      <td>0</td>\n",
       "    </tr>\n",
       "    <tr>\n",
       "      <th>3</th>\n",
       "      <td>HEARTS</td>\n",
       "      <td>0</td>\n",
       "      <td>0</td>\n",
       "      <td>0</td>\n",
       "      <td>0</td>\n",
       "      <td>1</td>\n",
       "      <td>0</td>\n",
       "      <td>0</td>\n",
       "      <td>0</td>\n",
       "      <td>0</td>\n",
       "      <td>...</td>\n",
       "      <td>0</td>\n",
       "      <td>0</td>\n",
       "      <td>0</td>\n",
       "      <td>0</td>\n",
       "      <td>0</td>\n",
       "      <td>0</td>\n",
       "      <td>0</td>\n",
       "      <td>0</td>\n",
       "      <td>0</td>\n",
       "      <td>0</td>\n",
       "    </tr>\n",
       "    <tr>\n",
       "      <th>4</th>\n",
       "      <td>HEARTS</td>\n",
       "      <td>0</td>\n",
       "      <td>0</td>\n",
       "      <td>0</td>\n",
       "      <td>0</td>\n",
       "      <td>1</td>\n",
       "      <td>0</td>\n",
       "      <td>0</td>\n",
       "      <td>0</td>\n",
       "      <td>0</td>\n",
       "      <td>...</td>\n",
       "      <td>0</td>\n",
       "      <td>0</td>\n",
       "      <td>0</td>\n",
       "      <td>0</td>\n",
       "      <td>0</td>\n",
       "      <td>0</td>\n",
       "      <td>0</td>\n",
       "      <td>0</td>\n",
       "      <td>0</td>\n",
       "      <td>1</td>\n",
       "    </tr>\n",
       "    <tr>\n",
       "      <th>5</th>\n",
       "      <td>HEARTS</td>\n",
       "      <td>0</td>\n",
       "      <td>0</td>\n",
       "      <td>0</td>\n",
       "      <td>0</td>\n",
       "      <td>1</td>\n",
       "      <td>0</td>\n",
       "      <td>0</td>\n",
       "      <td>0</td>\n",
       "      <td>0</td>\n",
       "      <td>...</td>\n",
       "      <td>0</td>\n",
       "      <td>0</td>\n",
       "      <td>0</td>\n",
       "      <td>0</td>\n",
       "      <td>0</td>\n",
       "      <td>0</td>\n",
       "      <td>0</td>\n",
       "      <td>1</td>\n",
       "      <td>0</td>\n",
       "      <td>0</td>\n",
       "    </tr>\n",
       "  </tbody>\n",
       "</table>\n",
       "<p>5 rows × 109 columns</p>\n",
       "</div>"
      ],
      "text/plain": [
       "    trump  played_cards_DA  played_cards_DK  played_cards_DQ  played_cards_DJ  \\\n",
       "1  HEARTS                0                0                0                0   \n",
       "2  HEARTS                0                0                0                0   \n",
       "3  HEARTS                0                0                0                0   \n",
       "4  HEARTS                0                0                0                0   \n",
       "5  HEARTS                0                0                0                0   \n",
       "\n",
       "   played_cards_D10  played_cards_D9  played_cards_D8  played_cards_D7  \\\n",
       "1                 0                0                0                0   \n",
       "2                 1                0                0                0   \n",
       "3                 1                0                0                0   \n",
       "4                 1                0                0                0   \n",
       "5                 1                0                0                0   \n",
       "\n",
       "   played_cards_D6  ...  selected_card_S6  selected_card_CA  selected_card_CK  \\\n",
       "1                0  ...                 0                 0                 0   \n",
       "2                0  ...                 0                 0                 0   \n",
       "3                0  ...                 0                 0                 0   \n",
       "4                0  ...                 0                 0                 0   \n",
       "5                0  ...                 0                 0                 0   \n",
       "\n",
       "   selected_card_CQ  selected_card_CJ  selected_card_C10  selected_card_C9  \\\n",
       "1                 0                 0                  0                 0   \n",
       "2                 0                 1                  0                 0   \n",
       "3                 0                 0                  0                 0   \n",
       "4                 0                 0                  0                 0   \n",
       "5                 0                 0                  0                 0   \n",
       "\n",
       "   selected_card_C8  selected_card_C7  selected_card_C6  \n",
       "1                 0                 0                 0  \n",
       "2                 0                 0                 0  \n",
       "3                 0                 0                 0  \n",
       "4                 0                 0                 1  \n",
       "5                 1                 0                 0  \n",
       "\n",
       "[5 rows x 109 columns]"
      ]
     },
     "execution_count": 23,
     "metadata": {},
     "output_type": "execute_result"
    }
   ],
   "source": [
    "data.head()"
   ]
  },
  {
   "cell_type": "code",
   "execution_count": 24,
   "metadata": {},
   "outputs": [
    {
     "data": {
      "text/plain": [
       "['trump',\n",
       " 'played_cards_DA',\n",
       " 'played_cards_DK',\n",
       " 'played_cards_DQ',\n",
       " 'played_cards_DJ',\n",
       " 'played_cards_D10',\n",
       " 'played_cards_D9',\n",
       " 'played_cards_D8',\n",
       " 'played_cards_D7',\n",
       " 'played_cards_D6',\n",
       " 'played_cards_HA',\n",
       " 'played_cards_HK',\n",
       " 'played_cards_HQ',\n",
       " 'played_cards_HJ',\n",
       " 'played_cards_H10',\n",
       " 'played_cards_H9',\n",
       " 'played_cards_H8',\n",
       " 'played_cards_H7',\n",
       " 'played_cards_H6',\n",
       " 'played_cards_SA',\n",
       " 'played_cards_SK',\n",
       " 'played_cards_SQ',\n",
       " 'played_cards_SJ',\n",
       " 'played_cards_S10',\n",
       " 'played_cards_S9',\n",
       " 'played_cards_S8',\n",
       " 'played_cards_S7',\n",
       " 'played_cards_S6',\n",
       " 'played_cards_CA',\n",
       " 'played_cards_CK',\n",
       " 'played_cards_CQ',\n",
       " 'played_cards_CJ',\n",
       " 'played_cards_C10',\n",
       " 'played_cards_C9',\n",
       " 'played_cards_C8',\n",
       " 'played_cards_C7',\n",
       " 'played_cards_C6',\n",
       " 'valid_cards_DA',\n",
       " 'valid_cards_DK',\n",
       " 'valid_cards_DQ',\n",
       " 'valid_cards_DJ',\n",
       " 'valid_cards_D10',\n",
       " 'valid_cards_D9',\n",
       " 'valid_cards_D8',\n",
       " 'valid_cards_D7',\n",
       " 'valid_cards_D6',\n",
       " 'valid_cards_HA',\n",
       " 'valid_cards_HK',\n",
       " 'valid_cards_HQ',\n",
       " 'valid_cards_HJ',\n",
       " 'valid_cards_H10',\n",
       " 'valid_cards_H9',\n",
       " 'valid_cards_H8',\n",
       " 'valid_cards_H7',\n",
       " 'valid_cards_H6',\n",
       " 'valid_cards_SA',\n",
       " 'valid_cards_SK',\n",
       " 'valid_cards_SQ',\n",
       " 'valid_cards_SJ',\n",
       " 'valid_cards_S10',\n",
       " 'valid_cards_S9',\n",
       " 'valid_cards_S8',\n",
       " 'valid_cards_S7',\n",
       " 'valid_cards_S6',\n",
       " 'valid_cards_CA',\n",
       " 'valid_cards_CK',\n",
       " 'valid_cards_CQ',\n",
       " 'valid_cards_CJ',\n",
       " 'valid_cards_C10',\n",
       " 'valid_cards_C9',\n",
       " 'valid_cards_C8',\n",
       " 'valid_cards_C7',\n",
       " 'valid_cards_C6',\n",
       " 'selected_card_DA',\n",
       " 'selected_card_DK',\n",
       " 'selected_card_DQ',\n",
       " 'selected_card_DJ',\n",
       " 'selected_card_D10',\n",
       " 'selected_card_D9',\n",
       " 'selected_card_D8',\n",
       " 'selected_card_D7',\n",
       " 'selected_card_D6',\n",
       " 'selected_card_HA',\n",
       " 'selected_card_HK',\n",
       " 'selected_card_HQ',\n",
       " 'selected_card_HJ',\n",
       " 'selected_card_H10',\n",
       " 'selected_card_H9',\n",
       " 'selected_card_H8',\n",
       " 'selected_card_H7',\n",
       " 'selected_card_H6',\n",
       " 'selected_card_SA',\n",
       " 'selected_card_SK',\n",
       " 'selected_card_SQ',\n",
       " 'selected_card_SJ',\n",
       " 'selected_card_S10',\n",
       " 'selected_card_S9',\n",
       " 'selected_card_S8',\n",
       " 'selected_card_S7',\n",
       " 'selected_card_S6',\n",
       " 'selected_card_CA',\n",
       " 'selected_card_CK',\n",
       " 'selected_card_CQ',\n",
       " 'selected_card_CJ',\n",
       " 'selected_card_C10',\n",
       " 'selected_card_C9',\n",
       " 'selected_card_C8',\n",
       " 'selected_card_C7',\n",
       " 'selected_card_C6']"
      ]
     },
     "execution_count": 24,
     "metadata": {},
     "output_type": "execute_result"
    }
   ],
   "source": [
    "data.columns.to_list()"
   ]
  },
  {
   "cell_type": "markdown",
   "metadata": {},
   "source": [
    "## Save the dataset"
   ]
  },
  {
   "cell_type": "code",
   "execution_count": 25,
   "metadata": {},
   "outputs": [],
   "source": [
    "data.to_csv(path_to_data / 'card_prediction' / 'card_prediction_0002.csv', index=False)"
   ]
  }
 ],
 "metadata": {
  "kernelspec": {
   "display_name": "dl4g",
   "language": "python",
   "name": "python3"
  },
  "language_info": {
   "codemirror_mode": {
    "name": "ipython",
    "version": 3
   },
   "file_extension": ".py",
   "mimetype": "text/x-python",
   "name": "python",
   "nbconvert_exporter": "python",
   "pygments_lexer": "ipython3",
   "version": "3.10.16"
  }
 },
 "nbformat": 4,
 "nbformat_minor": 2
}
