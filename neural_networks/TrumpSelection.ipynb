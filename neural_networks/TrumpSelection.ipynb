{
 "cells": [
  {
   "cell_type": "code",
   "execution_count": 7,
   "metadata": {},
   "outputs": [
    {
     "name": "stdout",
     "output_type": "stream",
     "text": [
      "Epoch 1/20\n",
      "25/25 [==============================] - 0s 4ms/step - loss: 0.5429 - accuracy: 0.7550 - val_loss: 0.5630 - val_accuracy: 0.7300\n",
      "Epoch 2/20\n",
      "25/25 [==============================] - 0s 1ms/step - loss: 0.5132 - accuracy: 0.7600 - val_loss: 0.5336 - val_accuracy: 0.7300\n",
      "Epoch 3/20\n",
      "25/25 [==============================] - 0s 1ms/step - loss: 0.4850 - accuracy: 0.7600 - val_loss: 0.4964 - val_accuracy: 0.7300\n",
      "Epoch 4/20\n",
      "25/25 [==============================] - 0s 1ms/step - loss: 0.4621 - accuracy: 0.7675 - val_loss: 0.4752 - val_accuracy: 0.7300\n",
      "Epoch 5/20\n",
      "25/25 [==============================] - 0s 1ms/step - loss: 0.4411 - accuracy: 0.7725 - val_loss: 0.4507 - val_accuracy: 0.7450\n",
      "Epoch 6/20\n",
      "25/25 [==============================] - 0s 1ms/step - loss: 0.4234 - accuracy: 0.7750 - val_loss: 0.4318 - val_accuracy: 0.8000\n",
      "Epoch 7/20\n",
      "25/25 [==============================] - 0s 1ms/step - loss: 0.4188 - accuracy: 0.7837 - val_loss: 0.4159 - val_accuracy: 0.8150\n",
      "Epoch 8/20\n",
      "25/25 [==============================] - 0s 1ms/step - loss: 0.4027 - accuracy: 0.7700 - val_loss: 0.4092 - val_accuracy: 0.8000\n",
      "Epoch 9/20\n",
      "25/25 [==============================] - 0s 1ms/step - loss: 0.3982 - accuracy: 0.7788 - val_loss: 0.4106 - val_accuracy: 0.7700\n",
      "Epoch 10/20\n",
      "25/25 [==============================] - 0s 1ms/step - loss: 0.3934 - accuracy: 0.7763 - val_loss: 0.4134 - val_accuracy: 0.7650\n",
      "Epoch 11/20\n",
      "25/25 [==============================] - 0s 1ms/step - loss: 0.3846 - accuracy: 0.7975 - val_loss: 0.3949 - val_accuracy: 0.8100\n",
      "Epoch 12/20\n",
      "25/25 [==============================] - 0s 1ms/step - loss: 0.3796 - accuracy: 0.7775 - val_loss: 0.3957 - val_accuracy: 0.7900\n",
      "Epoch 13/20\n",
      "25/25 [==============================] - 0s 1ms/step - loss: 0.3756 - accuracy: 0.7925 - val_loss: 0.3961 - val_accuracy: 0.7750\n",
      "Epoch 14/20\n",
      "25/25 [==============================] - 0s 1ms/step - loss: 0.3745 - accuracy: 0.7912 - val_loss: 0.3880 - val_accuracy: 0.8350\n",
      "Epoch 15/20\n",
      "25/25 [==============================] - 0s 1ms/step - loss: 0.3827 - accuracy: 0.7775 - val_loss: 0.3891 - val_accuracy: 0.8150\n",
      "Epoch 16/20\n",
      "25/25 [==============================] - 0s 1ms/step - loss: 0.3761 - accuracy: 0.7887 - val_loss: 0.3969 - val_accuracy: 0.7750\n",
      "Epoch 17/20\n",
      "25/25 [==============================] - 0s 989us/step - loss: 0.3695 - accuracy: 0.7950 - val_loss: 0.3826 - val_accuracy: 0.8250\n",
      "Epoch 18/20\n",
      "25/25 [==============================] - 0s 1ms/step - loss: 0.3675 - accuracy: 0.7987 - val_loss: 0.4116 - val_accuracy: 0.7600\n",
      "Epoch 19/20\n",
      "25/25 [==============================] - 0s 989us/step - loss: 0.3716 - accuracy: 0.7850 - val_loss: 0.3965 - val_accuracy: 0.7700\n",
      "Epoch 20/20\n",
      "25/25 [==============================] - 0s 1ms/step - loss: 0.3646 - accuracy: 0.8037 - val_loss: 0.3844 - val_accuracy: 0.7850\n",
      "7/7 [==============================] - 0s 537us/step - loss: 0.3844 - accuracy: 0.7850\n",
      "Test Loss: 0.3844, Test Accuracy: 0.7850\n"
     ]
    }
   ],
   "source": [
    "import pandas as pd\n",
    "from pathlib import Path\n",
    "import pandas as pd\n",
    "import numpy as np\n",
    "from sklearn.model_selection import train_test_split\n",
    "from tensorflow.keras.models import Sequential\n",
    "from tensorflow.keras.layers import Dense\n",
    "from tensorflow.keras.optimizers import Adam\n",
    "\n",
    "\n",
    "path_to_data = Path('../data')\n",
    "data = pd.read_csv(path_to_data / '2018_10_18_trump.csv', header=None, nrows=1000)\n",
    "cards = [\n",
    "'DA','DK','DQ','DJ','D10','D9','D8','D7','D6',\n",
    "'HA','HK','HQ','HJ','H10','H9','H8','H7','H6',\n",
    "'SA','SK','SQ','SJ','S10','S9','S8','S7','S6',\n",
    "\n",
    "'CA','CK','CQ','CJ','C10','C9','C8','C7','C6'\n",
    "]\n",
    "forehand = ['FH']\n",
    "\n",
    "user  = ['user']\n",
    "trump = ['trump']\n",
    "\n",
    "data.columns = cards + forehand + user + trump\n",
    "data.drop('user', axis='columns', inplace=True)\n",
    "\n",
    "data['diamonds'] = data[['DA', 'DK', 'DQ', 'DJ', 'D10', 'D9', 'D8', 'D7', 'D6']].sum(axis=1)\n",
    "data['hearts'] = data[['HA', 'HK', 'HQ', 'HJ', 'H10', 'H9', 'H8', 'H7', 'H6']].sum(axis=1)\n",
    "data['spades'] = data[['SA', 'SK', 'SQ', 'SJ', 'S10', 'S9', 'S8', 'S7', 'S6']].sum(axis=1)\n",
    "data['clubs'] = data[['CA', 'CK', 'CQ', 'CJ', 'C10', 'C9', 'C8', 'C7', 'C6']].sum(axis=1)\n",
    "\n",
    "data['total_cards'] = data[cards].sum(axis=1)\n",
    "\n",
    "data = pd.get_dummies(data, columns=['trump'], prefix='trump')\n",
    "\n",
    "data.drop(columns=cards, inplace=True)\n",
    "\n",
    "X = data.drop(columns=['FH']).values\n",
    "y = data['FH'].values\n",
    "\n",
    "X_train, X_test, y_train, y_test = train_test_split(X, y, test_size=0.2, random_state=42)\n",
    "\n",
    "model = Sequential([\n",
    "    Dense(64, input_dim=X_train.shape[1], activation='relu'),\n",
    "    Dense(32, activation='relu'),\n",
    "    Dense(1, activation='sigmoid')\n",
    "])\n",
    "\n",
    "model.compile(optimizer=Adam(learning_rate=0.001), loss='binary_crossentropy', metrics=['accuracy'])\n",
    "\n",
    "model.fit(X_train, y_train, epochs=20, batch_size=32, validation_data=(X_test, y_test))\n",
    "\n",
    "loss, accuracy = model.evaluate(X_test, y_test)\n",
    "print(f\"Test Loss: {loss:.4f}, Test Accuracy: {accuracy:.4f}\")\n",
    "\n",
    "model.save('trump_model.h5')  \n",
    "\n"
   ]
  },
  {
   "cell_type": "markdown",
   "metadata": {},
   "source": [
    "# Usage"
   ]
  },
  {
   "cell_type": "code",
   "execution_count": null,
   "metadata": {},
   "outputs": [],
   "source": [
    "from tensorflow.keras.models import load_model\n",
    "import numpy as np\n",
    "\n",
    "model = load_model('trump_model.h5')\n",
    "\n",
    "X_new = None\n",
    "predictions = model.predict(X_new)\n"
   ]
  },
  {
   "cell_type": "code",
   "execution_count": null,
   "metadata": {},
   "outputs": [],
   "source": []
  }
 ],
 "metadata": {
  "kernelspec": {
   "display_name": "dl4g",
   "language": "python",
   "name": "python3"
  },
  "language_info": {
   "codemirror_mode": {
    "name": "ipython",
    "version": 3
   },
   "file_extension": ".py",
   "mimetype": "text/x-python",
   "name": "python",
   "nbconvert_exporter": "python",
   "pygments_lexer": "ipython3",
   "version": "3.6.8"
  }
 },
 "nbformat": 4,
 "nbformat_minor": 2
}
