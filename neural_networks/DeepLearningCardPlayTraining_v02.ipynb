{
 "cells": [
  {
   "cell_type": "code",
   "execution_count": 26,
   "metadata": {},
   "outputs": [],
   "source": [
    "%matplotlib inline\n",
    "\n",
    "import json\n",
    "import ast\n",
    "\n",
    "import numpy as np\n",
    "import pandas as pd\n",
    "\n",
    "import matplotlib.pyplot as plt\n",
    "import seaborn as sns\n",
    "\n",
    "from pathlib import Path\n",
    "from typing import List\n",
    "\n",
    "import tensorflow as tf\n",
    "from tensorflow import keras\n",
    "from tensorflow.keras.callbacks import EarlyStopping\n",
    "from tensorflow.keras.models import Sequential\n",
    "from tensorflow.keras.layers import Input, Dense, Dropout\n",
    "\n",
    "from sklearn.model_selection import train_test_split\n",
    "\n",
    "from jass.logs.game_log_entry import GameLogEntry\n",
    "from jass.game.game_state import GameState\n",
    "from jass.game.game_state_util import state_from_complete_game, observation_from_state\n",
    "from jass.game.game_util import convert_int_encoded_cards_to_str_encoded, convert_one_hot_encoded_cards_to_str_encoded_list\n",
    "\n",
    "from jass.game.rule_schieber import RuleSchieber\n",
    "\n",
    "game_rule = RuleSchieber()\n",
    "path_to_data = Path('../data')"
   ]
  },
  {
   "cell_type": "markdown",
   "metadata": {},
   "source": [
    "## Dataset Structure for Model Training\n",
    "\n",
    "### Simple\n",
    "Features: (2x36 = 72)\n",
    "- cards played in current round (9x9 = 36)\n",
    "- valid cards (9x9 = 36)\n",
    "\n",
    "Target: (9x9 = 36 -> only select one! / or probability)\n",
    "- choose one of the valid cards in own hand\n",
    "- one-hot-encoding of all cards\n",
    "- select only cards that are available\n",
    "- select only cards that are valid\n",
    "\n",
    "### More Useful Information\n",
    "Features: (4x36 = 144)\n",
    "- already played cards (9x9 = 36)\n",
    "- cards played in current round (9x9 = 36)\n",
    "- cards in hand (9x9 = 36)\n",
    "- valid cards (9x9 = 36)\n",
    "\n",
    "Target: (9x9 = 36 -> only select one! / or probability)\n",
    "- choose one of the valid cards in own hand\n",
    "- one-hot-encoding of all cards\n",
    "- select only cards that are available\n",
    "- select only cards that are valid"
   ]
  },
  {
   "cell_type": "markdown",
   "metadata": {},
   "source": [
    "## Simple Model"
   ]
  },
  {
   "cell_type": "markdown",
   "metadata": {},
   "source": [
    "First we have to import the generated Dataset and do some preprocessing for the model to learn the data"
   ]
  },
  {
   "cell_type": "code",
   "execution_count": 3,
   "metadata": {},
   "outputs": [],
   "source": [
    "cards = [\n",
    "    # Diamonds\n",
    "    'DA','DK','DQ','DJ','D10','D9','D8','D7','D6',\n",
    "    # Hearts\n",
    "    'HA','HK','HQ','HJ','H10','H9','H8','H7','H6',\n",
    "    # Spades\n",
    "    'SA','SK','SQ','SJ','S10','S9','S8','S7','S6',\n",
    "    # Clubs\n",
    "    'CA','CK','CQ','CJ','C10','C9','C8','C7','C6'\n",
    "]\n",
    "\n",
    "played_cards_columns = ['played_cards_' + card for card in cards]\n",
    "valid_cards_columns = ['valid_cards_' + card for card in cards]\n",
    "selected_card_columns = ['selected_card_' + card for card in cards]"
   ]
  },
  {
   "cell_type": "markdown",
   "metadata": {},
   "source": [
    "### Preprocessing"
   ]
  },
  {
   "cell_type": "code",
   "execution_count": null,
   "metadata": {},
   "outputs": [
    {
     "data": {
      "text/html": [
       "<div>\n",
       "<style scoped>\n",
       "    .dataframe tbody tr th:only-of-type {\n",
       "        vertical-align: middle;\n",
       "    }\n",
       "\n",
       "    .dataframe tbody tr th {\n",
       "        vertical-align: top;\n",
       "    }\n",
       "\n",
       "    .dataframe thead th {\n",
       "        text-align: right;\n",
       "    }\n",
       "</style>\n",
       "<table border=\"1\" class=\"dataframe\">\n",
       "  <thead>\n",
       "    <tr style=\"text-align: right;\">\n",
       "      <th></th>\n",
       "      <th>trump</th>\n",
       "      <th>played_cards_DA</th>\n",
       "      <th>played_cards_DK</th>\n",
       "      <th>played_cards_DQ</th>\n",
       "      <th>played_cards_DJ</th>\n",
       "      <th>played_cards_D10</th>\n",
       "      <th>played_cards_D9</th>\n",
       "      <th>played_cards_D8</th>\n",
       "      <th>played_cards_D7</th>\n",
       "      <th>played_cards_D6</th>\n",
       "      <th>...</th>\n",
       "      <th>selected_card_S6</th>\n",
       "      <th>selected_card_CA</th>\n",
       "      <th>selected_card_CK</th>\n",
       "      <th>selected_card_CQ</th>\n",
       "      <th>selected_card_CJ</th>\n",
       "      <th>selected_card_C10</th>\n",
       "      <th>selected_card_C9</th>\n",
       "      <th>selected_card_C8</th>\n",
       "      <th>selected_card_C7</th>\n",
       "      <th>selected_card_C6</th>\n",
       "    </tr>\n",
       "  </thead>\n",
       "  <tbody>\n",
       "    <tr>\n",
       "      <th>0</th>\n",
       "      <td>HEARTS</td>\n",
       "      <td>0</td>\n",
       "      <td>0</td>\n",
       "      <td>0</td>\n",
       "      <td>0</td>\n",
       "      <td>0</td>\n",
       "      <td>0</td>\n",
       "      <td>0</td>\n",
       "      <td>0</td>\n",
       "      <td>0</td>\n",
       "      <td>...</td>\n",
       "      <td>0</td>\n",
       "      <td>0</td>\n",
       "      <td>0</td>\n",
       "      <td>0</td>\n",
       "      <td>0</td>\n",
       "      <td>0</td>\n",
       "      <td>0</td>\n",
       "      <td>0</td>\n",
       "      <td>0</td>\n",
       "      <td>0</td>\n",
       "    </tr>\n",
       "    <tr>\n",
       "      <th>1</th>\n",
       "      <td>HEARTS</td>\n",
       "      <td>0</td>\n",
       "      <td>0</td>\n",
       "      <td>0</td>\n",
       "      <td>0</td>\n",
       "      <td>1</td>\n",
       "      <td>0</td>\n",
       "      <td>0</td>\n",
       "      <td>0</td>\n",
       "      <td>0</td>\n",
       "      <td>...</td>\n",
       "      <td>0</td>\n",
       "      <td>0</td>\n",
       "      <td>0</td>\n",
       "      <td>0</td>\n",
       "      <td>1</td>\n",
       "      <td>0</td>\n",
       "      <td>0</td>\n",
       "      <td>0</td>\n",
       "      <td>0</td>\n",
       "      <td>0</td>\n",
       "    </tr>\n",
       "    <tr>\n",
       "      <th>2</th>\n",
       "      <td>HEARTS</td>\n",
       "      <td>0</td>\n",
       "      <td>0</td>\n",
       "      <td>0</td>\n",
       "      <td>0</td>\n",
       "      <td>1</td>\n",
       "      <td>0</td>\n",
       "      <td>0</td>\n",
       "      <td>0</td>\n",
       "      <td>0</td>\n",
       "      <td>...</td>\n",
       "      <td>0</td>\n",
       "      <td>0</td>\n",
       "      <td>0</td>\n",
       "      <td>0</td>\n",
       "      <td>0</td>\n",
       "      <td>0</td>\n",
       "      <td>0</td>\n",
       "      <td>0</td>\n",
       "      <td>0</td>\n",
       "      <td>0</td>\n",
       "    </tr>\n",
       "    <tr>\n",
       "      <th>3</th>\n",
       "      <td>HEARTS</td>\n",
       "      <td>0</td>\n",
       "      <td>0</td>\n",
       "      <td>0</td>\n",
       "      <td>0</td>\n",
       "      <td>1</td>\n",
       "      <td>0</td>\n",
       "      <td>0</td>\n",
       "      <td>0</td>\n",
       "      <td>0</td>\n",
       "      <td>...</td>\n",
       "      <td>0</td>\n",
       "      <td>0</td>\n",
       "      <td>0</td>\n",
       "      <td>0</td>\n",
       "      <td>0</td>\n",
       "      <td>0</td>\n",
       "      <td>0</td>\n",
       "      <td>0</td>\n",
       "      <td>0</td>\n",
       "      <td>1</td>\n",
       "    </tr>\n",
       "    <tr>\n",
       "      <th>4</th>\n",
       "      <td>HEARTS</td>\n",
       "      <td>0</td>\n",
       "      <td>0</td>\n",
       "      <td>0</td>\n",
       "      <td>0</td>\n",
       "      <td>1</td>\n",
       "      <td>0</td>\n",
       "      <td>0</td>\n",
       "      <td>0</td>\n",
       "      <td>0</td>\n",
       "      <td>...</td>\n",
       "      <td>0</td>\n",
       "      <td>0</td>\n",
       "      <td>0</td>\n",
       "      <td>0</td>\n",
       "      <td>0</td>\n",
       "      <td>0</td>\n",
       "      <td>0</td>\n",
       "      <td>1</td>\n",
       "      <td>0</td>\n",
       "      <td>0</td>\n",
       "    </tr>\n",
       "  </tbody>\n",
       "</table>\n",
       "<p>5 rows × 109 columns</p>\n",
       "</div>"
      ],
      "text/plain": [
       "    trump  played_cards_DA  played_cards_DK  played_cards_DQ  played_cards_DJ  \\\n",
       "0  HEARTS                0                0                0                0   \n",
       "1  HEARTS                0                0                0                0   \n",
       "2  HEARTS                0                0                0                0   \n",
       "3  HEARTS                0                0                0                0   \n",
       "4  HEARTS                0                0                0                0   \n",
       "\n",
       "   played_cards_D10  played_cards_D9  played_cards_D8  played_cards_D7  \\\n",
       "0                 0                0                0                0   \n",
       "1                 1                0                0                0   \n",
       "2                 1                0                0                0   \n",
       "3                 1                0                0                0   \n",
       "4                 1                0                0                0   \n",
       "\n",
       "   played_cards_D6  ...  selected_card_S6  selected_card_CA  selected_card_CK  \\\n",
       "0                0  ...                 0                 0                 0   \n",
       "1                0  ...                 0                 0                 0   \n",
       "2                0  ...                 0                 0                 0   \n",
       "3                0  ...                 0                 0                 0   \n",
       "4                0  ...                 0                 0                 0   \n",
       "\n",
       "   selected_card_CQ  selected_card_CJ  selected_card_C10  selected_card_C9  \\\n",
       "0                 0                 0                  0                 0   \n",
       "1                 0                 1                  0                 0   \n",
       "2                 0                 0                  0                 0   \n",
       "3                 0                 0                  0                 0   \n",
       "4                 0                 0                  0                 0   \n",
       "\n",
       "   selected_card_C8  selected_card_C7  selected_card_C6  \n",
       "0                 0                 0                 0  \n",
       "1                 0                 0                 0  \n",
       "2                 0                 0                 0  \n",
       "3                 0                 0                 1  \n",
       "4                 1                 0                 0  \n",
       "\n",
       "[5 rows x 109 columns]"
      ]
     },
     "execution_count": 10,
     "metadata": {},
     "output_type": "execute_result"
    }
   ],
   "source": [
    "data = pd.read_csv(path_to_data / 'card_prediction' / 'card_prediction_0002.csv')\n",
    "\n",
    "data.head()"
   ]
  },
  {
   "cell_type": "code",
   "execution_count": 11,
   "metadata": {},
   "outputs": [
    {
     "data": {
      "text/plain": [
       "trump                2734551\n",
       "played_cards_DA      2734551\n",
       "played_cards_DK      2734551\n",
       "played_cards_DQ      2734551\n",
       "played_cards_DJ      2734551\n",
       "                      ...   \n",
       "selected_card_C10    2734551\n",
       "selected_card_C9     2734551\n",
       "selected_card_C8     2734551\n",
       "selected_card_C7     2734551\n",
       "selected_card_C6     2734551\n",
       "Length: 109, dtype: int64"
      ]
     },
     "execution_count": 11,
     "metadata": {},
     "output_type": "execute_result"
    }
   ],
   "source": [
    "data.count()"
   ]
  },
  {
   "cell_type": "markdown",
   "metadata": {},
   "source": [
    "#### Analyze correctness of the Data"
   ]
  },
  {
   "cell_type": "code",
   "execution_count": 12,
   "metadata": {},
   "outputs": [
    {
     "data": {
      "text/plain": [
       "<Axes: xlabel='trump'>"
      ]
     },
     "execution_count": 12,
     "metadata": {},
     "output_type": "execute_result"
    },
    {
     "data": {
      "image/png": "[encoded data removed]",
      "text/plain": [
       "<Figure size 640x480 with 1 Axes>"
      ]
     },
     "metadata": {},
     "output_type": "display_data"
    }
   ],
   "source": [
    "data['trump'].value_counts().plot(kind='bar')"
   ]
  },
  {
   "cell_type": "markdown",
   "metadata": {},
   "source": [
    "#### Compare valid_cards & selected_card"
   ]
  },
  {
   "cell_type": "markdown",
   "metadata": {},
   "source": [
    "Assert that the selected_card is part of the valid_cards. For simplicity we only check the first 5 rows"
   ]
  },
  {
   "cell_type": "code",
   "execution_count": 13,
   "metadata": {},
   "outputs": [
    {
     "name": "stdout",
     "output_type": "stream",
     "text": [
      "Selected Card: [np.str_('H9')]\n",
      "Valid Cards: [np.str_('H9')]\n",
      "The selected card exists in valid cards: True\n",
      "\n",
      "Selected Card: [np.str_('CJ')]\n",
      "Valid Cards: [np.str_('DA'), np.str_('DK'), np.str_('D6'), np.str_('S9'), np.str_('CK'), np.str_('CJ'), np.str_('C8'), np.str_('C6')]\n",
      "The selected card exists in valid cards: True\n",
      "\n",
      "Selected Card: [np.str_('S9')]\n",
      "Valid Cards: [np.str_('S9')]\n",
      "The selected card exists in valid cards: True\n",
      "\n",
      "Selected Card: [np.str_('C6')]\n",
      "Valid Cards: [np.str_('DA'), np.str_('DK'), np.str_('D6'), np.str_('CK'), np.str_('C8'), np.str_('C6')]\n",
      "The selected card exists in valid cards: True\n",
      "\n",
      "Selected Card: [np.str_('C8')]\n",
      "Valid Cards: [np.str_('DA'), np.str_('DK'), np.str_('D6'), np.str_('CK'), np.str_('C8')]\n",
      "The selected card exists in valid cards: True\n",
      "\n"
     ]
    }
   ],
   "source": [
    "for selected_card, valid_cards in zip(data[selected_card_columns].head().values, data[valid_cards_columns].head().values):\n",
    "    selected_card_str = convert_one_hot_encoded_cards_to_str_encoded_list(selected_card)\n",
    "    valid_cards_str = convert_one_hot_encoded_cards_to_str_encoded_list(valid_cards)\n",
    "    print(f'Selected Card: {selected_card_str}')\n",
    "    print(f'Valid Cards: {valid_cards_str}')\n",
    "    print(f'The selected card exists in valid cards: {selected_card_str[0] in valid_cards_str}\\n')"
   ]
  },
  {
   "cell_type": "markdown",
   "metadata": {},
   "source": [
    "#### Make Sure the amount of played cards is less than 36"
   ]
  },
  {
   "cell_type": "code",
   "execution_count": 14,
   "metadata": {},
   "outputs": [
    {
     "data": {
      "text/plain": [
       "np.int64(35)"
      ]
     },
     "execution_count": 14,
     "metadata": {},
     "output_type": "execute_result"
    }
   ],
   "source": [
    "data[played_cards_columns].sum(axis=1).max()"
   ]
  },
  {
   "cell_type": "markdown",
   "metadata": {},
   "source": [
    "### One-Hot-Encode Trump"
   ]
  },
  {
   "cell_type": "code",
   "execution_count": null,
   "metadata": {},
   "outputs": [
    {
     "data": {
      "text/html": [
       "<div>\n",
       "<style scoped>\n",
       "    .dataframe tbody tr th:only-of-type {\n",
       "        vertical-align: middle;\n",
       "    }\n",
       "\n",
       "    .dataframe tbody tr th {\n",
       "        vertical-align: top;\n",
       "    }\n",
       "\n",
       "    .dataframe thead th {\n",
       "        text-align: right;\n",
       "    }\n",
       "</style>\n",
       "<table border=\"1\" class=\"dataframe\">\n",
       "  <thead>\n",
       "    <tr style=\"text-align: right;\">\n",
       "      <th></th>\n",
       "      <th>trump_DIAMONDS</th>\n",
       "      <th>trump_HEARTS</th>\n",
       "      <th>trump_SPADES</th>\n",
       "      <th>trump_CLUBS</th>\n",
       "      <th>trump_OBE_ABE</th>\n",
       "      <th>trump_UNE_UFE</th>\n",
       "    </tr>\n",
       "  </thead>\n",
       "  <tbody>\n",
       "    <tr>\n",
       "      <th>0</th>\n",
       "      <td>False</td>\n",
       "      <td>True</td>\n",
       "      <td>False</td>\n",
       "      <td>False</td>\n",
       "      <td>False</td>\n",
       "      <td>False</td>\n",
       "    </tr>\n",
       "    <tr>\n",
       "      <th>1</th>\n",
       "      <td>False</td>\n",
       "      <td>True</td>\n",
       "      <td>False</td>\n",
       "      <td>False</td>\n",
       "      <td>False</td>\n",
       "      <td>False</td>\n",
       "    </tr>\n",
       "    <tr>\n",
       "      <th>2</th>\n",
       "      <td>False</td>\n",
       "      <td>True</td>\n",
       "      <td>False</td>\n",
       "      <td>False</td>\n",
       "      <td>False</td>\n",
       "      <td>False</td>\n",
       "    </tr>\n",
       "    <tr>\n",
       "      <th>3</th>\n",
       "      <td>False</td>\n",
       "      <td>True</td>\n",
       "      <td>False</td>\n",
       "      <td>False</td>\n",
       "      <td>False</td>\n",
       "      <td>False</td>\n",
       "    </tr>\n",
       "    <tr>\n",
       "      <th>4</th>\n",
       "      <td>False</td>\n",
       "      <td>True</td>\n",
       "      <td>False</td>\n",
       "      <td>False</td>\n",
       "      <td>False</td>\n",
       "      <td>False</td>\n",
       "    </tr>\n",
       "  </tbody>\n",
       "</table>\n",
       "</div>"
      ],
      "text/plain": [
       "   trump_DIAMONDS  trump_HEARTS  trump_SPADES  trump_CLUBS  trump_OBE_ABE  \\\n",
       "0           False          True         False        False          False   \n",
       "1           False          True         False        False          False   \n",
       "2           False          True         False        False          False   \n",
       "3           False          True         False        False          False   \n",
       "4           False          True         False        False          False   \n",
       "\n",
       "   trump_UNE_UFE  \n",
       "0          False  \n",
       "1          False  \n",
       "2          False  \n",
       "3          False  \n",
       "4          False  "
      ]
     },
     "execution_count": 15,
     "metadata": {},
     "output_type": "execute_result"
    }
   ],
   "source": [
    "data.trump = data.trump.astype('category')\n",
    "\n",
    "# THIS IS IMPORTANT TO MAKE SURE THE MODEL IS TRAINED WITH THE CORRECT INPUT ORDER -> ALSO LATER FOR PREDICITON USAGE\n",
    "trump_columns = [\n",
    "    'trump_DIAMONDS', 'trump_HEARTS', 'trump_SPADES', 'trump_CLUBS', 'trump_OBE_ABE', 'trump_UNE_UFE'\n",
    "]\n",
    "\n",
    "# One-hot encode the 'trump' column\n",
    "trump_encoded = pd.get_dummies(data['trump'], prefix='trump')\n",
    "\n",
    "# Concatenate the encoded column back to the original DataFrame\n",
    "data = pd.concat([data, trump_encoded], axis=1)\n",
    "\n",
    "data[trump_columns].head()"
   ]
  },
  {
   "cell_type": "code",
   "execution_count": 16,
   "metadata": {},
   "outputs": [],
   "source": [
    "data.drop('trump', axis=1, inplace=True)"
   ]
  },
  {
   "cell_type": "code",
   "execution_count": 17,
   "metadata": {},
   "outputs": [
    {
     "data": {
      "text/plain": [
       "Index(['played_cards_DA', 'played_cards_DK', 'played_cards_DQ',\n",
       "       'played_cards_DJ', 'played_cards_D10', 'played_cards_D9',\n",
       "       'played_cards_D8', 'played_cards_D7', 'played_cards_D6',\n",
       "       'played_cards_HA',\n",
       "       ...\n",
       "       'selected_card_C9', 'selected_card_C8', 'selected_card_C7',\n",
       "       'selected_card_C6', 'trump_CLUBS', 'trump_DIAMONDS', 'trump_HEARTS',\n",
       "       'trump_OBE_ABE', 'trump_SPADES', 'trump_UNE_UFE'],\n",
       "      dtype='object', length=114)"
      ]
     },
     "execution_count": 17,
     "metadata": {},
     "output_type": "execute_result"
    }
   ],
   "source": [
    "data.columns"
   ]
  },
  {
   "cell_type": "markdown",
   "metadata": {},
   "source": [
    "# Card Play Prediction Model (DNN)"
   ]
  },
  {
   "cell_type": "code",
   "execution_count": 18,
   "metadata": {},
   "outputs": [],
   "source": [
    "data = data.astype(np.float32)"
   ]
  },
  {
   "cell_type": "code",
   "execution_count": 19,
   "metadata": {},
   "outputs": [
    {
     "data": {
      "text/plain": [
       "[0.0,\n",
       " 0.0,\n",
       " 0.0,\n",
       " 0.0,\n",
       " 1.0,\n",
       " 0.0,\n",
       " 0.0,\n",
       " 0.0,\n",
       " 0.0,\n",
       " 1.0,\n",
       " 0.0,\n",
       " 0.0,\n",
       " 0.0,\n",
       " 1.0,\n",
       " 1.0,\n",
       " 0.0,\n",
       " 0.0,\n",
       " 0.0,\n",
       " 0.0,\n",
       " 0.0,\n",
       " 0.0,\n",
       " 0.0,\n",
       " 0.0,\n",
       " 0.0,\n",
       " 0.0,\n",
       " 0.0,\n",
       " 0.0,\n",
       " 0.0,\n",
       " 0.0,\n",
       " 0.0,\n",
       " 0.0,\n",
       " 0.0,\n",
       " 0.0,\n",
       " 0.0,\n",
       " 0.0,\n",
       " 0.0,\n",
       " 1.0,\n",
       " 1.0,\n",
       " 0.0,\n",
       " 0.0,\n",
       " 0.0,\n",
       " 0.0,\n",
       " 0.0,\n",
       " 0.0,\n",
       " 1.0,\n",
       " 0.0,\n",
       " 0.0,\n",
       " 0.0,\n",
       " 0.0,\n",
       " 0.0,\n",
       " 0.0,\n",
       " 0.0,\n",
       " 0.0,\n",
       " 0.0,\n",
       " 0.0,\n",
       " 0.0,\n",
       " 0.0,\n",
       " 0.0,\n",
       " 0.0,\n",
       " 1.0,\n",
       " 0.0,\n",
       " 0.0,\n",
       " 0.0,\n",
       " 0.0,\n",
       " 1.0,\n",
       " 0.0,\n",
       " 1.0,\n",
       " 0.0,\n",
       " 0.0,\n",
       " 1.0,\n",
       " 0.0,\n",
       " 1.0,\n",
       " 0.0,\n",
       " 0.0,\n",
       " 0.0,\n",
       " 0.0,\n",
       " 0.0,\n",
       " 0.0,\n",
       " 0.0,\n",
       " 0.0,\n",
       " 0.0,\n",
       " 0.0,\n",
       " 0.0,\n",
       " 0.0,\n",
       " 0.0,\n",
       " 0.0,\n",
       " 0.0,\n",
       " 0.0,\n",
       " 0.0,\n",
       " 0.0,\n",
       " 0.0,\n",
       " 0.0,\n",
       " 0.0,\n",
       " 0.0,\n",
       " 0.0,\n",
       " 0.0,\n",
       " 0.0,\n",
       " 0.0,\n",
       " 0.0,\n",
       " 0.0,\n",
       " 0.0,\n",
       " 0.0,\n",
       " 1.0,\n",
       " 0.0,\n",
       " 0.0,\n",
       " 0.0,\n",
       " 0.0,\n",
       " 0.0,\n",
       " 0.0,\n",
       " 0.0,\n",
       " 1.0,\n",
       " 0.0,\n",
       " 0.0,\n",
       " 0.0]"
      ]
     },
     "execution_count": 19,
     "metadata": {},
     "output_type": "execute_result"
    }
   ],
   "source": [
    "data.iloc[1].to_list()"
   ]
  },
  {
   "cell_type": "code",
   "execution_count": 20,
   "metadata": {},
   "outputs": [],
   "source": [
    "feature_columns = played_cards_columns + valid_cards_columns + trump_columns"
   ]
  },
  {
   "cell_type": "code",
   "execution_count": 21,
   "metadata": {},
   "outputs": [
    {
     "data": {
      "text/plain": [
       "array([[0., 0., 0., ..., 0., 0., 0.],\n",
       "       [0., 0., 0., ..., 0., 0., 0.],\n",
       "       [0., 0., 0., ..., 0., 0., 0.],\n",
       "       ...,\n",
       "       [0., 0., 0., ..., 1., 0., 0.],\n",
       "       [0., 0., 0., ..., 1., 0., 0.],\n",
       "       [1., 0., 0., ..., 1., 0., 0.]], dtype=float32)"
      ]
     },
     "execution_count": 21,
     "metadata": {},
     "output_type": "execute_result"
    }
   ],
   "source": [
    "# Split into features (X) and target (y)\n",
    "X = np.asarray(data[ feature_columns ])\n",
    "y = np.asarray(data[\n",
    "    selected_card_columns\n",
    "])\n",
    "\n",
    "X"
   ]
  },
  {
   "cell_type": "code",
   "execution_count": 22,
   "metadata": {},
   "outputs": [],
   "source": [
    "X_train, X_test, y_train, y_test = train_test_split(X, y, test_size=0.2, random_state=42)"
   ]
  },
  {
   "cell_type": "markdown",
   "metadata": {},
   "source": [
    "### Define Model"
   ]
  },
  {
   "cell_type": "code",
   "execution_count": 33,
   "metadata": {},
   "outputs": [],
   "source": [
    "model = Sequential()\n",
    "\n",
    "model.add(Dense(228, activation=\"relu\", input_dim=X_train.shape[1]))\n",
    "model.add(Dense(114, activation=\"relu\"))\n",
    "model.add(Dense(72, activation=\"relu\"))\n",
    "model.add(Dense(y_train.shape[1], activation=\"softmax\"))\n",
    "\n",
    "model.compile(optimizer='adam',\n",
    "              loss='categorical_crossentropy',\n",
    "              metrics=['accuracy'])"
   ]
  },
  {
   "cell_type": "code",
   "execution_count": 34,
   "metadata": {},
   "outputs": [
    {
     "name": "stdout",
     "output_type": "stream",
     "text": [
      "Epoch 1/20\n",
      "\u001b[1m27346/27346\u001b[0m \u001b[32m━━━━━━━━━━━━━━━━━━━━\u001b[0m\u001b[37m\u001b[0m \u001b[1m28s\u001b[0m 1ms/step - accuracy: 0.5619 - loss: 1.0943 - val_accuracy: 0.6037 - val_loss: 0.9333\n",
      "Epoch 2/20\n",
      "\u001b[1m27346/27346\u001b[0m \u001b[32m━━━━━━━━━━━━━━━━━━━━\u001b[0m\u001b[37m\u001b[0m \u001b[1m29s\u001b[0m 1ms/step - accuracy: 0.6164 - loss: 0.8963 - val_accuracy: 0.6263 - val_loss: 0.8675\n",
      "Epoch 3/20\n",
      "\u001b[1m27346/27346\u001b[0m \u001b[32m━━━━━━━━━━━━━━━━━━━━\u001b[0m\u001b[37m\u001b[0m \u001b[1m26s\u001b[0m 940us/step - accuracy: 0.6309 - loss: 0.8548 - val_accuracy: 0.6377 - val_loss: 0.8411\n",
      "Epoch 4/20\n",
      "\u001b[1m27346/27346\u001b[0m \u001b[32m━━━━━━━━━━━━━━━━━━━━\u001b[0m\u001b[37m\u001b[0m \u001b[1m27s\u001b[0m 988us/step - accuracy: 0.6437 - loss: 0.8276 - val_accuracy: 0.6461 - val_loss: 0.8199\n",
      "Epoch 5/20\n",
      "\u001b[1m27346/27346\u001b[0m \u001b[32m━━━━━━━━━━━━━━━━━━━━\u001b[0m\u001b[37m\u001b[0m \u001b[1m27s\u001b[0m 996us/step - accuracy: 0.6539 - loss: 0.8052 - val_accuracy: 0.6564 - val_loss: 0.8032\n",
      "Epoch 6/20\n",
      "\u001b[1m27346/27346\u001b[0m \u001b[32m━━━━━━━━━━━━━━━━━━━━\u001b[0m\u001b[37m\u001b[0m \u001b[1m28s\u001b[0m 1ms/step - accuracy: 0.6614 - loss: 0.7910 - val_accuracy: 0.6636 - val_loss: 0.7958\n",
      "Epoch 7/20\n",
      "\u001b[1m27346/27346\u001b[0m \u001b[32m━━━━━━━━━━━━━━━━━━━━\u001b[0m\u001b[37m\u001b[0m \u001b[1m28s\u001b[0m 1ms/step - accuracy: 0.6679 - loss: 0.7792 - val_accuracy: 0.6672 - val_loss: 0.7841\n",
      "Epoch 8/20\n",
      "\u001b[1m27346/27346\u001b[0m \u001b[32m━━━━━━━━━━━━━━━━━━━━\u001b[0m\u001b[37m\u001b[0m \u001b[1m29s\u001b[0m 1ms/step - accuracy: 0.6736 - loss: 0.7683 - val_accuracy: 0.6727 - val_loss: 0.7748\n",
      "Epoch 9/20\n",
      "\u001b[1m27346/27346\u001b[0m \u001b[32m━━━━━━━━━━━━━━━━━━━━\u001b[0m\u001b[37m\u001b[0m \u001b[1m30s\u001b[0m 1ms/step - accuracy: 0.6788 - loss: 0.7588 - val_accuracy: 0.6781 - val_loss: 0.7597\n",
      "Epoch 10/20\n",
      "\u001b[1m27346/27346\u001b[0m \u001b[32m━━━━━━━━━━━━━━━━━━━━\u001b[0m\u001b[37m\u001b[0m \u001b[1m30s\u001b[0m 1ms/step - accuracy: 0.6831 - loss: 0.7508 - val_accuracy: 0.6802 - val_loss: 0.7583\n",
      "Epoch 11/20\n",
      "\u001b[1m27346/27346\u001b[0m \u001b[32m━━━━━━━━━━━━━━━━━━━━\u001b[0m\u001b[37m\u001b[0m \u001b[1m30s\u001b[0m 1ms/step - accuracy: 0.6866 - loss: 0.7426 - val_accuracy: 0.6883 - val_loss: 0.7449\n",
      "Epoch 12/20\n",
      "\u001b[1m27346/27346\u001b[0m \u001b[32m━━━━━━━━━━━━━━━━━━━━\u001b[0m\u001b[37m\u001b[0m \u001b[1m29s\u001b[0m 1ms/step - accuracy: 0.6879 - loss: 0.7425 - val_accuracy: 0.6871 - val_loss: 0.7490\n",
      "Epoch 13/20\n",
      "\u001b[1m27346/27346\u001b[0m \u001b[32m━━━━━━━━━━━━━━━━━━━━\u001b[0m\u001b[37m\u001b[0m \u001b[1m29s\u001b[0m 1ms/step - accuracy: 0.6894 - loss: 0.7389 - val_accuracy: 0.6845 - val_loss: 0.7534\n",
      "Epoch 14/20\n",
      "\u001b[1m27346/27346\u001b[0m \u001b[32m━━━━━━━━━━━━━━━━━━━━\u001b[0m\u001b[37m\u001b[0m \u001b[1m28s\u001b[0m 1ms/step - accuracy: 0.6905 - loss: 0.7380 - val_accuracy: 0.6880 - val_loss: 0.7414\n",
      "Epoch 15/20\n",
      "\u001b[1m27346/27346\u001b[0m \u001b[32m━━━━━━━━━━━━━━━━━━━━\u001b[0m\u001b[37m\u001b[0m \u001b[1m29s\u001b[0m 1ms/step - accuracy: 0.6907 - loss: 0.7382 - val_accuracy: 0.6888 - val_loss: 0.7759\n",
      "Epoch 16/20\n",
      "\u001b[1m27346/27346\u001b[0m \u001b[32m━━━━━━━━━━━━━━━━━━━━\u001b[0m\u001b[37m\u001b[0m \u001b[1m30s\u001b[0m 1ms/step - accuracy: 0.6916 - loss: 0.7368 - val_accuracy: 0.6859 - val_loss: 0.7498\n",
      "Epoch 17/20\n",
      "\u001b[1m27346/27346\u001b[0m \u001b[32m━━━━━━━━━━━━━━━━━━━━\u001b[0m\u001b[37m\u001b[0m \u001b[1m30s\u001b[0m 1ms/step - accuracy: 0.6911 - loss: 0.7367 - val_accuracy: 0.6854 - val_loss: 0.7520\n",
      "Epoch 18/20\n",
      "\u001b[1m27346/27346\u001b[0m \u001b[32m━━━━━━━━━━━━━━━━━━━━\u001b[0m\u001b[37m\u001b[0m \u001b[1m29s\u001b[0m 1ms/step - accuracy: 0.6917 - loss: 0.7361 - val_accuracy: 0.6748 - val_loss: 0.7655\n",
      "Epoch 19/20\n",
      "\u001b[1m27346/27346\u001b[0m \u001b[32m━━━━━━━━━━━━━━━━━━━━\u001b[0m\u001b[37m\u001b[0m \u001b[1m29s\u001b[0m 1ms/step - accuracy: 0.6919 - loss: 0.7360 - val_accuracy: 0.6843 - val_loss: 0.7490\n"
     ]
    }
   ],
   "source": [
    "early_stopping = EarlyStopping(monitor='val_loss', patience=5, restore_best_weights=True)\n",
    "history = model.fit(X_train, y_train, epochs=20, batch_size=64, validation_split=0.2, callbacks=[early_stopping])"
   ]
  },
  {
   "cell_type": "code",
   "execution_count": 35,
   "metadata": {},
   "outputs": [
    {
     "name": "stdout",
     "output_type": "stream",
     "text": [
      "\u001b[1m17091/17091\u001b[0m \u001b[32m━━━━━━━━━━━━━━━━━━━━\u001b[0m\u001b[37m\u001b[0m \u001b[1m7s\u001b[0m 396us/step - accuracy: 0.6875 - loss: 0.7417\n",
      "Test Loss: 0.7412577271461487, Test Accuracy: 0.6881265640258789\n"
     ]
    }
   ],
   "source": [
    "test_loss, test_accuracy = model.evaluate(X_test, y_test)\n",
    "print(f\"Test Loss: {test_loss}, Test Accuracy: {test_accuracy}\")"
   ]
  },
  {
   "cell_type": "code",
   "execution_count": null,
   "metadata": {},
   "outputs": [
    {
     "name": "stdout",
     "output_type": "stream",
     "text": [
      "\u001b[1m1/1\u001b[0m \u001b[32m━━━━━━━━━━━━━━━━━━━━\u001b[0m\u001b[37m\u001b[0m \u001b[1m0s\u001b[0m 62ms/step\n",
      "[[2.0293723e-04 4.1825956e-04 1.6247183e-02 1.1123820e-01 8.8868633e-02\n",
      "  1.0779480e-10 5.3600030e-07 6.4465627e-11 4.4431788e-11 7.1975110e-06\n",
      "  1.1750286e-02 2.6129436e-02 5.8103327e-02 3.7032005e-03 6.9214018e-08\n",
      "  1.4600512e-01 3.8209129e-03 6.1679580e-06 3.6725129e-03 1.8448540e-03\n",
      "  3.2614019e-02 5.8471218e-02 1.6587367e-06 2.1577601e-03 1.0035120e-01\n",
      "  3.2855663e-01 6.0677968e-07 2.8060342e-03 1.1217345e-08 5.8072551e-06\n",
      "  3.0026764e-03 3.1004740e-06 7.9636093e-09 9.7002658e-06 1.3273201e-07\n",
      "  5.2192621e-07]]\n"
     ]
    }
   ],
   "source": [
    "single_sample = X_test[0]\n",
    "\n",
    "single_sample = single_sample.reshape(1, -1)\n",
    "\n",
    "prediction = model.predict(single_sample)\n",
    "\n",
    "print(prediction)"
   ]
  },
  {
   "cell_type": "code",
   "execution_count": 46,
   "metadata": {},
   "outputs": [
    {
     "data": {
      "text/plain": [
       "[np.str_('S7')]"
      ]
     },
     "execution_count": 46,
     "metadata": {},
     "output_type": "execute_result"
    }
   ],
   "source": [
    "convert_int_encoded_cards_to_str_encoded([np.argmax(prediction)])"
   ]
  },
  {
   "cell_type": "code",
   "execution_count": 36,
   "metadata": {},
   "outputs": [],
   "source": [
    "model.save('card_prediction_v02.keras')"
   ]
  }
 ],
 "metadata": {
  "kernelspec": {
   "display_name": "dl4g",
   "language": "python",
   "name": "python3"
  },
  "language_info": {
   "codemirror_mode": {
    "name": "ipython",
    "version": 3
   },
   "file_extension": ".py",
   "mimetype": "text/x-python",
   "name": "python",
   "nbconvert_exporter": "python",
   "pygments_lexer": "ipython3",
   "version": "3.10.16"
  }
 },
 "nbformat": 4,
 "nbformat_minor": 2
}
