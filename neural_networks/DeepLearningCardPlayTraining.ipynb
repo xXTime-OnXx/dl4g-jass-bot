{
 "cells": [
  {
   "cell_type": "code",
   "execution_count": 54,
   "metadata": {},
   "outputs": [],
   "source": [
    "%matplotlib inline\n",
    "\n",
    "import json\n",
    "import ast\n",
    "\n",
    "import numpy as np\n",
    "import pandas as pd\n",
    "\n",
    "import matplotlib.pyplot as plt\n",
    "import seaborn as sns\n",
    "\n",
    "from pathlib import Path\n",
    "from typing import List\n",
    "\n",
    "import tensorflow as tf\n",
    "from tensorflow import keras\n",
    "from tensorflow.keras.models import Sequential\n",
    "from tensorflow.keras.layers import Input, Dense, Dropout\n",
    "\n",
    "from sklearn.model_selection import train_test_split\n",
    "\n",
    "from jass.logs.game_log_entry import GameLogEntry\n",
    "from jass.game.game_state import GameState\n",
    "from jass.game.game_state_util import state_from_complete_game, observation_from_state\n",
    "from jass.game.game_util import convert_int_encoded_cards_to_str_encoded, convert_one_hot_encoded_cards_to_str_encoded_list\n",
    "\n",
    "from jass.game.rule_schieber import RuleSchieber\n",
    "\n",
    "game_rule = RuleSchieber()\n",
    "path_to_data = Path('../data')"
   ]
  },
  {
   "cell_type": "markdown",
   "metadata": {},
   "source": [
    "## Dataset Structure for Model Training\n",
    "\n",
    "### Simple\n",
    "Features: (2x36 = 72)\n",
    "- cards played in current round (9x9 = 36)\n",
    "- valid cards (9x9 = 36)\n",
    "\n",
    "Target: (9x9 = 36 -> only select one! / or probability)\n",
    "- choose one of the valid cards in own hand\n",
    "- one-hot-encoding of all cards\n",
    "- select only cards that are available\n",
    "- select only cards that are valid\n",
    "\n",
    "### More Useful Information\n",
    "Features: (4x36 = 144)\n",
    "- already played cards (9x9 = 36)\n",
    "- cards played in current round (9x9 = 36)\n",
    "- cards in hand (9x9 = 36)\n",
    "- valid cards (9x9 = 36)\n",
    "\n",
    "Target: (9x9 = 36 -> only select one! / or probability)\n",
    "- choose one of the valid cards in own hand\n",
    "- one-hot-encoding of all cards\n",
    "- select only cards that are available\n",
    "- select only cards that are valid"
   ]
  },
  {
   "cell_type": "markdown",
   "metadata": {},
   "source": [
    "## Simple Model"
   ]
  },
  {
   "cell_type": "markdown",
   "metadata": {},
   "source": [
    "First we have to import the generated Dataset and do some preprocessing for the model to learn the data"
   ]
  },
  {
   "cell_type": "markdown",
   "metadata": {},
   "source": [
    "### Preprocessing"
   ]
  },
  {
   "cell_type": "code",
   "execution_count": 2,
   "metadata": {},
   "outputs": [
    {
     "data": {
      "text/html": [
       "<div>\n",
       "<style scoped>\n",
       "    .dataframe tbody tr th:only-of-type {\n",
       "        vertical-align: middle;\n",
       "    }\n",
       "\n",
       "    .dataframe tbody tr th {\n",
       "        vertical-align: top;\n",
       "    }\n",
       "\n",
       "    .dataframe thead th {\n",
       "        text-align: right;\n",
       "    }\n",
       "</style>\n",
       "<table border=\"1\" class=\"dataframe\">\n",
       "  <thead>\n",
       "    <tr style=\"text-align: right;\">\n",
       "      <th></th>\n",
       "      <th>trump</th>\n",
       "      <th>played_cards</th>\n",
       "      <th>valid_cards</th>\n",
       "      <th>selected_card</th>\n",
       "    </tr>\n",
       "  </thead>\n",
       "  <tbody>\n",
       "    <tr>\n",
       "      <th>0</th>\n",
       "      <td>TPTP</td>\n",
       "      <td>['TP']</td>\n",
       "      <td>['TP', 'TP', 'TP', 'TP', 'TP', 'TP', 'TP', 'TP...</td>\n",
       "      <td>TP</td>\n",
       "    </tr>\n",
       "    <tr>\n",
       "      <th>1</th>\n",
       "      <td>HEARTS</td>\n",
       "      <td>[np.str_('HA')]</td>\n",
       "      <td>[np.str_('H9')]</td>\n",
       "      <td>H9</td>\n",
       "    </tr>\n",
       "    <tr>\n",
       "      <th>2</th>\n",
       "      <td>HEARTS</td>\n",
       "      <td>[np.str_('HA'), np.str_('H9'), np.str_('H10'),...</td>\n",
       "      <td>[np.str_('DA'), np.str_('DK'), np.str_('D6'), ...</td>\n",
       "      <td>CJ</td>\n",
       "    </tr>\n",
       "    <tr>\n",
       "      <th>3</th>\n",
       "      <td>HEARTS</td>\n",
       "      <td>[np.str_('HA'), np.str_('H9'), np.str_('H10'),...</td>\n",
       "      <td>[np.str_('S9')]</td>\n",
       "      <td>S9</td>\n",
       "    </tr>\n",
       "    <tr>\n",
       "      <th>4</th>\n",
       "      <td>HEARTS</td>\n",
       "      <td>[np.str_('HA'), np.str_('H9'), np.str_('H10'),...</td>\n",
       "      <td>[np.str_('DA'), np.str_('DK'), np.str_('D6'), ...</td>\n",
       "      <td>C6</td>\n",
       "    </tr>\n",
       "  </tbody>\n",
       "</table>\n",
       "</div>"
      ],
      "text/plain": [
       "    trump                                       played_cards  \\\n",
       "0    TPTP                                             ['TP']   \n",
       "1  HEARTS                                    [np.str_('HA')]   \n",
       "2  HEARTS  [np.str_('HA'), np.str_('H9'), np.str_('H10'),...   \n",
       "3  HEARTS  [np.str_('HA'), np.str_('H9'), np.str_('H10'),...   \n",
       "4  HEARTS  [np.str_('HA'), np.str_('H9'), np.str_('H10'),...   \n",
       "\n",
       "                                         valid_cards selected_card  \n",
       "0  ['TP', 'TP', 'TP', 'TP', 'TP', 'TP', 'TP', 'TP...            TP  \n",
       "1                                    [np.str_('H9')]            H9  \n",
       "2  [np.str_('DA'), np.str_('DK'), np.str_('D6'), ...            CJ  \n",
       "3                                    [np.str_('S9')]            S9  \n",
       "4  [np.str_('DA'), np.str_('DK'), np.str_('D6'), ...            C6  "
      ]
     },
     "execution_count": 2,
     "metadata": {},
     "output_type": "execute_result"
    }
   ],
   "source": [
    "data = pd.read_csv(path_to_data / 'card_prediction' / 'card_prediciton_0001.csv')\n",
    "\n",
    "data.head()"
   ]
  },
  {
   "cell_type": "code",
   "execution_count": 3,
   "metadata": {},
   "outputs": [
    {
     "data": {
      "text/plain": [
       "trump            3033190\n",
       "played_cards     3033190\n",
       "valid_cards      3033190\n",
       "selected_card    3033190\n",
       "dtype: int64"
      ]
     },
     "execution_count": 3,
     "metadata": {},
     "output_type": "execute_result"
    }
   ],
   "source": [
    "data.count()"
   ]
  },
  {
   "cell_type": "code",
   "execution_count": 4,
   "metadata": {},
   "outputs": [],
   "source": [
    "data['played_cards'] = data['played_cards'].str.replace(r\"np\\.str_\\((.*?)\\)\", r\"\\1\", regex=True)\n",
    "data['played_cards'] = data['played_cards'].apply(ast.literal_eval)\n",
    "\n",
    "data['valid_cards'] = data['valid_cards'].str.replace(r\"np\\.str_\\((.*?)\\)\", r\"\\1\", regex=True)\n",
    "data['valid_cards'] = data['valid_cards'].apply(ast.literal_eval)"
   ]
  },
  {
   "cell_type": "markdown",
   "metadata": {},
   "source": [
    "#### Remove template entry"
   ]
  },
  {
   "cell_type": "code",
   "execution_count": 5,
   "metadata": {},
   "outputs": [],
   "source": [
    "data.drop(data.index[0], inplace=True)\n",
    "data = data.reset_index()  # make sure indexes pair with number of rows\n",
    "data.drop('index', axis=1, inplace=True)"
   ]
  },
  {
   "cell_type": "markdown",
   "metadata": {},
   "source": [
    "#### Analyze correctness of the Data"
   ]
  },
  {
   "cell_type": "code",
   "execution_count": 6,
   "metadata": {},
   "outputs": [
    {
     "data": {
      "text/plain": [
       "<Axes: xlabel='trump'>"
      ]
     },
     "execution_count": 6,
     "metadata": {},
     "output_type": "execute_result"
    },
    {
     "data": {
      "image/png": "[encoded data removed]",
      "text/plain": [
       "<Figure size 640x480 with 1 Axes>"
      ]
     },
     "metadata": {},
     "output_type": "display_data"
    }
   ],
   "source": [
    "data['trump'].value_counts().plot(kind='bar')"
   ]
  },
  {
   "cell_type": "markdown",
   "metadata": {},
   "source": [
    "#### Compare valid_cards & selected_card"
   ]
  },
  {
   "cell_type": "markdown",
   "metadata": {},
   "source": [
    "Assert that the selected_card is part of the valid_cards"
   ]
  },
  {
   "cell_type": "code",
   "execution_count": 7,
   "metadata": {},
   "outputs": [],
   "source": [
    "data['selected_card_valid'] = data.apply(\n",
    "    lambda row: row['selected_card'] in row['valid_cards'], axis=1\n",
    ")"
   ]
  },
  {
   "cell_type": "code",
   "execution_count": 8,
   "metadata": {},
   "outputs": [
    {
     "data": {
      "text/plain": [
       "selected_card_valid\n",
       "True    3033189\n",
       "Name: count, dtype: int64"
      ]
     },
     "execution_count": 8,
     "metadata": {},
     "output_type": "execute_result"
    }
   ],
   "source": [
    "data['selected_card_valid'].value_counts()"
   ]
  },
  {
   "cell_type": "code",
   "execution_count": 9,
   "metadata": {},
   "outputs": [],
   "source": [
    "data.drop('selected_card_valid', axis=1, inplace=True)"
   ]
  },
  {
   "cell_type": "markdown",
   "metadata": {},
   "source": [
    "#### Make Sure the amount of played cards is less than 36"
   ]
  },
  {
   "cell_type": "code",
   "execution_count": 10,
   "metadata": {},
   "outputs": [
    {
     "data": {
      "text/plain": [
       "np.int64(35)"
      ]
     },
     "execution_count": 10,
     "metadata": {},
     "output_type": "execute_result"
    }
   ],
   "source": [
    "data['played_cards'].map(lambda x: len(x)).max()"
   ]
  },
  {
   "cell_type": "markdown",
   "metadata": {},
   "source": [
    "### One-Hot-Encode Played Cards"
   ]
  },
  {
   "cell_type": "code",
   "execution_count": 11,
   "metadata": {},
   "outputs": [],
   "source": [
    "# Explode the lists into individual rows\n",
    "exploded = data.explode('played_cards')\n",
    "\n",
    "# Create one-hot encoding using get_dummies\n",
    "played_cards_encoded = pd.get_dummies(exploded['played_cards'], prefix='played_cards')\n",
    "\n",
    "# Group by the original index and sum to restore the original row structure\n",
    "played_cards_encoded = played_cards_encoded.groupby(exploded.index).sum()\n",
    "\n",
    "# Concatenate with the original DataFrame\n",
    "data = pd.concat([data, played_cards_encoded], axis=1)"
   ]
  },
  {
   "cell_type": "code",
   "execution_count": 12,
   "metadata": {},
   "outputs": [
    {
     "data": {
      "text/html": [
       "<div>\n",
       "<style scoped>\n",
       "    .dataframe tbody tr th:only-of-type {\n",
       "        vertical-align: middle;\n",
       "    }\n",
       "\n",
       "    .dataframe tbody tr th {\n",
       "        vertical-align: top;\n",
       "    }\n",
       "\n",
       "    .dataframe thead th {\n",
       "        text-align: right;\n",
       "    }\n",
       "</style>\n",
       "<table border=\"1\" class=\"dataframe\">\n",
       "  <thead>\n",
       "    <tr style=\"text-align: right;\">\n",
       "      <th></th>\n",
       "      <th>trump</th>\n",
       "      <th>played_cards</th>\n",
       "      <th>valid_cards</th>\n",
       "      <th>selected_card</th>\n",
       "      <th>played_cards_C10</th>\n",
       "      <th>played_cards_C6</th>\n",
       "      <th>played_cards_C7</th>\n",
       "      <th>played_cards_C8</th>\n",
       "      <th>played_cards_C9</th>\n",
       "      <th>played_cards_CA</th>\n",
       "      <th>...</th>\n",
       "      <th>played_cards_HQ</th>\n",
       "      <th>played_cards_S10</th>\n",
       "      <th>played_cards_S6</th>\n",
       "      <th>played_cards_S7</th>\n",
       "      <th>played_cards_S8</th>\n",
       "      <th>played_cards_S9</th>\n",
       "      <th>played_cards_SA</th>\n",
       "      <th>played_cards_SJ</th>\n",
       "      <th>played_cards_SK</th>\n",
       "      <th>played_cards_SQ</th>\n",
       "    </tr>\n",
       "  </thead>\n",
       "  <tbody>\n",
       "    <tr>\n",
       "      <th>0</th>\n",
       "      <td>HEARTS</td>\n",
       "      <td>[HA]</td>\n",
       "      <td>[H9]</td>\n",
       "      <td>H9</td>\n",
       "      <td>0</td>\n",
       "      <td>0</td>\n",
       "      <td>0</td>\n",
       "      <td>0</td>\n",
       "      <td>0</td>\n",
       "      <td>0</td>\n",
       "      <td>...</td>\n",
       "      <td>0</td>\n",
       "      <td>0</td>\n",
       "      <td>0</td>\n",
       "      <td>0</td>\n",
       "      <td>0</td>\n",
       "      <td>0</td>\n",
       "      <td>0</td>\n",
       "      <td>0</td>\n",
       "      <td>0</td>\n",
       "      <td>0</td>\n",
       "    </tr>\n",
       "    <tr>\n",
       "      <th>1</th>\n",
       "      <td>HEARTS</td>\n",
       "      <td>[HA, H9, H10, D10]</td>\n",
       "      <td>[DA, DK, D6, S9, CK, CJ, C8, C6]</td>\n",
       "      <td>CJ</td>\n",
       "      <td>0</td>\n",
       "      <td>0</td>\n",
       "      <td>0</td>\n",
       "      <td>0</td>\n",
       "      <td>0</td>\n",
       "      <td>0</td>\n",
       "      <td>...</td>\n",
       "      <td>0</td>\n",
       "      <td>0</td>\n",
       "      <td>0</td>\n",
       "      <td>0</td>\n",
       "      <td>0</td>\n",
       "      <td>0</td>\n",
       "      <td>0</td>\n",
       "      <td>0</td>\n",
       "      <td>0</td>\n",
       "      <td>0</td>\n",
       "    </tr>\n",
       "    <tr>\n",
       "      <th>2</th>\n",
       "      <td>HEARTS</td>\n",
       "      <td>[HA, H9, H10, D10, CJ, CA, C7, C10, S6, S10, SQ]</td>\n",
       "      <td>[S9]</td>\n",
       "      <td>S9</td>\n",
       "      <td>1</td>\n",
       "      <td>0</td>\n",
       "      <td>1</td>\n",
       "      <td>0</td>\n",
       "      <td>0</td>\n",
       "      <td>1</td>\n",
       "      <td>...</td>\n",
       "      <td>0</td>\n",
       "      <td>1</td>\n",
       "      <td>1</td>\n",
       "      <td>0</td>\n",
       "      <td>0</td>\n",
       "      <td>0</td>\n",
       "      <td>0</td>\n",
       "      <td>0</td>\n",
       "      <td>0</td>\n",
       "      <td>1</td>\n",
       "    </tr>\n",
       "    <tr>\n",
       "      <th>3</th>\n",
       "      <td>HEARTS</td>\n",
       "      <td>[HA, H9, H10, D10, CJ, CA, C7, C10, S6, S10, S...</td>\n",
       "      <td>[DA, DK, D6, CK, C8, C6]</td>\n",
       "      <td>C6</td>\n",
       "      <td>1</td>\n",
       "      <td>0</td>\n",
       "      <td>1</td>\n",
       "      <td>0</td>\n",
       "      <td>0</td>\n",
       "      <td>1</td>\n",
       "      <td>...</td>\n",
       "      <td>0</td>\n",
       "      <td>1</td>\n",
       "      <td>1</td>\n",
       "      <td>0</td>\n",
       "      <td>0</td>\n",
       "      <td>1</td>\n",
       "      <td>1</td>\n",
       "      <td>0</td>\n",
       "      <td>0</td>\n",
       "      <td>1</td>\n",
       "    </tr>\n",
       "    <tr>\n",
       "      <th>4</th>\n",
       "      <td>HEARTS</td>\n",
       "      <td>[HA, H9, H10, D10, CJ, CA, C7, C10, S6, S10, S...</td>\n",
       "      <td>[DA, DK, D6, CK, C8]</td>\n",
       "      <td>C8</td>\n",
       "      <td>1</td>\n",
       "      <td>1</td>\n",
       "      <td>1</td>\n",
       "      <td>0</td>\n",
       "      <td>0</td>\n",
       "      <td>1</td>\n",
       "      <td>...</td>\n",
       "      <td>0</td>\n",
       "      <td>1</td>\n",
       "      <td>1</td>\n",
       "      <td>1</td>\n",
       "      <td>1</td>\n",
       "      <td>1</td>\n",
       "      <td>1</td>\n",
       "      <td>1</td>\n",
       "      <td>1</td>\n",
       "      <td>1</td>\n",
       "    </tr>\n",
       "  </tbody>\n",
       "</table>\n",
       "<p>5 rows × 40 columns</p>\n",
       "</div>"
      ],
      "text/plain": [
       "    trump                                       played_cards  \\\n",
       "0  HEARTS                                               [HA]   \n",
       "1  HEARTS                                 [HA, H9, H10, D10]   \n",
       "2  HEARTS   [HA, H9, H10, D10, CJ, CA, C7, C10, S6, S10, SQ]   \n",
       "3  HEARTS  [HA, H9, H10, D10, CJ, CA, C7, C10, S6, S10, S...   \n",
       "4  HEARTS  [HA, H9, H10, D10, CJ, CA, C7, C10, S6, S10, S...   \n",
       "\n",
       "                        valid_cards selected_card  played_cards_C10  \\\n",
       "0                              [H9]            H9                 0   \n",
       "1  [DA, DK, D6, S9, CK, CJ, C8, C6]            CJ                 0   \n",
       "2                              [S9]            S9                 1   \n",
       "3          [DA, DK, D6, CK, C8, C6]            C6                 1   \n",
       "4              [DA, DK, D6, CK, C8]            C8                 1   \n",
       "\n",
       "   played_cards_C6  played_cards_C7  played_cards_C8  played_cards_C9  \\\n",
       "0                0                0                0                0   \n",
       "1                0                0                0                0   \n",
       "2                0                1                0                0   \n",
       "3                0                1                0                0   \n",
       "4                1                1                0                0   \n",
       "\n",
       "   played_cards_CA  ...  played_cards_HQ  played_cards_S10  played_cards_S6  \\\n",
       "0                0  ...                0                 0                0   \n",
       "1                0  ...                0                 0                0   \n",
       "2                1  ...                0                 1                1   \n",
       "3                1  ...                0                 1                1   \n",
       "4                1  ...                0                 1                1   \n",
       "\n",
       "   played_cards_S7  played_cards_S8  played_cards_S9  played_cards_SA  \\\n",
       "0                0                0                0                0   \n",
       "1                0                0                0                0   \n",
       "2                0                0                0                0   \n",
       "3                0                0                1                1   \n",
       "4                1                1                1                1   \n",
       "\n",
       "   played_cards_SJ  played_cards_SK  played_cards_SQ  \n",
       "0                0                0                0  \n",
       "1                0                0                0  \n",
       "2                0                0                1  \n",
       "3                0                0                1  \n",
       "4                1                1                1  \n",
       "\n",
       "[5 rows x 40 columns]"
      ]
     },
     "execution_count": 12,
     "metadata": {},
     "output_type": "execute_result"
    }
   ],
   "source": [
    "data.head()"
   ]
  },
  {
   "cell_type": "code",
   "execution_count": 13,
   "metadata": {},
   "outputs": [],
   "source": [
    "data.drop('played_cards', axis=1, inplace=True)"
   ]
  },
  {
   "cell_type": "code",
   "execution_count": 14,
   "metadata": {},
   "outputs": [
    {
     "data": {
      "text/plain": [
       "Index(['trump', 'valid_cards', 'selected_card', 'played_cards_C10',\n",
       "       'played_cards_C6', 'played_cards_C7', 'played_cards_C8',\n",
       "       'played_cards_C9', 'played_cards_CA', 'played_cards_CJ',\n",
       "       'played_cards_CK', 'played_cards_CQ', 'played_cards_D10',\n",
       "       'played_cards_D6', 'played_cards_D7', 'played_cards_D8',\n",
       "       'played_cards_D9', 'played_cards_DA', 'played_cards_DJ',\n",
       "       'played_cards_DK', 'played_cards_DQ', 'played_cards_H10',\n",
       "       'played_cards_H6', 'played_cards_H7', 'played_cards_H8',\n",
       "       'played_cards_H9', 'played_cards_HA', 'played_cards_HJ',\n",
       "       'played_cards_HK', 'played_cards_HQ', 'played_cards_S10',\n",
       "       'played_cards_S6', 'played_cards_S7', 'played_cards_S8',\n",
       "       'played_cards_S9', 'played_cards_SA', 'played_cards_SJ',\n",
       "       'played_cards_SK', 'played_cards_SQ'],\n",
       "      dtype='object')"
      ]
     },
     "execution_count": 14,
     "metadata": {},
     "output_type": "execute_result"
    }
   ],
   "source": [
    "data.columns"
   ]
  },
  {
   "cell_type": "markdown",
   "metadata": {},
   "source": [
    "### One-Hot-Encode Valid Cards"
   ]
  },
  {
   "cell_type": "code",
   "execution_count": 15,
   "metadata": {},
   "outputs": [
    {
     "data": {
      "text/plain": [
       "Index(['trump', 'valid_cards', 'selected_card', 'played_cards_C10',\n",
       "       'played_cards_C6', 'played_cards_C7', 'played_cards_C8',\n",
       "       'played_cards_C9', 'played_cards_CA', 'played_cards_CJ',\n",
       "       'played_cards_CK', 'played_cards_CQ', 'played_cards_D10',\n",
       "       'played_cards_D6', 'played_cards_D7', 'played_cards_D8',\n",
       "       'played_cards_D9', 'played_cards_DA', 'played_cards_DJ',\n",
       "       'played_cards_DK', 'played_cards_DQ', 'played_cards_H10',\n",
       "       'played_cards_H6', 'played_cards_H7', 'played_cards_H8',\n",
       "       'played_cards_H9', 'played_cards_HA', 'played_cards_HJ',\n",
       "       'played_cards_HK', 'played_cards_HQ', 'played_cards_S10',\n",
       "       'played_cards_S6', 'played_cards_S7', 'played_cards_S8',\n",
       "       'played_cards_S9', 'played_cards_SA', 'played_cards_SJ',\n",
       "       'played_cards_SK', 'played_cards_SQ', 'valid_cards_C10',\n",
       "       'valid_cards_C6', 'valid_cards_C7', 'valid_cards_C8', 'valid_cards_C9',\n",
       "       'valid_cards_CA', 'valid_cards_CJ', 'valid_cards_CK', 'valid_cards_CQ',\n",
       "       'valid_cards_D10', 'valid_cards_D6', 'valid_cards_D7', 'valid_cards_D8',\n",
       "       'valid_cards_D9', 'valid_cards_DA', 'valid_cards_DJ', 'valid_cards_DK',\n",
       "       'valid_cards_DQ', 'valid_cards_H10', 'valid_cards_H6', 'valid_cards_H7',\n",
       "       'valid_cards_H8', 'valid_cards_H9', 'valid_cards_HA', 'valid_cards_HJ',\n",
       "       'valid_cards_HK', 'valid_cards_HQ', 'valid_cards_S10', 'valid_cards_S6',\n",
       "       'valid_cards_S7', 'valid_cards_S8', 'valid_cards_S9', 'valid_cards_SA',\n",
       "       'valid_cards_SJ', 'valid_cards_SK', 'valid_cards_SQ'],\n",
       "      dtype='object')"
      ]
     },
     "execution_count": 15,
     "metadata": {},
     "output_type": "execute_result"
    }
   ],
   "source": [
    "# Explode the lists into individual rows\n",
    "exploded = data.explode('valid_cards')\n",
    "\n",
    "# Create one-hot encoding using get_dummies\n",
    "valid_cards_encoded = pd.get_dummies(exploded['valid_cards'], prefix='valid_cards')\n",
    "\n",
    "# Group by the original index and sum to restore the original row structure\n",
    "valid_cards_encoded = valid_cards_encoded.groupby(exploded.index).sum()\n",
    "\n",
    "# Concatenate with the original DataFrame\n",
    "data = pd.concat([data, valid_cards_encoded], axis=1)\n",
    "\n",
    "data.columns"
   ]
  },
  {
   "cell_type": "code",
   "execution_count": 16,
   "metadata": {},
   "outputs": [],
   "source": [
    "data.drop('valid_cards', axis=1, inplace=True)"
   ]
  },
  {
   "cell_type": "markdown",
   "metadata": {},
   "source": [
    "### One-Hot-Encode Trump"
   ]
  },
  {
   "cell_type": "code",
   "execution_count": 17,
   "metadata": {},
   "outputs": [
    {
     "data": {
      "text/plain": [
       "Index(['trump', 'selected_card', 'played_cards_C10', 'played_cards_C6',\n",
       "       'played_cards_C7', 'played_cards_C8', 'played_cards_C9',\n",
       "       'played_cards_CA', 'played_cards_CJ', 'played_cards_CK',\n",
       "       'played_cards_CQ', 'played_cards_D10', 'played_cards_D6',\n",
       "       'played_cards_D7', 'played_cards_D8', 'played_cards_D9',\n",
       "       'played_cards_DA', 'played_cards_DJ', 'played_cards_DK',\n",
       "       'played_cards_DQ', 'played_cards_H10', 'played_cards_H6',\n",
       "       'played_cards_H7', 'played_cards_H8', 'played_cards_H9',\n",
       "       'played_cards_HA', 'played_cards_HJ', 'played_cards_HK',\n",
       "       'played_cards_HQ', 'played_cards_S10', 'played_cards_S6',\n",
       "       'played_cards_S7', 'played_cards_S8', 'played_cards_S9',\n",
       "       'played_cards_SA', 'played_cards_SJ', 'played_cards_SK',\n",
       "       'played_cards_SQ', 'valid_cards_C10', 'valid_cards_C6',\n",
       "       'valid_cards_C7', 'valid_cards_C8', 'valid_cards_C9', 'valid_cards_CA',\n",
       "       'valid_cards_CJ', 'valid_cards_CK', 'valid_cards_CQ', 'valid_cards_D10',\n",
       "       'valid_cards_D6', 'valid_cards_D7', 'valid_cards_D8', 'valid_cards_D9',\n",
       "       'valid_cards_DA', 'valid_cards_DJ', 'valid_cards_DK', 'valid_cards_DQ',\n",
       "       'valid_cards_H10', 'valid_cards_H6', 'valid_cards_H7', 'valid_cards_H8',\n",
       "       'valid_cards_H9', 'valid_cards_HA', 'valid_cards_HJ', 'valid_cards_HK',\n",
       "       'valid_cards_HQ', 'valid_cards_S10', 'valid_cards_S6', 'valid_cards_S7',\n",
       "       'valid_cards_S8', 'valid_cards_S9', 'valid_cards_SA', 'valid_cards_SJ',\n",
       "       'valid_cards_SK', 'valid_cards_SQ', 'trump_CLUBS', 'trump_DIAMONDS',\n",
       "       'trump_HEARTS', 'trump_OBE_ABE', 'trump_SPADES', 'trump_UNE_UFE'],\n",
       "      dtype='object')"
      ]
     },
     "execution_count": 17,
     "metadata": {},
     "output_type": "execute_result"
    }
   ],
   "source": [
    "data.trump = data.trump.astype('category')\n",
    "\n",
    "# One-hot encode the 'trump' column\n",
    "trump_encoded = pd.get_dummies(data['trump'], prefix='trump')\n",
    "\n",
    "# Concatenate the encoded column back to the original DataFrame\n",
    "data = pd.concat([data, trump_encoded], axis=1)\n",
    "\n",
    "data.columns\n"
   ]
  },
  {
   "cell_type": "code",
   "execution_count": 18,
   "metadata": {},
   "outputs": [],
   "source": [
    "data.drop('trump', axis=1, inplace=True)"
   ]
  },
  {
   "cell_type": "code",
   "execution_count": 19,
   "metadata": {},
   "outputs": [
    {
     "data": {
      "text/plain": [
       "Index(['selected_card', 'played_cards_C10', 'played_cards_C6',\n",
       "       'played_cards_C7', 'played_cards_C8', 'played_cards_C9',\n",
       "       'played_cards_CA', 'played_cards_CJ', 'played_cards_CK',\n",
       "       'played_cards_CQ', 'played_cards_D10', 'played_cards_D6',\n",
       "       'played_cards_D7', 'played_cards_D8', 'played_cards_D9',\n",
       "       'played_cards_DA', 'played_cards_DJ', 'played_cards_DK',\n",
       "       'played_cards_DQ', 'played_cards_H10', 'played_cards_H6',\n",
       "       'played_cards_H7', 'played_cards_H8', 'played_cards_H9',\n",
       "       'played_cards_HA', 'played_cards_HJ', 'played_cards_HK',\n",
       "       'played_cards_HQ', 'played_cards_S10', 'played_cards_S6',\n",
       "       'played_cards_S7', 'played_cards_S8', 'played_cards_S9',\n",
       "       'played_cards_SA', 'played_cards_SJ', 'played_cards_SK',\n",
       "       'played_cards_SQ', 'valid_cards_C10', 'valid_cards_C6',\n",
       "       'valid_cards_C7', 'valid_cards_C8', 'valid_cards_C9', 'valid_cards_CA',\n",
       "       'valid_cards_CJ', 'valid_cards_CK', 'valid_cards_CQ', 'valid_cards_D10',\n",
       "       'valid_cards_D6', 'valid_cards_D7', 'valid_cards_D8', 'valid_cards_D9',\n",
       "       'valid_cards_DA', 'valid_cards_DJ', 'valid_cards_DK', 'valid_cards_DQ',\n",
       "       'valid_cards_H10', 'valid_cards_H6', 'valid_cards_H7', 'valid_cards_H8',\n",
       "       'valid_cards_H9', 'valid_cards_HA', 'valid_cards_HJ', 'valid_cards_HK',\n",
       "       'valid_cards_HQ', 'valid_cards_S10', 'valid_cards_S6', 'valid_cards_S7',\n",
       "       'valid_cards_S8', 'valid_cards_S9', 'valid_cards_SA', 'valid_cards_SJ',\n",
       "       'valid_cards_SK', 'valid_cards_SQ', 'trump_CLUBS', 'trump_DIAMONDS',\n",
       "       'trump_HEARTS', 'trump_OBE_ABE', 'trump_SPADES', 'trump_UNE_UFE'],\n",
       "      dtype='object')"
      ]
     },
     "execution_count": 19,
     "metadata": {},
     "output_type": "execute_result"
    }
   ],
   "source": [
    "data.columns"
   ]
  },
  {
   "cell_type": "markdown",
   "metadata": {},
   "source": [
    "### One-Hot-Encode Selected Card"
   ]
  },
  {
   "cell_type": "code",
   "execution_count": 20,
   "metadata": {},
   "outputs": [
    {
     "data": {
      "text/plain": [
       "Index(['selected_card', 'played_cards_C10', 'played_cards_C6',\n",
       "       'played_cards_C7', 'played_cards_C8', 'played_cards_C9',\n",
       "       'played_cards_CA', 'played_cards_CJ', 'played_cards_CK',\n",
       "       'played_cards_CQ',\n",
       "       ...\n",
       "       'selected_card_HQ', 'selected_card_S10', 'selected_card_S6',\n",
       "       'selected_card_S7', 'selected_card_S8', 'selected_card_S9',\n",
       "       'selected_card_SA', 'selected_card_SJ', 'selected_card_SK',\n",
       "       'selected_card_SQ'],\n",
       "      dtype='object', length=115)"
      ]
     },
     "execution_count": 20,
     "metadata": {},
     "output_type": "execute_result"
    }
   ],
   "source": [
    "# One-hot encode the 'trump' column\n",
    "selected_card_encoded = pd.get_dummies(data['selected_card'], prefix='selected_card')\n",
    "\n",
    "# Concatenate the encoded column back to the original DataFrame\n",
    "data = pd.concat([data, selected_card_encoded], axis=1)\n",
    "\n",
    "data.columns"
   ]
  },
  {
   "cell_type": "code",
   "execution_count": 21,
   "metadata": {},
   "outputs": [],
   "source": [
    "data.drop('selected_card', axis=1, inplace=True)"
   ]
  },
  {
   "cell_type": "markdown",
   "metadata": {},
   "source": [
    "### (Optional) Save Dataset for Training"
   ]
  },
  {
   "cell_type": "code",
   "execution_count": 76,
   "metadata": {},
   "outputs": [],
   "source": [
    "data.to_csv(path_to_data / 'card_prediction' / 'card_prediciton_preprocessed_0001.csv', index=False)"
   ]
  },
  {
   "cell_type": "markdown",
   "metadata": {},
   "source": [
    "# Card Play Prediction Model (DNN)"
   ]
  },
  {
   "cell_type": "code",
   "execution_count": null,
   "metadata": {},
   "outputs": [],
   "source": [
    "data[data['trump_DIAMONDS'] == True]"
   ]
  },
  {
   "cell_type": "code",
   "execution_count": null,
   "metadata": {},
   "outputs": [],
   "source": [
    "data = data.astype(np.float32)"
   ]
  },
  {
   "cell_type": "code",
   "execution_count": null,
   "metadata": {},
   "outputs": [],
   "source": [
    "data.iloc[1].to_list()"
   ]
  },
  {
   "cell_type": "code",
   "execution_count": 78,
   "metadata": {},
   "outputs": [],
   "source": [
    "feature_columns = played_cards_encoded.columns.to_list() + valid_cards_encoded.columns.to_list() + trump_encoded.columns.to_list()"
   ]
  },
  {
   "cell_type": "code",
   "execution_count": 79,
   "metadata": {},
   "outputs": [
    {
     "data": {
      "text/plain": [
       "array([[0., 0., 0., ..., 0., 0., 0.],\n",
       "       [0., 0., 0., ..., 0., 0., 0.],\n",
       "       [1., 0., 1., ..., 0., 0., 0.],\n",
       "       ...,\n",
       "       [0., 1., 1., ..., 1., 0., 0.],\n",
       "       [0., 1., 1., ..., 1., 0., 0.],\n",
       "       [1., 1., 1., ..., 1., 0., 0.]], dtype=float32)"
      ]
     },
     "execution_count": 79,
     "metadata": {},
     "output_type": "execute_result"
    }
   ],
   "source": [
    "# Split into features (X) and target (y)\n",
    "X = np.asarray(data[ feature_columns ])\n",
    "y = np.asarray(data[\n",
    "    selected_card_encoded.columns\n",
    "])\n",
    "\n",
    "X"
   ]
  },
  {
   "cell_type": "code",
   "execution_count": 80,
   "metadata": {},
   "outputs": [],
   "source": [
    "X_train, X_test, y_train, y_test = train_test_split(X, y, test_size=0.2, random_state=42)"
   ]
  },
  {
   "cell_type": "markdown",
   "metadata": {},
   "source": [
    "### Define Model"
   ]
  },
  {
   "cell_type": "code",
   "execution_count": 81,
   "metadata": {},
   "outputs": [
    {
     "name": "stderr",
     "output_type": "stream",
     "text": [
      "/Users/timon/.pyenv/versions/dl4g/lib/python3.10/site-packages/keras/src/layers/core/dense.py:87: UserWarning: Do not pass an `input_shape`/`input_dim` argument to a layer. When using Sequential models, prefer using an `Input(shape)` object as the first layer in the model instead.\n",
      "  super().__init__(activity_regularizer=activity_regularizer, **kwargs)\n"
     ]
    }
   ],
   "source": [
    "model = Sequential()\n",
    "\n",
    "model.add(Dense(128, activation=\"relu\", input_dim=X_train.shape[1]))\n",
    "model.add(Dense(64, activation=\"relu\"))\n",
    "model.add(Dense(32, activation=\"relu\"))\n",
    "model.add(Dense(y_train.shape[1], activation=\"softmax\"))\n",
    "\n",
    "model.compile(optimizer='adam',\n",
    "              loss='categorical_crossentropy',\n",
    "              metrics=['accuracy'])"
   ]
  },
  {
   "cell_type": "code",
   "execution_count": 82,
   "metadata": {},
   "outputs": [
    {
     "name": "stdout",
     "output_type": "stream",
     "text": [
      "Epoch 1/20\n",
      "\u001b[1m30332/30332\u001b[0m \u001b[32m━━━━━━━━━━━━━━━━━━━━\u001b[0m\u001b[37m\u001b[0m \u001b[1m20s\u001b[0m 641us/step - accuracy: 0.5453 - loss: 1.1962 - val_accuracy: 0.6045 - val_loss: 0.9317\n",
      "Epoch 2/20\n",
      "\u001b[1m30332/30332\u001b[0m \u001b[32m━━━━━━━━━━━━━━━━━━━━\u001b[0m\u001b[37m\u001b[0m \u001b[1m19s\u001b[0m 630us/step - accuracy: 0.6074 - loss: 0.9209 - val_accuracy: 0.6213 - val_loss: 0.8936\n",
      "Epoch 3/20\n",
      "\u001b[1m30332/30332\u001b[0m \u001b[32m━━━━━━━━━━━━━━━━━━━━\u001b[0m\u001b[37m\u001b[0m \u001b[1m20s\u001b[0m 668us/step - accuracy: 0.6187 - loss: 0.8937 - val_accuracy: 0.6254 - val_loss: 0.8822\n",
      "Epoch 4/20\n",
      "\u001b[1m30332/30332\u001b[0m \u001b[32m━━━━━━━━━━━━━━━━━━━━\u001b[0m\u001b[37m\u001b[0m \u001b[1m20s\u001b[0m 664us/step - accuracy: 0.6258 - loss: 0.8768 - val_accuracy: 0.6254 - val_loss: 0.8730\n",
      "Epoch 5/20\n",
      "\u001b[1m30332/30332\u001b[0m \u001b[32m━━━━━━━━━━━━━━━━━━━━\u001b[0m\u001b[37m\u001b[0m \u001b[1m20s\u001b[0m 665us/step - accuracy: 0.6320 - loss: 0.8628 - val_accuracy: 0.6256 - val_loss: 0.8684\n",
      "Epoch 6/20\n",
      "\u001b[1m30332/30332\u001b[0m \u001b[32m━━━━━━━━━━━━━━━━━━━━\u001b[0m\u001b[37m\u001b[0m \u001b[1m21s\u001b[0m 693us/step - accuracy: 0.6393 - loss: 0.8480 - val_accuracy: 0.6441 - val_loss: 0.8468\n",
      "Epoch 7/20\n",
      "\u001b[1m30332/30332\u001b[0m \u001b[32m━━━━━━━━━━━━━━━━━━━━\u001b[0m\u001b[37m\u001b[0m \u001b[1m20s\u001b[0m 651us/step - accuracy: 0.6438 - loss: 0.8388 - val_accuracy: 0.6514 - val_loss: 0.8276\n",
      "Epoch 8/20\n",
      "\u001b[1m30332/30332\u001b[0m \u001b[32m━━━━━━━━━━━━━━━━━━━━\u001b[0m\u001b[37m\u001b[0m \u001b[1m20s\u001b[0m 645us/step - accuracy: 0.6493 - loss: 0.8284 - val_accuracy: 0.6507 - val_loss: 0.8241\n",
      "Epoch 9/20\n",
      "\u001b[1m30332/30332\u001b[0m \u001b[32m━━━━━━━━━━━━━━━━━━━━\u001b[0m\u001b[37m\u001b[0m \u001b[1m19s\u001b[0m 626us/step - accuracy: 0.6538 - loss: 0.8199 - val_accuracy: 0.6502 - val_loss: 0.8272\n",
      "Epoch 10/20\n",
      "\u001b[1m30332/30332\u001b[0m \u001b[32m━━━━━━━━━━━━━━━━━━━━\u001b[0m\u001b[37m\u001b[0m \u001b[1m19s\u001b[0m 623us/step - accuracy: 0.6575 - loss: 0.8136 - val_accuracy: 0.6534 - val_loss: 0.8177\n",
      "Epoch 11/20\n",
      "\u001b[1m30332/30332\u001b[0m \u001b[32m━━━━━━━━━━━━━━━━━━━━\u001b[0m\u001b[37m\u001b[0m \u001b[1m20s\u001b[0m 656us/step - accuracy: 0.6595 - loss: 0.8084 - val_accuracy: 0.6567 - val_loss: 0.8151\n",
      "Epoch 12/20\n",
      "\u001b[1m30332/30332\u001b[0m \u001b[32m━━━━━━━━━━━━━━━━━━━━\u001b[0m\u001b[37m\u001b[0m \u001b[1m21s\u001b[0m 679us/step - accuracy: 0.6619 - loss: 0.8036 - val_accuracy: 0.6582 - val_loss: 0.8186\n",
      "Epoch 13/20\n",
      "\u001b[1m30332/30332\u001b[0m \u001b[32m━━━━━━━━━━━━━━━━━━━━\u001b[0m\u001b[37m\u001b[0m \u001b[1m21s\u001b[0m 681us/step - accuracy: 0.6658 - loss: 0.7964 - val_accuracy: 0.6546 - val_loss: 0.8191\n",
      "Epoch 14/20\n",
      "\u001b[1m30332/30332\u001b[0m \u001b[32m━━━━━━━━━━━━━━━━━━━━\u001b[0m\u001b[37m\u001b[0m \u001b[1m21s\u001b[0m 682us/step - accuracy: 0.6682 - loss: 0.7909 - val_accuracy: 0.6688 - val_loss: 0.7963\n",
      "Epoch 15/20\n",
      "\u001b[1m30332/30332\u001b[0m \u001b[32m━━━━━━━━━━━━━━━━━━━━\u001b[0m\u001b[37m\u001b[0m \u001b[1m21s\u001b[0m 679us/step - accuracy: 0.6693 - loss: 0.7896 - val_accuracy: 0.6720 - val_loss: 0.7808\n",
      "Epoch 16/20\n",
      "\u001b[1m30332/30332\u001b[0m \u001b[32m━━━━━━━━━━━━━━━━━━━━\u001b[0m\u001b[37m\u001b[0m \u001b[1m21s\u001b[0m 685us/step - accuracy: 0.6703 - loss: 0.7861 - val_accuracy: 0.6716 - val_loss: 0.7832\n",
      "Epoch 17/20\n",
      "\u001b[1m30332/30332\u001b[0m \u001b[32m━━━━━━━━━━━━━━━━━━━━\u001b[0m\u001b[37m\u001b[0m \u001b[1m21s\u001b[0m 684us/step - accuracy: 0.6726 - loss: 0.7822 - val_accuracy: 0.6733 - val_loss: 0.7871\n",
      "Epoch 18/20\n",
      "\u001b[1m30332/30332\u001b[0m \u001b[32m━━━━━━━━━━━━━━━━━━━━\u001b[0m\u001b[37m\u001b[0m \u001b[1m21s\u001b[0m 685us/step - accuracy: 0.6736 - loss: 0.7794 - val_accuracy: 0.6751 - val_loss: 0.7783\n",
      "Epoch 19/20\n",
      "\u001b[1m30332/30332\u001b[0m \u001b[32m━━━━━━━━━━━━━━━━━━━━\u001b[0m\u001b[37m\u001b[0m \u001b[1m21s\u001b[0m 688us/step - accuracy: 0.6752 - loss: 0.7760 - val_accuracy: 0.6772 - val_loss: 0.7740\n",
      "Epoch 20/20\n",
      "\u001b[1m30332/30332\u001b[0m \u001b[32m━━━━━━━━━━━━━━━━━━━━\u001b[0m\u001b[37m\u001b[0m \u001b[1m21s\u001b[0m 695us/step - accuracy: 0.6760 - loss: 0.7741 - val_accuracy: 0.6724 - val_loss: 0.7832\n"
     ]
    }
   ],
   "source": [
    "history = model.fit(X_train, y_train, epochs=20, batch_size=64, validation_split=0.2)"
   ]
  },
  {
   "cell_type": "code",
   "execution_count": 83,
   "metadata": {},
   "outputs": [
    {
     "name": "stdout",
     "output_type": "stream",
     "text": [
      "\u001b[1m18958/18958\u001b[0m \u001b[32m━━━━━━━━━━━━━━━━━━━━\u001b[0m\u001b[37m\u001b[0m \u001b[1m7s\u001b[0m 344us/step - accuracy: 0.6719 - loss: 0.7847\n",
      "Test Loss: 0.7838234901428223, Test Accuracy: 0.6716740727424622\n"
     ]
    }
   ],
   "source": [
    "test_loss, test_accuracy = model.evaluate(X_test, y_test)\n",
    "print(f\"Test Loss: {test_loss}, Test Accuracy: {test_accuracy}\")"
   ]
  },
  {
   "cell_type": "code",
   "execution_count": 88,
   "metadata": {},
   "outputs": [],
   "source": [
    "model.save('card_prediction_v01.keras')"
   ]
  }
 ],
 "metadata": {
  "kernelspec": {
   "display_name": "dl4g",
   "language": "python",
   "name": "python3"
  },
  "language_info": {
   "codemirror_mode": {
    "name": "ipython",
    "version": 3
   },
   "file_extension": ".py",
   "mimetype": "text/x-python",
   "name": "python",
   "nbconvert_exporter": "python",
   "pygments_lexer": "ipython3",
   "version": "3.10.16"
  }
 },
 "nbformat": 4,
 "nbformat_minor": 2
}
