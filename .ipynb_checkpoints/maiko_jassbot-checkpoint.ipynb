{
 "cells": [
  {
   "cell_type": "markdown",
   "id": "4e81b25c",
   "metadata": {},
   "source": [
    "# DL4G - Jass Introduction\n",
    "\n",
    "In this exercise we will look at some properties of the jass kit environment that can be used to develop your own jass agent.\n",
    "\n",
    "You will need to have numpy installed, as well as the jass-kit environment."
   ]
  },
  {
   "cell_type": "code",
   "execution_count": 113,
   "id": "0d71e284",
   "metadata": {},
   "outputs": [],
   "source": [
    "import numpy as np\n",
    "\n",
    "from jass.game.game_util import *\n",
    "from jass.game.game_state_util import *\n",
    "from jass.game.game_sim import GameSim\n",
    "from jass.game.game_observation import GameObservation\n",
    "from jass.game.const import *\n",
    "from jass.game.rule_schieber import RuleSchieber\n",
    "from jass.agents.agent import Agent\n",
    "from jass.agents.agent_random_schieber import AgentRandomSchieber\n",
    "from jass.arena.arena import Arena\n"
   ]
  },
  {
   "cell_type": "markdown",
   "id": "9d510b9e",
   "metadata": {},
   "source": [
    "Information about the cards is stored as one-hot encoded arrays, there are several tools available to access the information in the cards. \n",
    "\n",
    "Lets deal some random cards first."
   ]
  },
  {
   "cell_type": "code",
   "execution_count": 12,
   "id": "19767850",
   "metadata": {},
   "outputs": [
    {
     "name": "stdout",
     "output_type": "stream",
     "text": [
      "(4, 36)\n"
     ]
    }
   ],
   "source": [
    "# Lets set the seed of the random number generater, so that we get the same results\n",
    "np.random.seed(1)\n",
    "\n",
    "# This distributes the cards randomly among the 4 players.\n",
    "hands = deal_random_hand()\n",
    "print(hands.shape)"
   ]
  },
  {
   "cell_type": "code",
   "execution_count": 14,
   "id": "dcd87887",
   "metadata": {},
   "outputs": [
    {
     "name": "stdout",
     "output_type": "stream",
     "text": [
      "[0 0 0 1 0 0 0 0 0 0 0 0 0 0 0 0 0 1 0 1 0 1 0 1 0 0 0 0 1 1 1 0 0 0 1 0]\n"
     ]
    }
   ],
   "source": [
    "# There is an entry for each player, to access the cards of the first player\n",
    "cards = hands[0,:]\n",
    "print(cards)"
   ]
  },
  {
   "cell_type": "code",
   "execution_count": 16,
   "id": "486c3664",
   "metadata": {},
   "outputs": [
    {
     "name": "stdout",
     "output_type": "stream",
     "text": [
      "['DJ', 'H6', 'SK', 'SJ', 'S9', 'CK', 'CQ', 'CJ', 'C7']\n",
      "[3, 17, 19, 21, 23, 28, 29, 30, 34]\n"
     ]
    }
   ],
   "source": [
    "# This should be 9 cards\n",
    "assert(cards.sum() == 9)\n",
    "\n",
    "# The cards can be converted to other formats for easier reading or processing\n",
    "print(convert_one_hot_encoded_cards_to_str_encoded_list(cards))\n",
    "\n",
    "# Each card is encoded as a value between 0 and 35.\n",
    "print(convert_one_hot_encoded_cards_to_int_encoded_list(cards))\n"
   ]
  },
  {
   "cell_type": "code",
   "execution_count": 17,
   "id": "89294107",
   "metadata": {},
   "outputs": [
    {
     "name": "stdout",
     "output_type": "stream",
     "text": [
      "[1 1 3 4]\n"
     ]
    }
   ],
   "source": [
    "# There is a method to count colors too\n",
    "# D, H, S and C\n",
    "colors = count_colors(cards)\n",
    "print(colors)"
   ]
  },
  {
   "cell_type": "markdown",
   "id": "04f591d7",
   "metadata": {},
   "source": [
    "There is a common jass \"rule\" to select trump, when you have the \"Puur\" (Jack of trump) and 3 or more other cards of the same color. \n",
    "\n",
    "Task 1: Write a function that returns an array of 4 values that contains a 1 for each color that fulfills the rule or 0 otherwise, i.e. [0 0 0 0] is returned, if you do not have any color with Jack and 3 other cards.\n"
   ]
  },
  {
   "cell_type": "code",
   "execution_count": 21,
   "id": "92845f51",
   "metadata": {},
   "outputs": [],
   "source": [
    "def havePuurWithFour(hand: np.ndarray) -> np.ndarray:\n",
    "    card_strings = convert_one_hot_encoded_cards_to_str_encoded_list(hand)\n",
    "    colors_count = count_colors(hand)\n",
    "\n",
    "    # filter all card strings containing J\n",
    "    jacks = [card[0] for card in card_strings if 'J' in card]\n",
    "\n",
    "    # encode card strings to color '1 = jack exists for color' else 0\n",
    "    jacks_encoded = [1 if color in jacks else 0 for color in ['D', 'H', 'S', 'C']]\n",
    "\n",
    "    # merge arrays if both conditions meet (jack exists for color and at least 4 cards (including jack))\n",
    "    return np.array([1 if jacks_encoded[color_index] and colors_count[color_index] >= 4 else 0 for color_index in range(4)])"
   ]
  },
  {
   "cell_type": "code",
   "execution_count": 22,
   "id": "b1bb875a",
   "metadata": {},
   "outputs": [],
   "source": [
    "assert (havePuurWithFour(cards) == [0, 0, 0, 1]).all()\n",
    "cards_2 = hands[1,:]\n",
    "assert (havePuurWithFour(cards_2) == [0, 0, 0, 0]).all()"
   ]
  },
  {
   "cell_type": "markdown",
   "id": "48371ec4",
   "metadata": {},
   "source": [
    "Another possibility to select trump is by assigning a value to each card, depending on whether the color is trump or not. This table is from the Maturawork of Daniel Graf from 2009: \"Jassen auf Basis der Spieltheorie\"."
   ]
  },
  {
   "cell_type": "code",
   "execution_count": 26,
   "id": "01b078f3",
   "metadata": {},
   "outputs": [],
   "source": [
    "# Score for each card of a color from Ace to 6\n",
    "\n",
    "# score if the color is trump\n",
    "trump_score = [15, 10, 7, 25, 6, 19, 5, 5, 5]\n",
    "# score if the color is not trump\n",
    "no_trump_score = [9, 7, 5, 2, 1, 0, 0, 0, 0]\n",
    "# score if obenabe is selected (all colors)\n",
    "obenabe_score = [14, 10, 8, 7, 5, 0, 5, 0, 0,]\n",
    "# score if uneufe is selected (all colors)\n",
    "uneufe_score = [0, 2, 1, 1, 5, 5, 7, 9, 11]"
   ]
  },
  {
   "cell_type": "markdown",
   "id": "ddd00b63",
   "metadata": {},
   "source": [
    "Task 2: Implement a function that evaluates a hand that is given as a list of 9 cards and with a given trump value and returns a score depending on the table above. For example the score of our hand ['DJ', 'H6', 'SK', 'SJ', 'S9', 'CK', 'CQ', 'CJ', 'C7'] when Club is trump should be:\n",
    "\n",
    "2 + 0 + 7 + 2 + 0 + 10 + 7 + 25 + 5 = 58\n",
    "\n",
    "while the score is 70 if Spade is selected, which is better as you have both the jack and the nine.\n",
    "\n",
    "You can use the arrays offset_of_card and color_of_card to get the offset (Ace, King, etc.) and color of a card."
   ]
  },
  {
   "cell_type": "code",
   "execution_count": 28,
   "id": "63297245",
   "metadata": {},
   "outputs": [],
   "source": [
    "def calculate_trump_selection_score(cards, trump: int) -> int:\n",
    "    score = 0\n",
    "    for card_index in cards:\n",
    "        card_offset = offset_of_card[card_index]\n",
    "        if color_of_card[card_index] == trump:\n",
    "            score += trump_score[card_offset]\n",
    "        else:\n",
    "            score += no_trump_score[card_offset]\n",
    "\n",
    "    return score"
   ]
  },
  {
   "cell_type": "code",
   "execution_count": 29,
   "id": "0ae55a9d",
   "metadata": {},
   "outputs": [],
   "source": [
    "card_list = convert_one_hot_encoded_cards_to_int_encoded_list(cards)\n",
    "assert calculate_trump_selection_score(card_list, CLUBS) == 58\n",
    "assert calculate_trump_selection_score(card_list, SPADES) == 70"
   ]
  },
  {
   "cell_type": "markdown",
   "id": "4ec0d316",
   "metadata": {},
   "source": [
    "## Agents\n",
    "\n",
    "In order to play a game you have to program an agent that decides on the action. For that you have to override the methods action_trump and action_play_card.\n",
    "\n",
    "Task 3: Use the function implemented above to select the best trump value. If the calculated trump value is below a threshold (for example let us take 68, as suggested in the work by Daniel Graf) you should \"Schiebe\", i.e. pass to your partner if you are still allowed to do that.\n",
    "\n",
    "The game observation allows you to access the information about your card, and if you are the first or second player to select trump.\n",
    "\n",
    "For playing a card, we just take a random action."
   ]
  },
  {
   "cell_type": "code",
   "execution_count": 33,
   "id": "2c8a0c7e",
   "metadata": {},
   "outputs": [],
   "source": [
    "class MyAgent(Agent):\n",
    "    def __init__(self):\n",
    "        super().__init__()\n",
    "        # we need a rule object to determine the valid cards\n",
    "        self._rule = RuleSchieber()\n",
    "        \n",
    "    def action_trump(self, obs: GameObservation) -> int:\n",
    "        \"\"\"\n",
    "        Determine trump action for the given observation\n",
    "        Args:\n",
    "            obs: the game observation, it must be in a state for trump selection\n",
    "\n",
    "        Returns:\n",
    "            selected trump as encoded in jass.game.const or jass.game.const.PUSH\n",
    "        \"\"\"\n",
    "        card_list = convert_one_hot_encoded_cards_to_int_encoded_list(obs.hand)\n",
    "        scores = [calculate_trump_selection_score(card_list, trump) for trump in [0, 1, 2, 3]]\n",
    "        highest_score_index = scores.index(max(scores))\n",
    "        if scores[highest_score_index] > 68:\n",
    "            return highest_score_index\n",
    "        if obs.forehand == -1:\n",
    "            return PUSH\n",
    "        return highest_score_index\n",
    "\n",
    "    def action_play_card(self, obs: GameObservation) -> int:\n",
    "        \"\"\"\n",
    "        Determine the card to play.\n",
    "\n",
    "        Args:\n",
    "            obs: the game observation\n",
    "\n",
    "        Returns:\n",
    "            the card to play, int encoded as defined in jass.game.const\n",
    "        \"\"\"\n",
    "        valid_cards = self._rule.get_valid_cards_from_obs(obs)\n",
    "        # we use the global random number generator here\n",
    "        return np.random.choice(np.flatnonzero(valid_cards))\n",
    "    \n",
    "    "
   ]
  },
  {
   "cell_type": "markdown",
   "id": "1f5b305a",
   "metadata": {},
   "source": [
    "We can use the game simulation to play a game. We will use that to test our implementation, and then use the arena class to play against other agents"
   ]
  },
  {
   "cell_type": "code",
   "execution_count": 36,
   "id": "91df4f83",
   "metadata": {},
   "outputs": [],
   "source": [
    "rule = RuleSchieber()\n",
    "game = GameSim(rule=rule)\n",
    "agent = MyAgent()\n",
    "\n",
    "np.random.seed(1)\n",
    "game.init_from_cards(hands=deal_random_hand(), dealer=NORTH)"
   ]
  },
  {
   "cell_type": "code",
   "execution_count": 39,
   "id": "1f177a07",
   "metadata": {},
   "outputs": [],
   "source": [
    "obs = game.get_observation()"
   ]
  },
  {
   "cell_type": "code",
   "execution_count": 41,
   "id": "768c5cce",
   "metadata": {},
   "outputs": [
    {
     "name": "stdout",
     "output_type": "stream",
     "text": [
      "['DA', 'DK', 'D9', 'D6', 'HA', 'HQ', 'HJ', 'H8', 'H7']\n"
     ]
    }
   ],
   "source": [
    "cards = convert_one_hot_encoded_cards_to_str_encoded_list(obs.hand)\n",
    "print(cards)\n",
    "trump = agent.action_trump(obs)\n",
    "assert trump == HEARTS"
   ]
  },
  {
   "cell_type": "code",
   "execution_count": 43,
   "id": "9ccc8b9e",
   "metadata": {},
   "outputs": [],
   "source": [
    "# tell the simulation the selected trump\n",
    "game.action_trump(trump)"
   ]
  },
  {
   "cell_type": "code",
   "execution_count": 45,
   "id": "eb8c2956",
   "metadata": {},
   "outputs": [
    {
     "name": "stdout",
     "output_type": "stream",
     "text": [
      "[ 10 147]\n"
     ]
    }
   ],
   "source": [
    "# play the game to the end and print the result\n",
    "while not game.is_done():\n",
    "    game.action_play_card(agent.action_play_card(game.get_observation()))\n",
    "\n",
    "print(game.state.points)"
   ]
  },
  {
   "cell_type": "markdown",
   "id": "b33d069e",
   "metadata": {},
   "source": [
    "Another possibility to test agents locally is to use the arena. Let us play 100 games against the Random Agent and see if our trump methods makes any difference.\n"
   ]
  },
  {
   "cell_type": "code",
   "execution_count": 48,
   "id": "07c99989",
   "metadata": {},
   "outputs": [],
   "source": [
    "arena = Arena(nr_games_to_play=100)\n",
    "arena.set_players(MyAgent(), AgentRandomSchieber(), MyAgent(), AgentRandomSchieber())"
   ]
  },
  {
   "cell_type": "code",
   "execution_count": 50,
   "id": "ba8464b5",
   "metadata": {},
   "outputs": [
    {
     "name": "stdout",
     "output_type": "stream",
     "text": [
      "[........................................]  100/ 100 games played\n"
     ]
    }
   ],
   "source": [
    "arena.play_all_games()"
   ]
  },
  {
   "cell_type": "code",
   "execution_count": 51,
   "id": "05179929",
   "metadata": {},
   "outputs": [
    {
     "name": "stdout",
     "output_type": "stream",
     "text": [
      "8362.0 7338.0\n"
     ]
    }
   ],
   "source": [
    "print(arena.points_team_0.sum(), arena.points_team_1.sum())"
   ]
  },
  {
   "cell_type": "markdown",
   "id": "dd500485",
   "metadata": {},
   "source": [
    "Now you can continue with a rule based implemenation of the card play. Also look at the flask implementation of the service to see how you can get your agent online."
   ]
  },
  {
   "cell_type": "markdown",
   "id": "99d43387-c441-42d2-9071-fbf25c647cda",
   "metadata": {},
   "source": [
    "# MCTS with Determinization"
   ]
  },
  {
   "cell_type": "code",
   "execution_count": 191,
   "id": "9f1a943a-5127-436e-ba41-bb07571f26b4",
   "metadata": {},
   "outputs": [],
   "source": [
    "import numpy as np\n",
    "from jass.game.game_sim import GameSim\n",
    "from jass.game.game_observation import GameObservation\n",
    "from jass.game.const import *\n",
    "from jass.game.rule_schieber import RuleSchieber\n",
    "from jass.agents.agent import Agent\n",
    "from jass.game.game_util import deal_random_hand, convert_one_hot_encoded_cards_to_int_encoded_list\n",
    "import random\n",
    "\n",
    "class MCTSAgent(Agent):\n",
    "    def __init__(self, n_simulations=200, n_determinizations=10):\n",
    "        super().__init__()\n",
    "        self._rule = RuleSchieber()\n",
    "        self.n_simulations = n_simulations\n",
    "        self.n_determinizations = n_determinizations\n",
    "    \n",
    "    def action_trump(self, obs: GameObservation) -> int:\n",
    "        \"\"\"\n",
    "        Determine trump action for the given observation.\n",
    "        The trump selection will be handled using a heuristic as done in previous tasks.\n",
    "        \"\"\"\n",
    "        card_list = convert_one_hot_encoded_cards_to_int_encoded_list(obs.hand)\n",
    "        scores = [calculate_trump_selection_score(card_list, trump) for trump in [0, 1, 2, 3]]\n",
    "        highest_score_index = scores.index(max(scores))\n",
    "        if scores[highest_score_index] > 68:\n",
    "            return highest_score_index\n",
    "        if obs.forehand == -1:\n",
    "            return PUSH\n",
    "        return highest_score_index\n",
    "\n",
    "    def action_play_card(self, obs: GameObservation) -> int:\n",
    "        \"\"\"\n",
    "        Perform the Monte Carlo Tree Search (MCTS) to select the best card to play\n",
    "        based on multiple determinizations of the game state.\n",
    "        \"\"\"\n",
    "        valid_cards = self._rule.get_valid_cards_from_obs(obs)\n",
    "        valid_card_indices = np.flatnonzero(valid_cards)\n",
    "\n",
    "        if len(valid_card_indices) == 1:\n",
    "            # Only one valid card, no need for MCTS\n",
    "            return valid_card_indices[0]\n",
    "\n",
    "        # Perform multiple determinizations and MCTS simulations\n",
    "        card_scores = np.zeros(len(valid_card_indices))\n",
    "        \n",
    "        for _ in range(self.n_determinizations):\n",
    "            determinization_hands = self._create_determinization(obs)\n",
    "            card_scores += self._run_mcts_for_determinization(determinization_hands, obs, valid_card_indices)\n",
    "        \n",
    "        # Choose the card with the best score\n",
    "        best_card_index = np.argmax(card_scores)\n",
    "        return valid_card_indices[best_card_index]\n",
    "\n",
    "    def _create_determinization(self, obs: GameObservation) -> np.ndarray:\n",
    "        \"\"\"\n",
    "        Create a determinized version of the game state by assigning random plausible hands to opponents.\n",
    "        \"\"\"\n",
    "        # Deal random hands for opponents\n",
    "        hands = deal_random_hand()\n",
    "        \n",
    "        # Replace the player's hand with the known hand from observation\n",
    "        hands[obs.player] = obs.hand\n",
    "\n",
    "        return hands\n",
    "\n",
    "    def _run_mcts_for_determinization(self, hands: np.ndarray, obs: GameObservation, valid_card_indices: np.ndarray) -> np.ndarray:\n",
    "        \"\"\"\n",
    "        Run multiple MCTS simulations for a given determinization and return scores for each valid card.\n",
    "        \"\"\"\n",
    "        card_scores = np.zeros(len(valid_card_indices))\n",
    "        \n",
    "        for _ in range(self.n_simulations):\n",
    "            # For each valid card, simulate the outcome by reinitializing the game simulation\n",
    "            for i, card in enumerate(valid_card_indices):\n",
    "                sim_game = GameSim(rule=self._rule)\n",
    "                sim_game.init_from_cards(hands=hands, dealer=obs.dealer)\n",
    "\n",
    "                # Set the trump if already determined\n",
    "                if obs.trump != -1:\n",
    "                    sim_game.action_trump(obs.trump)\n",
    "                \n",
    "                # Simulate playing the card\n",
    "                sim_game.action_play_card(card)\n",
    "                \n",
    "                # Play out the rest of the game randomly\n",
    "                while not sim_game.is_done():\n",
    "                    valid_cards_sim = self._rule.get_valid_cards_from_obs(sim_game.get_observation())\n",
    "                    \n",
    "                    # Check if there are any valid cards left\n",
    "                    if np.flatnonzero(valid_cards_sim).size == 0:\n",
    "                        # No valid cards, break out of the loop or handle the situation\n",
    "                        break\n",
    "                    \n",
    "                    # Randomly play a valid card\n",
    "                    sim_game.action_play_card(np.random.choice(np.flatnonzero(valid_cards_sim)))\n",
    "                \n",
    "                # Update score based on the points scored for the simulation\n",
    "                points = sim_game.state.points[self._team(obs.player)]\n",
    "                card_scores[i] += points\n",
    "\n",
    "        return card_scores\n",
    "\n",
    "    def _team(self, player: int) -> int:\n",
    "        \"\"\"\n",
    "        Determine the team number for the given player.\n",
    "        Players 0 and 2 are in team 0, and players 1 and 3 are in team 1.\n",
    "        \"\"\"\n",
    "        return player % 2\n"
   ]
  },
  {
   "cell_type": "code",
   "execution_count": 193,
   "id": "18a534f5-ebcb-4910-a6f9-417f4c946b3b",
   "metadata": {},
   "outputs": [
    {
     "name": "stdout",
     "output_type": "stream",
     "text": [
      "['DA', 'DK', 'D9', 'D6', 'HA', 'HQ', 'HJ', 'H8', 'H7']\n",
      "[  5 152]\n"
     ]
    }
   ],
   "source": [
    "rule = RuleSchieber()\n",
    "game = GameSim(rule=rule)\n",
    "agent = MCTSAgent()\n",
    "\n",
    "np.random.seed(1)\n",
    "game.init_from_cards(hands=deal_random_hand(), dealer=NORTH)\n",
    "obs = game.get_observation()\n",
    "cards = convert_one_hot_encoded_cards_to_str_encoded_list(obs.hand)\n",
    "print(cards)\n",
    "trump = agent.action_trump(obs)\n",
    "game.action_trump(trump)\n",
    "\n",
    "while not game.is_done():\n",
    "    game.action_play_card(agent.action_play_card(game.get_observation()))\n",
    "\n",
    "print(game.state.points)\n"
   ]
  },
  {
   "cell_type": "code",
   "execution_count": 146,
   "id": "f63a4cc6-fdc7-4568-a53d-781f18ce89bf",
   "metadata": {},
   "outputs": [
    {
     "name": "stdout",
     "output_type": "stream",
     "text": [
      "[........................................]  100/ 100 games played\n",
      "Team 0 (MCTSAgent) Total Points: 7551.0\n",
      "Team 1 (MyAgent) Total Points: 8149.0\n",
      "Team 0 (MCTSAgent) Wins: 42\n",
      "Team 1 (MyAgent) Wins: 58\n"
     ]
    }
   ],
   "source": [
    "from jass.arena.arena import Arena\n",
    "\n",
    "# Assume MCTSAgent and MyAgent are already defined and implemented\n",
    "\n",
    "# Define the number of games to simulate\n",
    "num_games = 100\n",
    "\n",
    "# Initialize the Arena\n",
    "arena = Arena(nr_games_to_play=num_games)\n",
    "\n",
    "# Set up the players: Teams 0 and 1 each have 2 players\n",
    "# Here, team 0 consists of MCTSAgent, and team 1 consists of MyAgent\n",
    "arena.set_players(MCTSAgent(), MyAgent(), MCTSAgent(), MyAgent())\n",
    "\n",
    "# Play all the games\n",
    "arena.play_all_games()\n",
    "\n",
    "# Retrieve and display the points scored by each team across all games\n",
    "team_0_points = arena.points_team_0.sum()\n",
    "team_1_points = arena.points_team_1.sum()\n",
    "\n",
    "print(f\"Team 0 (MCTSAgent) Total Points: {team_0_points}\")\n",
    "print(f\"Team 1 (MyAgent) Total Points: {team_1_points}\")\n",
    "\n",
    "# Optionally, you can calculate win ratios\n",
    "team_0_wins = (arena.points_team_0 > arena.points_team_1).sum()\n",
    "team_1_wins = (arena.points_team_1 > arena.points_team_0).sum()\n",
    "\n",
    "print(f\"Team 0 (MCTSAgent) Wins: {team_0_wins}\")\n",
    "print(f\"Team 1 (MyAgent) Wins: {team_1_wins}\")\n"
   ]
  },
  {
   "cell_type": "code",
   "execution_count": null,
   "id": "02668856-190d-40cb-9f0c-aab60419ca11",
   "metadata": {},
   "outputs": [],
   "source": []
  },
  {
   "cell_type": "code",
   "execution_count": null,
   "id": "a3392fea-5456-46ee-92ee-cc2b05b5e2e4",
   "metadata": {},
   "outputs": [],
   "source": []
  },
  {
   "cell_type": "code",
   "execution_count": null,
   "id": "85beae48-6a1b-4ab7-9675-7875a1a7125f",
   "metadata": {},
   "outputs": [],
   "source": []
  },
  {
   "cell_type": "code",
   "execution_count": null,
   "id": "8b2524e8-f774-49bd-9523-5c9ec58ddd39",
   "metadata": {},
   "outputs": [],
   "source": []
  }
 ],
 "metadata": {
  "kernelspec": {
   "display_name": "Python 3 (ipykernel)",
   "language": "python",
   "name": "python3"
  },
  "language_info": {
   "codemirror_mode": {
    "name": "ipython",
    "version": 3
   },
   "file_extension": ".py",
   "mimetype": "text/x-python",
   "name": "python",
   "nbconvert_exporter": "python",
   "pygments_lexer": "ipython3",
   "version": "3.12.4"
  }
 },
 "nbformat": 4,
 "nbformat_minor": 5
}
